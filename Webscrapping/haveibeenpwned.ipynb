{
  "nbformat": 4,
  "nbformat_minor": 0,
  "metadata": {
    "colab": {
      "provenance": [],
      "authorship_tag": "ABX9TyPhZGFW431ZWX+gNeb8nnpq",
      "include_colab_link": true
    },
    "kernelspec": {
      "name": "python3",
      "display_name": "Python 3"
    },
    "language_info": {
      "name": "python"
    }
  },
  "cells": [
    {
      "cell_type": "markdown",
      "metadata": {
        "id": "view-in-github",
        "colab_type": "text"
      },
      "source": [
        "<a href=\"https://colab.research.google.com/github/imvickykumar999/SQL-Injection/blob/main/haveibeenpwned.ipynb\" target=\"_parent\"><img src=\"https://colab.research.google.com/assets/colab-badge.svg\" alt=\"Open In Colab\"/></a>"
      ]
    },
    {
      "cell_type": "code",
      "execution_count": 1,
      "metadata": {
        "id": "QWNwb0NoYdV_"
      },
      "outputs": [],
      "source": [
        "import requests\n",
        "from bs4 import BeautifulSoup as bs\n",
        "\n",
        "link = 'https://haveibeenpwned.com/'\n",
        "PwnedWebsites = 'PwnedWebsites'\n",
        "req = requests.get(link + PwnedWebsites)\n",
        "\n",
        "soup = bs(req.content, 'html5lib')\n",
        "box = soup.findAll('div', attrs = {'class':'row'})\n",
        "# box"
      ]
    },
    {
      "cell_type": "code",
      "source": [
        "len(box)"
      ],
      "metadata": {
        "colab": {
          "base_uri": "https://localhost:8080/"
        },
        "id": "MKDg8x3OYhiG",
        "outputId": "430a1732-a5d6-4cf3-8bd1-5a7a08a580aa"
      },
      "execution_count": 2,
      "outputs": [
        {
          "output_type": "execute_result",
          "data": {
            "text/plain": [
              "667"
            ]
          },
          "metadata": {},
          "execution_count": 2
        }
      ]
    },
    {
      "cell_type": "code",
      "source": [
        "box[0]"
      ],
      "metadata": {
        "colab": {
          "base_uri": "https://localhost:8080/"
        },
        "id": "fib9Idx0Yozi",
        "outputId": "47afef7f-533d-498c-c2e4-2cb995701d8f"
      },
      "execution_count": 3,
      "outputs": [
        {
          "output_type": "execute_result",
          "data": {
            "text/plain": [
              "<div class=\"row\">\n",
              "<div class=\"col-sm-2\">\n",
              "<img alt=\"000webhost logo\" class=\"pwnLogo large\" src=\"/Content/Images/PwnedLogos/000webhost.png\"/>\n",
              "</div>\n",
              "<div class=\"col-sm-10\">\n",
              "<h3>\n",
              "000webhost\n",
              "</h3>\n",
              "<p>In approximately March 2015, the free web hosting provider <a href=\"https://www.troyhunt.com/2015/10/breaches-traders-plain-text-passwords.html\" rel=\"noopener\" target=\"_blank\">000webhost suffered a major data breach</a> that exposed almost 15 million customer records. The data was sold and traded before 000webhost was alerted in October. The breach included names, email addresses and plain text passwords.</p>\n",
              "<p>\n",
              "<strong>Breach date:</strong> 1 March 2015<br/>\n",
              "<strong>Date added to HIBP:</strong> 26 October 2015<br/>\n",
              "<strong>Compromised accounts:</strong> 14,936,670<br/>\n",
              "<strong>Compromised data:</strong> Email addresses, IP addresses, Names, Passwords<br/>\n",
              "<a href=\"#000webhost\">Permalink</a>\n",
              "</p>\n",
              "</div>\n",
              "</div>"
            ]
          },
          "metadata": {},
          "execution_count": 3
        }
      ]
    },
    {
      "cell_type": "code",
      "source": [
        "image = box[0].findAll('div', attrs = {'class':'col-sm-2'})[0].img['src']\n",
        "print(link + image)"
      ],
      "metadata": {
        "colab": {
          "base_uri": "https://localhost:8080/"
        },
        "id": "swF82sFpYqRK",
        "outputId": "4af9efa8-43b5-4504-fc42-b6947d36d2d4"
      },
      "execution_count": 4,
      "outputs": [
        {
          "output_type": "stream",
          "name": "stdout",
          "text": [
            "https://haveibeenpwned.com//Content/Images/PwnedLogos/000webhost.png\n"
          ]
        }
      ]
    },
    {
      "cell_type": "code",
      "source": [
        "para = box[0].findAll('div', attrs = {'class':'col-sm-10'})[0]\n",
        "para"
      ],
      "metadata": {
        "colab": {
          "base_uri": "https://localhost:8080/"
        },
        "id": "QMAwZvjFYsoT",
        "outputId": "848d6e42-a152-4bff-8de0-fd9a2cd03cb0"
      },
      "execution_count": 5,
      "outputs": [
        {
          "output_type": "execute_result",
          "data": {
            "text/plain": [
              "<div class=\"col-sm-10\">\n",
              "<h3>\n",
              "000webhost\n",
              "</h3>\n",
              "<p>In approximately March 2015, the free web hosting provider <a href=\"https://www.troyhunt.com/2015/10/breaches-traders-plain-text-passwords.html\" rel=\"noopener\" target=\"_blank\">000webhost suffered a major data breach</a> that exposed almost 15 million customer records. The data was sold and traded before 000webhost was alerted in October. The breach included names, email addresses and plain text passwords.</p>\n",
              "<p>\n",
              "<strong>Breach date:</strong> 1 March 2015<br/>\n",
              "<strong>Date added to HIBP:</strong> 26 October 2015<br/>\n",
              "<strong>Compromised accounts:</strong> 14,936,670<br/>\n",
              "<strong>Compromised data:</strong> Email addresses, IP addresses, Names, Passwords<br/>\n",
              "<a href=\"#000webhost\">Permalink</a>\n",
              "</p>\n",
              "</div>"
            ]
          },
          "metadata": {},
          "execution_count": 5
        }
      ]
    },
    {
      "cell_type": "code",
      "source": [
        "para.h3.text.strip()"
      ],
      "metadata": {
        "colab": {
          "base_uri": "https://localhost:8080/",
          "height": 35
        },
        "id": "-VcAUHIGYvFH",
        "outputId": "215cc618-c4f3-47f7-e799-471775ebde2e"
      },
      "execution_count": 6,
      "outputs": [
        {
          "output_type": "execute_result",
          "data": {
            "text/plain": [
              "'000webhost'"
            ],
            "application/vnd.google.colaboratory.intrinsic+json": {
              "type": "string"
            }
          },
          "metadata": {},
          "execution_count": 6
        }
      ]
    },
    {
      "cell_type": "code",
      "source": [
        "p_list = box[0].findAll('p')\n",
        "p_list"
      ],
      "metadata": {
        "colab": {
          "base_uri": "https://localhost:8080/"
        },
        "id": "rmcYiitRYy5k",
        "outputId": "9120aa6f-25dd-4599-ccfc-95ad2bd96aa1"
      },
      "execution_count": 7,
      "outputs": [
        {
          "output_type": "execute_result",
          "data": {
            "text/plain": [
              "[<p>In approximately March 2015, the free web hosting provider <a href=\"https://www.troyhunt.com/2015/10/breaches-traders-plain-text-passwords.html\" rel=\"noopener\" target=\"_blank\">000webhost suffered a major data breach</a> that exposed almost 15 million customer records. The data was sold and traded before 000webhost was alerted in October. The breach included names, email addresses and plain text passwords.</p>,\n",
              " <p>\n",
              " <strong>Breach date:</strong> 1 March 2015<br/>\n",
              " <strong>Date added to HIBP:</strong> 26 October 2015<br/>\n",
              " <strong>Compromised accounts:</strong> 14,936,670<br/>\n",
              " <strong>Compromised data:</strong> Email addresses, IP addresses, Names, Passwords<br/>\n",
              " <a href=\"#000webhost\">Permalink</a>\n",
              " </p>]"
            ]
          },
          "metadata": {},
          "execution_count": 7
        }
      ]
    },
    {
      "cell_type": "code",
      "source": [
        "p_list[0].text"
      ],
      "metadata": {
        "colab": {
          "base_uri": "https://localhost:8080/",
          "height": 87
        },
        "id": "CZXYBvdFY0XX",
        "outputId": "198b39de-4b93-4c77-8efd-1f7c1465c701"
      },
      "execution_count": 8,
      "outputs": [
        {
          "output_type": "execute_result",
          "data": {
            "text/plain": [
              "'In approximately March 2015, the free web hosting provider 000webhost suffered a major data breach that exposed almost 15 million customer records. The data was sold and traded before 000webhost was alerted in October. The breach included names, email addresses and plain text passwords.'"
            ],
            "application/vnd.google.colaboratory.intrinsic+json": {
              "type": "string"
            }
          },
          "metadata": {},
          "execution_count": 8
        }
      ]
    },
    {
      "cell_type": "code",
      "source": [
        "details = p_list[1].text\n",
        "print(details)"
      ],
      "metadata": {
        "colab": {
          "base_uri": "https://localhost:8080/"
        },
        "id": "WRSJW_YGY2Ba",
        "outputId": "aaef0bec-9a6a-4e6f-f868-22ecc6427b57"
      },
      "execution_count": 9,
      "outputs": [
        {
          "output_type": "stream",
          "name": "stdout",
          "text": [
            "\n",
            "Breach date: 1 March 2015\n",
            "Date added to HIBP: 26 October 2015\n",
            "Compromised accounts: 14,936,670\n",
            "Compromised data: Email addresses, IP addresses, Names, Passwords\n",
            "Permalink\n",
            "\n"
          ]
        }
      ]
    },
    {
      "cell_type": "code",
      "source": [
        "print(link + PwnedWebsites + box[0].findAll('p')[1].a['href'])"
      ],
      "metadata": {
        "colab": {
          "base_uri": "https://localhost:8080/"
        },
        "id": "BPjLc1ncY3vB",
        "outputId": "b1ab153a-c430-433c-ecfc-301cb1b6a8a5"
      },
      "execution_count": 11,
      "outputs": [
        {
          "output_type": "stream",
          "name": "stdout",
          "text": [
            "https://haveibeenpwned.com/PwnedWebsites#000webhost\n"
          ]
        }
      ]
    },
    {
      "cell_type": "code",
      "source": [
        "box[0].findAll('p')[1].text.split('\\n')[1].split(': ')[1]"
      ],
      "metadata": {
        "colab": {
          "base_uri": "https://localhost:8080/",
          "height": 35
        },
        "id": "4Oh4OW5SbO20",
        "outputId": "c8f08900-3a9c-4f8e-9eec-7cf934ee725a"
      },
      "execution_count": 24,
      "outputs": [
        {
          "output_type": "execute_result",
          "data": {
            "text/plain": [
              "'1 March 2015'"
            ],
            "application/vnd.google.colaboratory.intrinsic+json": {
              "type": "string"
            }
          },
          "metadata": {},
          "execution_count": 24
        }
      ]
    },
    {
      "cell_type": "code",
      "source": [
        "on_date1 = box[0].findAll('p')[1].text.split('\\n')[1].split(': ')[1]\n",
        "on_date2 = box[1].findAll('p')[1].text.split('\\n')[1].split(': ')[1]\n",
        "on_date1, on_date2"
      ],
      "metadata": {
        "colab": {
          "base_uri": "https://localhost:8080/"
        },
        "id": "mpW5K8lpY582",
        "outputId": "26f41ff1-b938-4422-92c8-1818e3a8d870"
      },
      "execution_count": 25,
      "outputs": [
        {
          "output_type": "execute_result",
          "data": {
            "text/plain": [
              "('1 March 2015', '22 March 2020')"
            ]
          },
          "metadata": {},
          "execution_count": 25
        }
      ]
    },
    {
      "cell_type": "code",
      "source": [
        "from dateutil import parser\n",
        "\n",
        "DT1 = parser.parse(on_date1)\n",
        "DT2 = parser.parse(on_date2)"
      ],
      "metadata": {
        "id": "aSIWtRpkZcJA"
      },
      "execution_count": 26,
      "outputs": []
    },
    {
      "cell_type": "code",
      "source": [
        "sorted([DT2,DT1])"
      ],
      "metadata": {
        "colab": {
          "base_uri": "https://localhost:8080/"
        },
        "id": "KI0hTTqmaekn",
        "outputId": "0314d5af-859b-4992-e0f0-2b7dc38b0092"
      },
      "execution_count": 29,
      "outputs": [
        {
          "output_type": "execute_result",
          "data": {
            "text/plain": [
              "[datetime.datetime(2015, 3, 1, 0, 0), datetime.datetime(2020, 3, 22, 0, 0)]"
            ]
          },
          "metadata": {},
          "execution_count": 29
        }
      ]
    },
    {
      "cell_type": "code",
      "source": [
        "# So, if your password is now known, hackers might try that same password against your email address, \n",
        "# your PayPal account, your Amazon account, and all many of other online resources."
      ],
      "metadata": {
        "id": "7q5vgiqfcbKB"
      },
      "execution_count": 39,
      "outputs": []
    },
    {
      "cell_type": "code",
      "source": [
        "from IPython.core.display import display, HTML\n",
        "hash_text = box[0].findAll('p')[1].a['href']\n",
        "company = link + PwnedWebsites + hash_text\n",
        "display(HTML(f'''<a href={company}>{hash_text.split('#')[1]}</a>'''))"
      ],
      "metadata": {
        "colab": {
          "base_uri": "https://localhost:8080/",
          "height": 34
        },
        "id": "SDUhPINxebhs",
        "outputId": "deb49d4f-7770-419f-9ea5-4c7169a57105"
      },
      "execution_count": 62,
      "outputs": [
        {
          "output_type": "display_data",
          "data": {
            "text/plain": [
              "<IPython.core.display.HTML object>"
            ],
            "text/html": [
              "<a href=https://haveibeenpwned.com/PwnedWebsites#000webhost>000webhost</a>"
            ]
          },
          "metadata": {}
        }
      ]
    },
    {
      "cell_type": "code",
      "source": [
        "from dateutil import parser\n",
        "dictails = {}\n",
        "\n",
        "for i in range(len(box)):\n",
        "  try:\n",
        "    on_date = box[i].findAll('p')[1].text.split('\\n')[1].split(': ')[1]\n",
        "    on_date = parser.parse(on_date)\n",
        "\n",
        "    hacked_no = box[i].findAll('p')[1].text.split('\\n')[3].split(': ')[1]\n",
        "    hash_text = box[i].findAll('p')[1].a['href']\n",
        "    company = link + PwnedWebsites + hash_text\n",
        "\n",
        "    key = box[i].findAll('div', attrs = {'class':'col-sm-10'})[0].h3.text.strip()\n",
        "    display(HTML(f'''<a href={company}>{hash_text.split('#')[1]}</a>'''))\n",
        "\n",
        "    to_update = {key : (on_date, hacked_no)}\n",
        "    print(to_update, end='\\n\\n')\n",
        "    dictails.update(to_update)\n",
        "    \n",
        "  except Exception as e:\n",
        "    pass\n",
        "    # print(e)"
      ],
      "metadata": {
        "colab": {
          "base_uri": "https://localhost:8080/",
          "height": 1000
        },
        "id": "HAmiRMhGfWQm",
        "outputId": "2accf85a-a93f-4409-ed47-419595b9ec90"
      },
      "execution_count": 65,
      "outputs": [
        {
          "output_type": "display_data",
          "data": {
            "text/plain": [
              "<IPython.core.display.HTML object>"
            ],
            "text/html": [
              "<a href=https://haveibeenpwned.com/PwnedWebsites#000webhost>000webhost</a>"
            ]
          },
          "metadata": {}
        },
        {
          "output_type": "stream",
          "name": "stdout",
          "text": [
            "{'000webhost': (datetime.datetime(2015, 3, 1, 0, 0), '14,936,670')}\n",
            "\n"
          ]
        },
        {
          "output_type": "display_data",
          "data": {
            "text/plain": [
              "<IPython.core.display.HTML object>"
            ],
            "text/html": [
              "<a href=https://haveibeenpwned.com/PwnedWebsites#123RF>123RF</a>"
            ]
          },
          "metadata": {}
        },
        {
          "output_type": "stream",
          "name": "stdout",
          "text": [
            "{'123RF': (datetime.datetime(2020, 3, 22, 0, 0), '8,661,578')}\n",
            "\n"
          ]
        },
        {
          "output_type": "display_data",
          "data": {
            "text/plain": [
              "<IPython.core.display.HTML object>"
            ],
            "text/html": [
              "<a href=https://haveibeenpwned.com/PwnedWebsites#126>126</a>"
            ]
          },
          "metadata": {}
        },
        {
          "output_type": "stream",
          "name": "stdout",
          "text": [
            "{'126': (datetime.datetime(2012, 1, 1, 0, 0), '6,414,191')}\n",
            "\n"
          ]
        },
        {
          "output_type": "display_data",
          "data": {
            "text/plain": [
              "<IPython.core.display.HTML object>"
            ],
            "text/html": [
              "<a href=https://haveibeenpwned.com/PwnedWebsites#17Media>17Media</a>"
            ]
          },
          "metadata": {}
        },
        {
          "output_type": "stream",
          "name": "stdout",
          "text": [
            "{'17': (datetime.datetime(2016, 4, 19, 0, 0), '4,009,640')}\n",
            "\n"
          ]
        },
        {
          "output_type": "display_data",
          "data": {
            "text/plain": [
              "<IPython.core.display.HTML object>"
            ],
            "text/html": [
              "<a href=https://haveibeenpwned.com/PwnedWebsites#17173>17173</a>"
            ]
          },
          "metadata": {}
        },
        {
          "output_type": "stream",
          "name": "stdout",
          "text": [
            "{'17173': (datetime.datetime(2011, 12, 28, 0, 0), '7,485,802')}\n",
            "\n"
          ]
        },
        {
          "output_type": "display_data",
          "data": {
            "text/plain": [
              "<IPython.core.display.HTML object>"
            ],
            "text/html": [
              "<a href=https://haveibeenpwned.com/PwnedWebsites#2844Breaches>2844Breaches</a>"
            ]
          },
          "metadata": {}
        },
        {
          "output_type": "stream",
          "name": "stdout",
          "text": [
            "{'2,844 Separate Data Breaches': (datetime.datetime(2018, 2, 19, 0, 0), '80,115,532')}\n",
            "\n"
          ]
        },
        {
          "output_type": "display_data",
          "data": {
            "text/plain": [
              "<IPython.core.display.HTML object>"
            ],
            "text/html": [
              "<a href=https://haveibeenpwned.com/PwnedWebsites#2fast4u>2fast4u</a>"
            ]
          },
          "metadata": {}
        },
        {
          "output_type": "stream",
          "name": "stdout",
          "text": [
            "{'2fast4u': (datetime.datetime(2017, 12, 20, 0, 0), '17,706')}\n",
            "\n"
          ]
        },
        {
          "output_type": "display_data",
          "data": {
            "text/plain": [
              "<IPython.core.display.HTML object>"
            ],
            "text/html": [
              "<a href=https://haveibeenpwned.com/PwnedWebsites#500px>500px</a>"
            ]
          },
          "metadata": {}
        },
        {
          "output_type": "stream",
          "name": "stdout",
          "text": [
            "{'500px': (datetime.datetime(2018, 7, 5, 0, 0), '14,867,999')}\n",
            "\n"
          ]
        },
        {
          "output_type": "display_data",
          "data": {
            "text/plain": [
              "<IPython.core.display.HTML object>"
            ],
            "text/html": [
              "<a href=https://haveibeenpwned.com/PwnedWebsites#7k7k>7k7k</a>"
            ]
          },
          "metadata": {}
        },
        {
          "output_type": "stream",
          "name": "stdout",
          "text": [
            "{'7k7k': (datetime.datetime(2011, 1, 1, 0, 0), '9,121,434')}\n",
            "\n"
          ]
        },
        {
          "output_type": "display_data",
          "data": {
            "text/plain": [
              "<IPython.core.display.HTML object>"
            ],
            "text/html": [
              "<a href=https://haveibeenpwned.com/PwnedWebsites#8fit>8fit</a>"
            ]
          },
          "metadata": {}
        },
        {
          "output_type": "stream",
          "name": "stdout",
          "text": [
            "{'8fit': (datetime.datetime(2018, 7, 1, 0, 0), '15,025,407')}\n",
            "\n"
          ]
        },
        {
          "output_type": "display_data",
          "data": {
            "text/plain": [
              "<IPython.core.display.HTML object>"
            ],
            "text/html": [
              "<a href=https://haveibeenpwned.com/PwnedWebsites#8tracks>8tracks</a>"
            ]
          },
          "metadata": {}
        },
        {
          "output_type": "stream",
          "name": "stdout",
          "text": [
            "{'8tracks': (datetime.datetime(2017, 6, 27, 0, 0), '17,979,961')}\n",
            "\n"
          ]
        },
        {
          "output_type": "display_data",
          "data": {
            "text/plain": [
              "<IPython.core.display.HTML object>"
            ],
            "text/html": [
              "<a href=https://haveibeenpwned.com/PwnedWebsites#Abandonia>Abandonia</a>"
            ]
          },
          "metadata": {}
        },
        {
          "output_type": "stream",
          "name": "stdout",
          "text": [
            "{'Abandonia (2015)': (datetime.datetime(2015, 11, 1, 0, 0), '776,125')}\n",
            "\n"
          ]
        },
        {
          "output_type": "display_data",
          "data": {
            "text/plain": [
              "<IPython.core.display.HTML object>"
            ],
            "text/html": [
              "<a href=https://haveibeenpwned.com/PwnedWebsites#Abandonia2022>Abandonia2022</a>"
            ]
          },
          "metadata": {}
        },
        {
          "output_type": "stream",
          "name": "stdout",
          "text": [
            "{'Abandonia (2022)': (datetime.datetime(2022, 11, 15, 0, 0), '919,790')}\n",
            "\n"
          ]
        },
        {
          "output_type": "display_data",
          "data": {
            "text/plain": [
              "<IPython.core.display.HTML object>"
            ],
            "text/html": [
              "<a href=https://haveibeenpwned.com/PwnedWebsites#AbuseWithUs>AbuseWithUs</a>"
            ]
          },
          "metadata": {}
        },
        {
          "output_type": "stream",
          "name": "stdout",
          "text": [
            "{'AbuseWith.Us': (datetime.datetime(2016, 7, 1, 0, 0), '1,372,550')}\n",
            "\n"
          ]
        },
        {
          "output_type": "display_data",
          "data": {
            "text/plain": [
              "<IPython.core.display.HTML object>"
            ],
            "text/html": [
              "<a href=https://haveibeenpwned.com/PwnedWebsites#AcneOrg>AcneOrg</a>"
            ]
          },
          "metadata": {}
        },
        {
          "output_type": "stream",
          "name": "stdout",
          "text": [
            "{'Acne.org': (datetime.datetime(2014, 11, 25, 0, 0), '432,943')}\n",
            "\n"
          ]
        },
        {
          "output_type": "display_data",
          "data": {
            "text/plain": [
              "<IPython.core.display.HTML object>"
            ],
            "text/html": [
              "<a href=https://haveibeenpwned.com/PwnedWebsites#ActMobile>ActMobile</a>"
            ]
          },
          "metadata": {}
        },
        {
          "output_type": "stream",
          "name": "stdout",
          "text": [
            "{'ActMobile': (datetime.datetime(2021, 10, 8, 0, 0), '1,583,193')}\n",
            "\n"
          ]
        },
        {
          "output_type": "display_data",
          "data": {
            "text/plain": [
              "<IPython.core.display.HTML object>"
            ],
            "text/html": [
              "<a href=https://haveibeenpwned.com/PwnedWebsites#Adapt>Adapt</a>"
            ]
          },
          "metadata": {}
        },
        {
          "output_type": "stream",
          "name": "stdout",
          "text": [
            "{'Adapt': (datetime.datetime(2018, 11, 5, 0, 0), '9,363,740')}\n",
            "\n"
          ]
        },
        {
          "output_type": "display_data",
          "data": {
            "text/plain": [
              "<IPython.core.display.HTML object>"
            ],
            "text/html": [
              "<a href=https://haveibeenpwned.com/PwnedWebsites#Adecco>Adecco</a>"
            ]
          },
          "metadata": {}
        },
        {
          "output_type": "stream",
          "name": "stdout",
          "text": [
            "{'Adecco': (datetime.datetime(2021, 1, 3, 0, 0), '4,284,538')}\n",
            "\n"
          ]
        },
        {
          "output_type": "display_data",
          "data": {
            "text/plain": [
              "<IPython.core.display.HTML object>"
            ],
            "text/html": [
              "<a href=https://haveibeenpwned.com/PwnedWebsites#ABFRL>ABFRL</a>"
            ]
          },
          "metadata": {}
        },
        {
          "output_type": "stream",
          "name": "stdout",
          "text": [
            "{'Aditya Birla Fashion and Retail': (datetime.datetime(2021, 12, 1, 0, 0), '5,470,063')}\n",
            "\n"
          ]
        },
        {
          "output_type": "display_data",
          "data": {
            "text/plain": [
              "<IPython.core.display.HTML object>"
            ],
            "text/html": [
              "<a href=https://haveibeenpwned.com/PwnedWebsites#Adobe>Adobe</a>"
            ]
          },
          "metadata": {}
        },
        {
          "output_type": "stream",
          "name": "stdout",
          "text": [
            "{'Adobe': (datetime.datetime(2013, 10, 4, 0, 0), '152,445,165')}\n",
            "\n"
          ]
        },
        {
          "output_type": "display_data",
          "data": {
            "text/plain": [
              "<IPython.core.display.HTML object>"
            ],
            "text/html": [
              "<a href=https://haveibeenpwned.com/PwnedWebsites#AdultFriendFinder>AdultFriendFinder</a>"
            ]
          },
          "metadata": {}
        },
        {
          "output_type": "stream",
          "name": "stdout",
          "text": [
            "{'Adult FriendFinder (2015)': (datetime.datetime(2015, 5, 21, 0, 0), '3,867,997')}\n",
            "\n"
          ]
        },
        {
          "output_type": "display_data",
          "data": {
            "text/plain": [
              "<IPython.core.display.HTML object>"
            ],
            "text/html": [
              "<a href=https://haveibeenpwned.com/PwnedWebsites#AdultFriendFinder2016>AdultFriendFinder2016</a>"
            ]
          },
          "metadata": {}
        },
        {
          "output_type": "stream",
          "name": "stdout",
          "text": [
            "{'Adult FriendFinder (2016)': (datetime.datetime(2016, 10, 16, 0, 0), '169,746,810')}\n",
            "\n"
          ]
        },
        {
          "output_type": "display_data",
          "data": {
            "text/plain": [
              "<IPython.core.display.HTML object>"
            ],
            "text/html": [
              "<a href=https://haveibeenpwned.com/PwnedWebsites#AdultFanFiction>AdultFanFiction</a>"
            ]
          },
          "metadata": {}
        },
        {
          "output_type": "stream",
          "name": "stdout",
          "text": [
            "{'Adult-FanFiction.Org': (datetime.datetime(2018, 5, 30, 0, 0), '186,082')}\n",
            "\n"
          ]
        },
        {
          "output_type": "display_data",
          "data": {
            "text/plain": [
              "<IPython.core.display.HTML object>"
            ],
            "text/html": [
              "<a href=https://haveibeenpwned.com/PwnedWebsites#AerServ>AerServ</a>"
            ]
          },
          "metadata": {}
        },
        {
          "output_type": "stream",
          "name": "stdout",
          "text": [
            "{'AerServ': (datetime.datetime(2018, 4, 1, 0, 0), '66,308')}\n",
            "\n"
          ]
        },
        {
          "output_type": "display_data",
          "data": {
            "text/plain": [
              "<IPython.core.display.HTML object>"
            ],
            "text/html": [
              "<a href=https://haveibeenpwned.com/PwnedWebsites#AgusiQTorrents>AgusiQTorrents</a>"
            ]
          },
          "metadata": {}
        },
        {
          "output_type": "stream",
          "name": "stdout",
          "text": [
            "{'AgusiQ-Torrents.pl': (datetime.datetime(2019, 9, 24, 0, 0), '90,478')}\n",
            "\n"
          ]
        },
        {
          "output_type": "display_data",
          "data": {
            "text/plain": [
              "<IPython.core.display.HTML object>"
            ],
            "text/html": [
              "<a href=https://haveibeenpwned.com/PwnedWebsites#AhaShare>AhaShare</a>"
            ]
          },
          "metadata": {}
        },
        {
          "output_type": "stream",
          "name": "stdout",
          "text": [
            "{'AhaShare.com': (datetime.datetime(2013, 5, 30, 0, 0), '180,468')}\n",
            "\n"
          ]
        },
        {
          "output_type": "display_data",
          "data": {
            "text/plain": [
              "<IPython.core.display.HTML object>"
            ],
            "text/html": [
              "<a href=https://haveibeenpwned.com/PwnedWebsites#AIType>AIType</a>"
            ]
          },
          "metadata": {}
        },
        {
          "output_type": "stream",
          "name": "stdout",
          "text": [
            "{'ai.type': (datetime.datetime(2017, 12, 5, 0, 0), '20,580,060')}\n",
            "\n"
          ]
        },
        {
          "output_type": "display_data",
          "data": {
            "text/plain": [
              "<IPython.core.display.HTML object>"
            ],
            "text/html": [
              "<a href=https://haveibeenpwned.com/PwnedWebsites#Aimware>Aimware</a>"
            ]
          },
          "metadata": {}
        },
        {
          "output_type": "stream",
          "name": "stdout",
          "text": [
            "{'Aimware': (datetime.datetime(2019, 4, 28, 0, 0), '305,470')}\n",
            "\n"
          ]
        },
        {
          "output_type": "display_data",
          "data": {
            "text/plain": [
              "<IPython.core.display.HTML object>"
            ],
            "text/html": [
              "<a href=https://haveibeenpwned.com/PwnedWebsites#Aipai>Aipai</a>"
            ]
          },
          "metadata": {}
        },
        {
          "output_type": "stream",
          "name": "stdout",
          "text": [
            "{'Aipai.com': (datetime.datetime(2016, 9, 27, 0, 0), '6,496,778')}\n",
            "\n"
          ]
        },
        {
          "output_type": "display_data",
          "data": {
            "text/plain": [
              "<IPython.core.display.HTML object>"
            ],
            "text/html": [
              "<a href=https://haveibeenpwned.com/PwnedWebsites#Ajarn>Ajarn</a>"
            ]
          },
          "metadata": {}
        },
        {
          "output_type": "stream",
          "name": "stdout",
          "text": [
            "{'Ajarn': (datetime.datetime(2018, 12, 13, 0, 0), '266,399')}\n",
            "\n"
          ]
        },
        {
          "output_type": "display_data",
          "data": {
            "text/plain": [
              "<IPython.core.display.HTML object>"
            ],
            "text/html": [
              "<a href=https://haveibeenpwned.com/PwnedWebsites#AKP>AKP</a>"
            ]
          },
          "metadata": {}
        },
        {
          "output_type": "stream",
          "name": "stdout",
          "text": [
            "{'AKP Emails': (datetime.datetime(2016, 7, 19, 0, 0), '917,461')}\n",
            "\n"
          ]
        },
        {
          "output_type": "display_data",
          "data": {
            "text/plain": [
              "<IPython.core.display.HTML object>"
            ],
            "text/html": [
              "<a href=https://haveibeenpwned.com/PwnedWebsites#AmartFurniture>AmartFurniture</a>"
            ]
          },
          "metadata": {}
        },
        {
          "output_type": "stream",
          "name": "stdout",
          "text": [
            "{'Amart Furniture': (datetime.datetime(2022, 5, 16, 0, 0), '108,940')}\n",
            "\n"
          ]
        },
        {
          "output_type": "display_data",
          "data": {
            "text/plain": [
              "<IPython.core.display.HTML object>"
            ],
            "text/html": [
              "<a href=https://haveibeenpwned.com/PwnedWebsites#Ancestry>Ancestry</a>"
            ]
          },
          "metadata": {}
        },
        {
          "output_type": "stream",
          "name": "stdout",
          "text": [
            "{'Ancestry': (datetime.datetime(2015, 11, 7, 0, 0), '297,806')}\n",
            "\n"
          ]
        },
        {
          "output_type": "display_data",
          "data": {
            "text/plain": [
              "<IPython.core.display.HTML object>"
            ],
            "text/html": [
              "<a href=https://haveibeenpwned.com/PwnedWebsites#AndroidForums>AndroidForums</a>"
            ]
          },
          "metadata": {}
        },
        {
          "output_type": "stream",
          "name": "stdout",
          "text": [
            "{'Android Forums': (datetime.datetime(2011, 10, 30, 0, 0), '745,355')}\n",
            "\n"
          ]
        },
        {
          "output_type": "display_data",
          "data": {
            "text/plain": [
              "<IPython.core.display.HTML object>"
            ],
            "text/html": [
              "<a href=https://haveibeenpwned.com/PwnedWebsites#AnimalJam>AnimalJam</a>"
            ]
          },
          "metadata": {}
        },
        {
          "output_type": "stream",
          "name": "stdout",
          "text": [
            "{'Animal Jam': (datetime.datetime(2020, 10, 12, 0, 0), '7,104,998')}\n",
            "\n"
          ]
        },
        {
          "output_type": "display_data",
          "data": {
            "text/plain": [
              "<IPython.core.display.HTML object>"
            ],
            "text/html": [
              "<a href=https://haveibeenpwned.com/PwnedWebsites#AnimeGame>AnimeGame</a>"
            ]
          },
          "metadata": {}
        },
        {
          "output_type": "stream",
          "name": "stdout",
          "text": [
            "{'AnimeGame': (datetime.datetime(2020, 2, 27, 0, 0), '1,431,378')}\n",
            "\n"
          ]
        },
        {
          "output_type": "display_data",
          "data": {
            "text/plain": [
              "<IPython.core.display.HTML object>"
            ],
            "text/html": [
              "<a href=https://haveibeenpwned.com/PwnedWebsites#AnimePlanet>AnimePlanet</a>"
            ]
          },
          "metadata": {}
        },
        {
          "output_type": "stream",
          "name": "stdout",
          "text": [
            "{'Anime-Planet': (datetime.datetime(2016, 1, 1, 0, 0), '368,507')}\n",
            "\n"
          ]
        },
        {
          "output_type": "display_data",
          "data": {
            "text/plain": [
              "<IPython.core.display.HTML object>"
            ],
            "text/html": [
              "<a href=https://haveibeenpwned.com/PwnedWebsites#Animoto>Animoto</a>"
            ]
          },
          "metadata": {}
        },
        {
          "output_type": "stream",
          "name": "stdout",
          "text": [
            "{'Animoto': (datetime.datetime(2018, 7, 10, 0, 0), '22,437,749')}\n",
            "\n"
          ]
        },
        {
          "output_type": "display_data",
          "data": {
            "text/plain": [
              "<IPython.core.display.HTML object>"
            ],
            "text/html": [
              "<a href=https://haveibeenpwned.com/PwnedWebsites#AntiPublic>AntiPublic</a>"
            ]
          },
          "metadata": {}
        },
        {
          "output_type": "stream",
          "name": "stdout",
          "text": [
            "{'Anti Public Combo List': (datetime.datetime(2016, 12, 16, 0, 0), '457,962,538')}\n",
            "\n"
          ]
        },
        {
          "output_type": "display_data",
          "data": {
            "text/plain": [
              "<IPython.core.display.HTML object>"
            ],
            "text/html": [
              "<a href=https://haveibeenpwned.com/PwnedWebsites#Apollo>Apollo</a>"
            ]
          },
          "metadata": {}
        },
        {
          "output_type": "stream",
          "name": "stdout",
          "text": [
            "{'Apollo': (datetime.datetime(2018, 7, 23, 0, 0), '125,929,660')}\n",
            "\n"
          ]
        },
        {
          "output_type": "display_data",
          "data": {
            "text/plain": [
              "<IPython.core.display.HTML object>"
            ],
            "text/html": [
              "<a href=https://haveibeenpwned.com/PwnedWebsites#Appartoo>Appartoo</a>"
            ]
          },
          "metadata": {}
        },
        {
          "output_type": "stream",
          "name": "stdout",
          "text": [
            "{'Appartoo': (datetime.datetime(2017, 3, 25, 0, 0), '49,681')}\n",
            "\n"
          ]
        },
        {
          "output_type": "display_data",
          "data": {
            "text/plain": [
              "<IPython.core.display.HTML object>"
            ],
            "text/html": [
              "<a href=https://haveibeenpwned.com/PwnedWebsites#Appen>Appen</a>"
            ]
          },
          "metadata": {}
        },
        {
          "output_type": "stream",
          "name": "stdout",
          "text": [
            "{'Appen': (datetime.datetime(2020, 6, 22, 0, 0), '5,888,405')}\n",
            "\n"
          ]
        },
        {
          "output_type": "display_data",
          "data": {
            "text/plain": [
              "<IPython.core.display.HTML object>"
            ],
            "text/html": [
              "<a href=https://haveibeenpwned.com/PwnedWebsites#Aptoide>Aptoide</a>"
            ]
          },
          "metadata": {}
        },
        {
          "output_type": "stream",
          "name": "stdout",
          "text": [
            "{'Aptoide': (datetime.datetime(2020, 4, 13, 0, 0), '20,012,235')}\n",
            "\n"
          ]
        },
        {
          "output_type": "display_data",
          "data": {
            "text/plain": [
              "<IPython.core.display.HTML object>"
            ],
            "text/html": [
              "<a href=https://haveibeenpwned.com/PwnedWebsites#ArmorGames>ArmorGames</a>"
            ]
          },
          "metadata": {}
        },
        {
          "output_type": "stream",
          "name": "stdout",
          "text": [
            "{'Armor Games': (datetime.datetime(2019, 1, 1, 0, 0), '10,604,307')}\n",
            "\n"
          ]
        },
        {
          "output_type": "display_data",
          "data": {
            "text/plain": [
              "<IPython.core.display.HTML object>"
            ],
            "text/html": [
              "<a href=https://haveibeenpwned.com/PwnedWebsites#ArmyForceOnline>ArmyForceOnline</a>"
            ]
          },
          "metadata": {}
        },
        {
          "output_type": "stream",
          "name": "stdout",
          "text": [
            "{'Army Force Online': (datetime.datetime(2016, 5, 18, 0, 0), '1,531,235')}\n",
            "\n"
          ]
        },
        {
          "output_type": "display_data",
          "data": {
            "text/plain": [
              "<IPython.core.display.HTML object>"
            ],
            "text/html": [
              "<a href=https://haveibeenpwned.com/PwnedWebsites#Artsy>Artsy</a>"
            ]
          },
          "metadata": {}
        },
        {
          "output_type": "stream",
          "name": "stdout",
          "text": [
            "{'Artsy': (datetime.datetime(2018, 4, 1, 0, 0), '1,079,970')}\n",
            "\n"
          ]
        },
        {
          "output_type": "display_data",
          "data": {
            "text/plain": [
              "<IPython.core.display.HTML object>"
            ],
            "text/html": [
              "<a href=https://haveibeenpwned.com/PwnedWebsites#Artvalue>Artvalue</a>"
            ]
          },
          "metadata": {}
        },
        {
          "output_type": "stream",
          "name": "stdout",
          "text": [
            "{'Artvalue': (datetime.datetime(2019, 6, 19, 0, 0), '157,692')}\n",
            "\n"
          ]
        },
        {
          "output_type": "display_data",
          "data": {
            "text/plain": [
              "<IPython.core.display.HTML object>"
            ],
            "text/html": [
              "<a href=https://haveibeenpwned.com/PwnedWebsites#AshleyMadison>AshleyMadison</a>"
            ]
          },
          "metadata": {}
        },
        {
          "output_type": "stream",
          "name": "stdout",
          "text": [
            "{'Ashley Madison': (datetime.datetime(2015, 7, 19, 0, 0), '30,811,934')}\n",
            "\n"
          ]
        },
        {
          "output_type": "display_data",
          "data": {
            "text/plain": [
              "<IPython.core.display.HTML object>"
            ],
            "text/html": [
              "<a href=https://haveibeenpwned.com/PwnedWebsites#AstroPID>AstroPID</a>"
            ]
          },
          "metadata": {}
        },
        {
          "output_type": "stream",
          "name": "stdout",
          "text": [
            "{'Astropid': (datetime.datetime(2013, 12, 19, 0, 0), '5,788')}\n",
            "\n"
          ]
        },
        {
          "output_type": "display_data",
          "data": {
            "text/plain": [
              "<IPython.core.display.HTML object>"
            ],
            "text/html": [
              "<a href=https://haveibeenpwned.com/PwnedWebsites#Aternos>Aternos</a>"
            ]
          },
          "metadata": {}
        },
        {
          "output_type": "stream",
          "name": "stdout",
          "text": [
            "{'Aternos': (datetime.datetime(2015, 12, 6, 0, 0), '1,436,486')}\n",
            "\n"
          ]
        },
        {
          "output_type": "display_data",
          "data": {
            "text/plain": [
              "<IPython.core.display.HTML object>"
            ],
            "text/html": [
              "<a href=https://haveibeenpwned.com/PwnedWebsites#AtlasQuantum>AtlasQuantum</a>"
            ]
          },
          "metadata": {}
        },
        {
          "output_type": "stream",
          "name": "stdout",
          "text": [
            "{'Atlas Quantum': (datetime.datetime(2018, 8, 25, 0, 0), '261,463')}\n",
            "\n"
          ]
        },
        {
          "output_type": "display_data",
          "data": {
            "text/plain": [
              "<IPython.core.display.HTML object>"
            ],
            "text/html": [
              "<a href=https://haveibeenpwned.com/PwnedWebsites#Audi>Audi</a>"
            ]
          },
          "metadata": {}
        },
        {
          "output_type": "stream",
          "name": "stdout",
          "text": [
            "{'Audi': (datetime.datetime(2019, 8, 14, 0, 0), '2,743,539')}\n",
            "\n"
          ]
        },
        {
          "output_type": "display_data",
          "data": {
            "text/plain": [
              "<IPython.core.display.HTML object>"
            ],
            "text/html": [
              "<a href=https://haveibeenpwned.com/PwnedWebsites#Autocentrum>Autocentrum</a>"
            ]
          },
          "metadata": {}
        },
        {
          "output_type": "stream",
          "name": "stdout",
          "text": [
            "{'Autocentrum.pl': (datetime.datetime(2018, 2, 4, 0, 0), '143,717')}\n",
            "\n"
          ]
        },
        {
          "output_type": "display_data",
          "data": {
            "text/plain": [
              "<IPython.core.display.HTML object>"
            ],
            "text/html": [
              "<a href=https://haveibeenpwned.com/PwnedWebsites#Autotrader>Autotrader</a>"
            ]
          },
          "metadata": {}
        },
        {
          "output_type": "stream",
          "name": "stdout",
          "text": [
            "{'Autotrader': (datetime.datetime(2023, 1, 6, 0, 0), '20,032')}\n",
            "\n"
          ]
        },
        {
          "output_type": "display_data",
          "data": {
            "text/plain": [
              "<IPython.core.display.HTML object>"
            ],
            "text/html": [
              "<a href=https://haveibeenpwned.com/PwnedWebsites#Avast>Avast</a>"
            ]
          },
          "metadata": {}
        },
        {
          "output_type": "stream",
          "name": "stdout",
          "text": [
            "{'Avast': (datetime.datetime(2014, 5, 26, 0, 0), '422,959')}\n",
            "\n"
          ]
        },
        {
          "output_type": "display_data",
          "data": {
            "text/plain": [
              "<IPython.core.display.HTML object>"
            ],
            "text/html": [
              "<a href=https://haveibeenpwned.com/PwnedWebsites#Avvo>Avvo</a>"
            ]
          },
          "metadata": {}
        },
        {
          "output_type": "stream",
          "name": "stdout",
          "text": [
            "{'Avvo': (datetime.datetime(2019, 12, 17, 0, 0), '4,101,101')}\n",
            "\n"
          ]
        },
        {
          "output_type": "display_data",
          "data": {
            "text/plain": [
              "<IPython.core.display.HTML object>"
            ],
            "text/html": [
              "<a href=https://haveibeenpwned.com/PwnedWebsites#B2BUSABusinesses>B2BUSABusinesses</a>"
            ]
          },
          "metadata": {}
        },
        {
          "output_type": "stream",
          "name": "stdout",
          "text": [
            "{'B2B USA Businesses': (datetime.datetime(2017, 7, 18, 0, 0), '105,059,554')}\n",
            "\n"
          ]
        },
        {
          "output_type": "display_data",
          "data": {
            "text/plain": [
              "<IPython.core.display.HTML object>"
            ],
            "text/html": [
              "<a href=https://haveibeenpwned.com/PwnedWebsites#BabyNames>BabyNames</a>"
            ]
          },
          "metadata": {}
        },
        {
          "output_type": "stream",
          "name": "stdout",
          "text": [
            "{'Baby Names': (datetime.datetime(2008, 10, 24, 0, 0), '846,742')}\n",
            "\n"
          ]
        },
        {
          "output_type": "display_data",
          "data": {
            "text/plain": [
              "<IPython.core.display.HTML object>"
            ],
            "text/html": [
              "<a href=https://haveibeenpwned.com/PwnedWebsites#Badoo>Badoo</a>"
            ]
          },
          "metadata": {}
        },
        {
          "output_type": "stream",
          "name": "stdout",
          "text": [
            "{'Badoo': (datetime.datetime(2013, 6, 1, 0, 0), '112,005,531')}\n",
            "\n"
          ]
        },
        {
          "output_type": "display_data",
          "data": {
            "text/plain": [
              "<IPython.core.display.HTML object>"
            ],
            "text/html": [
              "<a href=https://haveibeenpwned.com/PwnedWebsites#BannerBit>BannerBit</a>"
            ]
          },
          "metadata": {}
        },
        {
          "output_type": "stream",
          "name": "stdout",
          "text": [
            "{'BannerBit': (datetime.datetime(2018, 12, 29, 0, 0), '213,415')}\n",
            "\n"
          ]
        },
        {
          "output_type": "display_data",
          "data": {
            "text/plain": [
              "<IPython.core.display.HTML object>"
            ],
            "text/html": [
              "<a href=https://haveibeenpwned.com/PwnedWebsites#Banorte>Banorte</a>"
            ]
          },
          "metadata": {}
        },
        {
          "output_type": "stream",
          "name": "stdout",
          "text": [
            "{'Banorte': (datetime.datetime(2014, 8, 18, 0, 0), '2,107,000')}\n",
            "\n"
          ]
        },
        {
          "output_type": "display_data",
          "data": {
            "text/plain": [
              "<IPython.core.display.HTML object>"
            ],
            "text/html": [
              "<a href=https://haveibeenpwned.com/PwnedWebsites#BattlefieldHeroes>BattlefieldHeroes</a>"
            ]
          },
          "metadata": {}
        },
        {
          "output_type": "stream",
          "name": "stdout",
          "text": [
            "{'Battlefield Heroes': (datetime.datetime(2011, 6, 26, 0, 0), '530,270')}\n",
            "\n"
          ]
        },
        {
          "output_type": "display_data",
          "data": {
            "text/plain": [
              "<IPython.core.display.HTML object>"
            ],
            "text/html": [
              "<a href=https://haveibeenpwned.com/PwnedWebsites#Battlefy>Battlefy</a>"
            ]
          },
          "metadata": {}
        },
        {
          "output_type": "stream",
          "name": "stdout",
          "text": [
            "{'Battlefy': (datetime.datetime(2016, 1, 11, 0, 0), '83,610')}\n",
            "\n"
          ]
        },
        {
          "output_type": "display_data",
          "data": {
            "text/plain": [
              "<IPython.core.display.HTML object>"
            ],
            "text/html": [
              "<a href=https://haveibeenpwned.com/PwnedWebsites#BeautifulPeople>BeautifulPeople</a>"
            ]
          },
          "metadata": {}
        },
        {
          "output_type": "stream",
          "name": "stdout",
          "text": [
            "{'Beautiful People': (datetime.datetime(2015, 11, 11, 0, 0), '1,100,089')}\n",
            "\n"
          ]
        },
        {
          "output_type": "display_data",
          "data": {
            "text/plain": [
              "<IPython.core.display.HTML object>"
            ],
            "text/html": [
              "<a href=https://haveibeenpwned.com/PwnedWebsites#Bell>Bell</a>"
            ]
          },
          "metadata": {}
        },
        {
          "output_type": "stream",
          "name": "stdout",
          "text": [
            "{'Bell (2014 breach)': (datetime.datetime(2014, 2, 1, 0, 0), '20,902')}\n",
            "\n"
          ]
        },
        {
          "output_type": "display_data",
          "data": {
            "text/plain": [
              "<IPython.core.display.HTML object>"
            ],
            "text/html": [
              "<a href=https://haveibeenpwned.com/PwnedWebsites#Bell2017>Bell2017</a>"
            ]
          },
          "metadata": {}
        },
        {
          "output_type": "stream",
          "name": "stdout",
          "text": [
            "{'Bell (2017 breach)': (datetime.datetime(2017, 5, 15, 0, 0), '2,231,256')}\n",
            "\n"
          ]
        },
        {
          "output_type": "display_data",
          "data": {
            "text/plain": [
              "<IPython.core.display.HTML object>"
            ],
            "text/html": [
              "<a href=https://haveibeenpwned.com/PwnedWebsites#Benchmark>Benchmark</a>"
            ]
          },
          "metadata": {}
        },
        {
          "output_type": "stream",
          "name": "stdout",
          "text": [
            "{'Benchmark': (datetime.datetime(2019, 11, 1, 0, 0), '93,343')}\n",
            "\n"
          ]
        },
        {
          "output_type": "display_data",
          "data": {
            "text/plain": [
              "<IPython.core.display.HTML object>"
            ],
            "text/html": [
              "<a href=https://haveibeenpwned.com/PwnedWebsites#Bestialitysextaboo>Bestialitysextaboo</a>"
            ]
          },
          "metadata": {}
        },
        {
          "output_type": "stream",
          "name": "stdout",
          "text": [
            "{'Bestialitysextaboo': (datetime.datetime(2018, 3, 19, 0, 0), '3,204')}\n",
            "\n"
          ]
        },
        {
          "output_type": "display_data",
          "data": {
            "text/plain": [
              "<IPython.core.display.HTML object>"
            ],
            "text/html": [
              "<a href=https://haveibeenpwned.com/PwnedWebsites#Bhinneka>Bhinneka</a>"
            ]
          },
          "metadata": {}
        },
        {
          "output_type": "stream",
          "name": "stdout",
          "text": [
            "{'Bhinneka': (datetime.datetime(2020, 1, 27, 0, 0), '1,274,340')}\n",
            "\n"
          ]
        },
        {
          "output_type": "display_data",
          "data": {
            "text/plain": [
              "<IPython.core.display.HTML object>"
            ],
            "text/html": [
              "<a href=https://haveibeenpwned.com/PwnedWebsites#bigbasket>bigbasket</a>"
            ]
          },
          "metadata": {}
        },
        {
          "output_type": "stream",
          "name": "stdout",
          "text": [
            "{'bigbasket': (datetime.datetime(2020, 10, 14, 0, 0), '24,500,011')}\n",
            "\n"
          ]
        },
        {
          "output_type": "display_data",
          "data": {
            "text/plain": [
              "<IPython.core.display.HTML object>"
            ],
            "text/html": [
              "<a href=https://haveibeenpwned.com/PwnedWebsites#BigMoneyJobs>BigMoneyJobs</a>"
            ]
          },
          "metadata": {}
        },
        {
          "output_type": "stream",
          "name": "stdout",
          "text": [
            "{'BigMoneyJobs': (datetime.datetime(2014, 4, 3, 0, 0), '36,789')}\n",
            "\n"
          ]
        },
        {
          "output_type": "display_data",
          "data": {
            "text/plain": [
              "<IPython.core.display.HTML object>"
            ],
            "text/html": [
              "<a href=https://haveibeenpwned.com/PwnedWebsites#BinWeevils>BinWeevils</a>"
            ]
          },
          "metadata": {}
        },
        {
          "output_type": "stream",
          "name": "stdout",
          "text": [
            "{'Bin Weevils': (datetime.datetime(2014, 9, 1, 0, 0), '1,287,073')}\n",
            "\n"
          ]
        },
        {
          "output_type": "display_data",
          "data": {
            "text/plain": [
              "<IPython.core.display.HTML object>"
            ],
            "text/html": [
              "<a href=https://haveibeenpwned.com/PwnedWebsites#BiohackMe>BiohackMe</a>"
            ]
          },
          "metadata": {}
        },
        {
          "output_type": "stream",
          "name": "stdout",
          "text": [
            "{'Biohack.me': (datetime.datetime(2016, 12, 2, 0, 0), '3,402')}\n",
            "\n"
          ]
        },
        {
          "output_type": "display_data",
          "data": {
            "text/plain": [
              "<IPython.core.display.HTML object>"
            ],
            "text/html": [
              "<a href=https://haveibeenpwned.com/PwnedWebsites#BTSec>BTSec</a>"
            ]
          },
          "metadata": {}
        },
        {
          "output_type": "stream",
          "name": "stdout",
          "text": [
            "{'Bitcoin Security Forum Gmail Dump': (datetime.datetime(2014, 1, 9, 0, 0), '4,789,599')}\n",
            "\n"
          ]
        },
        {
          "output_type": "display_data",
          "data": {
            "text/plain": [
              "<IPython.core.display.HTML object>"
            ],
            "text/html": [
              "<a href=https://haveibeenpwned.com/PwnedWebsites#BitcoinTalk>BitcoinTalk</a>"
            ]
          },
          "metadata": {}
        },
        {
          "output_type": "stream",
          "name": "stdout",
          "text": [
            "{'Bitcoin Talk': (datetime.datetime(2015, 5, 22, 0, 0), '501,407')}\n",
            "\n"
          ]
        },
        {
          "output_type": "display_data",
          "data": {
            "text/plain": [
              "<IPython.core.display.HTML object>"
            ],
            "text/html": [
              "<a href=https://haveibeenpwned.com/PwnedWebsites#Bitly>Bitly</a>"
            ]
          },
          "metadata": {}
        },
        {
          "output_type": "stream",
          "name": "stdout",
          "text": [
            "{'Bitly': (datetime.datetime(2014, 5, 8, 0, 0), '9,313,136')}\n",
            "\n"
          ]
        },
        {
          "output_type": "display_data",
          "data": {
            "text/plain": [
              "<IPython.core.display.HTML object>"
            ],
            "text/html": [
              "<a href=https://haveibeenpwned.com/PwnedWebsites#BitTorrent>BitTorrent</a>"
            ]
          },
          "metadata": {}
        },
        {
          "output_type": "stream",
          "name": "stdout",
          "text": [
            "{'BitTorrent': (datetime.datetime(2016, 1, 1, 0, 0), '34,235')}\n",
            "\n"
          ]
        },
        {
          "output_type": "display_data",
          "data": {
            "text/plain": [
              "<IPython.core.display.HTML object>"
            ],
            "text/html": [
              "<a href=https://haveibeenpwned.com/PwnedWebsites#BlackHatWorld>BlackHatWorld</a>"
            ]
          },
          "metadata": {}
        },
        {
          "output_type": "stream",
          "name": "stdout",
          "text": [
            "{'Black Hat World': (datetime.datetime(2014, 6, 23, 0, 0), '777,387')}\n",
            "\n"
          ]
        },
        {
          "output_type": "display_data",
          "data": {
            "text/plain": [
              "<IPython.core.display.HTML object>"
            ],
            "text/html": [
              "<a href=https://haveibeenpwned.com/PwnedWebsites#BlackBerryFans>BlackBerryFans</a>"
            ]
          },
          "metadata": {}
        },
        {
          "output_type": "stream",
          "name": "stdout",
          "text": [
            "{'BlackBerry Fans': (datetime.datetime(2022, 5, 6, 0, 0), '174,168')}\n",
            "\n"
          ]
        },
        {
          "output_type": "display_data",
          "data": {
            "text/plain": [
              "<IPython.core.display.HTML object>"
            ],
            "text/html": [
              "<a href=https://haveibeenpwned.com/PwnedWebsites#BlackSpigotMC>BlackSpigotMC</a>"
            ]
          },
          "metadata": {}
        },
        {
          "output_type": "stream",
          "name": "stdout",
          "text": [
            "{'BlackSpigotMC': (datetime.datetime(2019, 7, 14, 0, 0), '140,029')}\n",
            "\n"
          ]
        },
        {
          "output_type": "display_data",
          "data": {
            "text/plain": [
              "<IPython.core.display.HTML object>"
            ],
            "text/html": [
              "<a href=https://haveibeenpwned.com/PwnedWebsites#BlankMediaGames>BlankMediaGames</a>"
            ]
          },
          "metadata": {}
        },
        {
          "output_type": "stream",
          "name": "stdout",
          "text": [
            "{'BlankMediaGames': (datetime.datetime(2018, 12, 28, 0, 0), '7,633,234')}\n",
            "\n"
          ]
        },
        {
          "output_type": "display_data",
          "data": {
            "text/plain": [
              "<IPython.core.display.HTML object>"
            ],
            "text/html": [
              "<a href=https://haveibeenpwned.com/PwnedWebsites#Bolt>Bolt</a>"
            ]
          },
          "metadata": {}
        },
        {
          "output_type": "stream",
          "name": "stdout",
          "text": [
            "{'Bolt': (datetime.datetime(2017, 3, 1, 0, 0), '995,274')}\n",
            "\n"
          ]
        },
        {
          "output_type": "display_data",
          "data": {
            "text/plain": [
              "<IPython.core.display.HTML object>"
            ],
            "text/html": [
              "<a href=https://haveibeenpwned.com/PwnedWebsites#BombujEu>BombujEu</a>"
            ]
          },
          "metadata": {}
        },
        {
          "output_type": "stream",
          "name": "stdout",
          "text": [
            "{'Bombuj.eu': (datetime.datetime(2018, 12, 7, 0, 0), '575,437')}\n",
            "\n"
          ]
        },
        {
          "output_type": "display_data",
          "data": {
            "text/plain": [
              "<IPython.core.display.HTML object>"
            ],
            "text/html": [
              "<a href=https://haveibeenpwned.com/PwnedWebsites#Bonobos>Bonobos</a>"
            ]
          },
          "metadata": {}
        },
        {
          "output_type": "stream",
          "name": "stdout",
          "text": [
            "{'Bonobos': (datetime.datetime(2020, 8, 14, 0, 0), '2,811,929')}\n",
            "\n"
          ]
        },
        {
          "output_type": "display_data",
          "data": {
            "text/plain": [
              "<IPython.core.display.HTML object>"
            ],
            "text/html": [
              "<a href=https://haveibeenpwned.com/PwnedWebsites#Bookchor>Bookchor</a>"
            ]
          },
          "metadata": {}
        },
        {
          "output_type": "stream",
          "name": "stdout",
          "text": [
            "{'Bookchor': (datetime.datetime(2021, 1, 28, 0, 0), '498,297')}\n",
            "\n"
          ]
        },
        {
          "output_type": "display_data",
          "data": {
            "text/plain": [
              "<IPython.core.display.HTML object>"
            ],
            "text/html": [
              "<a href=https://haveibeenpwned.com/PwnedWebsites#Bookmate>Bookmate</a>"
            ]
          },
          "metadata": {}
        },
        {
          "output_type": "stream",
          "name": "stdout",
          "text": [
            "{'Bookmate': (datetime.datetime(2018, 7, 8, 0, 0), '3,830,916')}\n",
            "\n"
          ]
        },
        {
          "output_type": "display_data",
          "data": {
            "text/plain": [
              "<IPython.core.display.HTML object>"
            ],
            "text/html": [
              "<a href=https://haveibeenpwned.com/PwnedWebsites#BotOfLegends>BotOfLegends</a>"
            ]
          },
          "metadata": {}
        },
        {
          "output_type": "stream",
          "name": "stdout",
          "text": [
            "{'Bot of Legends': (datetime.datetime(2014, 11, 13, 0, 0), '238,373')}\n",
            "\n"
          ]
        },
        {
          "output_type": "display_data",
          "data": {
            "text/plain": [
              "<IPython.core.display.HTML object>"
            ],
            "text/html": [
              "<a href=https://haveibeenpwned.com/PwnedWebsites#BourseDesVols>BourseDesVols</a>"
            ]
          },
          "metadata": {}
        },
        {
          "output_type": "stream",
          "name": "stdout",
          "text": [
            "{'Bourse des Vols': (datetime.datetime(2021, 1, 12, 0, 0), '1,460,130')}\n",
            "\n"
          ]
        },
        {
          "output_type": "display_data",
          "data": {
            "text/plain": [
              "<IPython.core.display.HTML object>"
            ],
            "text/html": [
              "<a href=https://haveibeenpwned.com/PwnedWebsites#Boxee>Boxee</a>"
            ]
          },
          "metadata": {}
        },
        {
          "output_type": "stream",
          "name": "stdout",
          "text": [
            "{'Boxee': (datetime.datetime(2014, 3, 29, 0, 0), '158,093')}\n",
            "\n"
          ]
        },
        {
          "output_type": "display_data",
          "data": {
            "text/plain": [
              "<IPython.core.display.HTML object>"
            ],
            "text/html": [
              "<a href=https://haveibeenpwned.com/PwnedWebsites#BrandNewTube>BrandNewTube</a>"
            ]
          },
          "metadata": {}
        },
        {
          "output_type": "stream",
          "name": "stdout",
          "text": [
            "{'Brand New Tube': (datetime.datetime(2022, 8, 14, 0, 0), '349,627')}\n",
            "\n"
          ]
        },
        {
          "output_type": "display_data",
          "data": {
            "text/plain": [
              "<IPython.core.display.HTML object>"
            ],
            "text/html": [
              "<a href=https://haveibeenpwned.com/PwnedWebsites#Brazzers>Brazzers</a>"
            ]
          },
          "metadata": {}
        },
        {
          "output_type": "stream",
          "name": "stdout",
          "text": [
            "{'Brazzers': (datetime.datetime(2013, 4, 1, 0, 0), '790,724')}\n",
            "\n"
          ]
        },
        {
          "output_type": "display_data",
          "data": {
            "text/plain": [
              "<IPython.core.display.HTML object>"
            ],
            "text/html": [
              "<a href=https://haveibeenpwned.com/PwnedWebsites#BTCAlpha>BTCAlpha</a>"
            ]
          },
          "metadata": {}
        },
        {
          "output_type": "stream",
          "name": "stdout",
          "text": [
            "{'BTC-Alpha': (datetime.datetime(2021, 11, 2, 0, 0), '362,426')}\n",
            "\n"
          ]
        },
        {
          "output_type": "display_data",
          "data": {
            "text/plain": [
              "<IPython.core.display.HTML object>"
            ],
            "text/html": [
              "<a href=https://haveibeenpwned.com/PwnedWebsites#BTCE>BTCE</a>"
            ]
          },
          "metadata": {}
        },
        {
          "output_type": "stream",
          "name": "stdout",
          "text": [
            "{'BTC-E': (datetime.datetime(2014, 10, 1, 0, 0), '568,340')}\n",
            "\n"
          ]
        },
        {
          "output_type": "display_data",
          "data": {
            "text/plain": [
              "<IPython.core.display.HTML object>"
            ],
            "text/html": [
              "<a href=https://haveibeenpwned.com/PwnedWebsites#BtoBet>BtoBet</a>"
            ]
          },
          "metadata": {}
        },
        {
          "output_type": "stream",
          "name": "stdout",
          "text": [
            "{'BtoBet': (datetime.datetime(2019, 12, 26, 0, 0), '444,241')}\n",
            "\n"
          ]
        },
        {
          "output_type": "display_data",
          "data": {
            "text/plain": [
              "<IPython.core.display.HTML object>"
            ],
            "text/html": [
              "<a href=https://haveibeenpwned.com/PwnedWebsites#Bukalapak>Bukalapak</a>"
            ]
          },
          "metadata": {}
        },
        {
          "output_type": "stream",
          "name": "stdout",
          "text": [
            "{'Bukalapak': (datetime.datetime(2017, 10, 23, 0, 0), '13,369,666')}\n",
            "\n"
          ]
        },
        {
          "output_type": "display_data",
          "data": {
            "text/plain": [
              "<IPython.core.display.HTML object>"
            ],
            "text/html": [
              "<a href=https://haveibeenpwned.com/PwnedWebsites#BulgarianNationalRevenueAgency>BulgarianNationalRevenueAgency</a>"
            ]
          },
          "metadata": {}
        },
        {
          "output_type": "stream",
          "name": "stdout",
          "text": [
            "{'Bulgarian National Revenue Agency': (datetime.datetime(2019, 7, 15, 0, 0), '471,167')}\n",
            "\n"
          ]
        },
        {
          "output_type": "display_data",
          "data": {
            "text/plain": [
              "<IPython.core.display.HTML object>"
            ],
            "text/html": [
              "<a href=https://haveibeenpwned.com/PwnedWebsites#BusinessAcumen>BusinessAcumen</a>"
            ]
          },
          "metadata": {}
        },
        {
          "output_type": "stream",
          "name": "stdout",
          "text": [
            "{'Business Acumen Magazine': (datetime.datetime(2014, 4, 25, 0, 0), '26,596')}\n",
            "\n"
          ]
        },
        {
          "output_type": "display_data",
          "data": {
            "text/plain": [
              "<IPython.core.display.HTML object>"
            ],
            "text/html": [
              "<a href=https://haveibeenpwned.com/PwnedWebsites#CafeMom>CafeMom</a>"
            ]
          },
          "metadata": {}
        },
        {
          "output_type": "stream",
          "name": "stdout",
          "text": [
            "{'CafeMom': (datetime.datetime(2014, 4, 10, 0, 0), '2,628,148')}\n",
            "\n"
          ]
        },
        {
          "output_type": "display_data",
          "data": {
            "text/plain": [
              "<IPython.core.display.HTML object>"
            ],
            "text/html": [
              "<a href=https://haveibeenpwned.com/PwnedWebsites#CafePress>CafePress</a>"
            ]
          },
          "metadata": {}
        },
        {
          "output_type": "stream",
          "name": "stdout",
          "text": [
            "{'CafePress': (datetime.datetime(2019, 2, 20, 0, 0), '23,205,290')}\n",
            "\n"
          ]
        },
        {
          "output_type": "display_data",
          "data": {
            "text/plain": [
              "<IPython.core.display.HTML object>"
            ],
            "text/html": [
              "<a href=https://haveibeenpwned.com/PwnedWebsites#CannabisForum>CannabisForum</a>"
            ]
          },
          "metadata": {}
        },
        {
          "output_type": "stream",
          "name": "stdout",
          "text": [
            "{'Cannabis.com': (datetime.datetime(2014, 2, 5, 0, 0), '227,746')}\n",
            "\n"
          ]
        },
        {
          "output_type": "display_data",
          "data": {
            "text/plain": [
              "<IPython.core.display.HTML object>"
            ],
            "text/html": [
              "<a href=https://haveibeenpwned.com/PwnedWebsites#Canva>Canva</a>"
            ]
          },
          "metadata": {}
        },
        {
          "output_type": "stream",
          "name": "stdout",
          "text": [
            "{'Canva': (datetime.datetime(2019, 5, 24, 0, 0), '137,272,116')}\n",
            "\n"
          ]
        },
        {
          "output_type": "display_data",
          "data": {
            "text/plain": [
              "<IPython.core.display.HTML object>"
            ],
            "text/html": [
              "<a href=https://haveibeenpwned.com/PwnedWebsites#CapialEconomics>CapialEconomics</a>"
            ]
          },
          "metadata": {}
        },
        {
          "output_type": "stream",
          "name": "stdout",
          "text": [
            "{'Capital Economics': (datetime.datetime(2020, 12, 12, 0, 0), '263,829')}\n",
            "\n"
          ]
        },
        {
          "output_type": "display_data",
          "data": {
            "text/plain": [
              "<IPython.core.display.HTML object>"
            ],
            "text/html": [
              "<a href=https://haveibeenpwned.com/PwnedWebsites#CardingMafiaDec2021>CardingMafiaDec2021</a>"
            ]
          },
          "metadata": {}
        },
        {
          "output_type": "stream",
          "name": "stdout",
          "text": [
            "{'Carding Mafia (December 2021)': (datetime.datetime(2021, 12, 28, 0, 0), '303,877')}\n",
            "\n"
          ]
        },
        {
          "output_type": "display_data",
          "data": {
            "text/plain": [
              "<IPython.core.display.HTML object>"
            ],
            "text/html": [
              "<a href=https://haveibeenpwned.com/PwnedWebsites#CardingMafia>CardingMafia</a>"
            ]
          },
          "metadata": {}
        },
        {
          "output_type": "stream",
          "name": "stdout",
          "text": [
            "{'Carding Mafia (March 2021)': (datetime.datetime(2021, 3, 18, 0, 0), '297,744')}\n",
            "\n"
          ]
        },
        {
          "output_type": "display_data",
          "data": {
            "text/plain": [
              "<IPython.core.display.HTML object>"
            ],
            "text/html": [
              "<a href=https://haveibeenpwned.com/PwnedWebsites#CashCrate>CashCrate</a>"
            ]
          },
          "metadata": {}
        },
        {
          "output_type": "stream",
          "name": "stdout",
          "text": [
            "{'CashCrate': (datetime.datetime(2016, 11, 17, 0, 0), '6,844,490')}\n",
            "\n"
          ]
        },
        {
          "output_type": "display_data",
          "data": {
            "text/plain": [
              "<IPython.core.display.HTML object>"
            ],
            "text/html": [
              "<a href=https://haveibeenpwned.com/PwnedWebsites#Catho>Catho</a>"
            ]
          },
          "metadata": {}
        },
        {
          "output_type": "stream",
          "name": "stdout",
          "text": [
            "{'Catho': (datetime.datetime(2020, 3, 1, 0, 0), '1,173,012')}\n",
            "\n"
          ]
        },
        {
          "output_type": "display_data",
          "data": {
            "text/plain": [
              "<IPython.core.display.HTML object>"
            ],
            "text/html": [
              "<a href=https://haveibeenpwned.com/PwnedWebsites#CDProjektRed>CDProjektRed</a>"
            ]
          },
          "metadata": {}
        },
        {
          "output_type": "stream",
          "name": "stdout",
          "text": [
            "{'CD Projekt RED': (datetime.datetime(2016, 3, 1, 0, 0), '1,871,373')}\n",
            "\n"
          ]
        },
        {
          "output_type": "display_data",
          "data": {
            "text/plain": [
              "<IPython.core.display.HTML object>"
            ],
            "text/html": [
              "<a href=https://haveibeenpwned.com/PwnedWebsites#CDEK>CDEK</a>"
            ]
          },
          "metadata": {}
        },
        {
          "output_type": "stream",
          "name": "stdout",
          "text": [
            "{'CDEK': (datetime.datetime(2022, 3, 9, 0, 0), '19,218,203')}\n",
            "\n"
          ]
        },
        {
          "output_type": "display_data",
          "data": {
            "text/plain": [
              "<IPython.core.display.HTML object>"
            ],
            "text/html": [
              "<a href=https://haveibeenpwned.com/PwnedWebsites#Chatbooks>Chatbooks</a>"
            ]
          },
          "metadata": {}
        },
        {
          "output_type": "stream",
          "name": "stdout",
          "text": [
            "{'Chatbooks': (datetime.datetime(2020, 3, 26, 0, 0), '2,520,441')}\n",
            "\n"
          ]
        },
        {
          "output_type": "display_data",
          "data": {
            "text/plain": [
              "<IPython.core.display.HTML object>"
            ],
            "text/html": [
              "<a href=https://haveibeenpwned.com/PwnedWebsites#CheapAssGamer>CheapAssGamer</a>"
            ]
          },
          "metadata": {}
        },
        {
          "output_type": "stream",
          "name": "stdout",
          "text": [
            "{'CheapAssGamer.com': (datetime.datetime(2015, 7, 1, 0, 0), '444,767')}\n",
            "\n"
          ]
        },
        {
          "output_type": "display_data",
          "data": {
            "text/plain": [
              "<IPython.core.display.HTML object>"
            ],
            "text/html": [
              "<a href=https://haveibeenpwned.com/PwnedWebsites#Chegg>Chegg</a>"
            ]
          },
          "metadata": {}
        },
        {
          "output_type": "stream",
          "name": "stdout",
          "text": [
            "{'Chegg': (datetime.datetime(2018, 4, 28, 0, 0), '39,721,127')}\n",
            "\n"
          ]
        },
        {
          "output_type": "display_data",
          "data": {
            "text/plain": [
              "<IPython.core.display.HTML object>"
            ],
            "text/html": [
              "<a href=https://haveibeenpwned.com/PwnedWebsites#Chowbus>Chowbus</a>"
            ]
          },
          "metadata": {}
        },
        {
          "output_type": "stream",
          "name": "stdout",
          "text": [
            "{'Chowbus': (datetime.datetime(2020, 10, 5, 0, 0), '444,224')}\n",
            "\n"
          ]
        },
        {
          "output_type": "display_data",
          "data": {
            "text/plain": [
              "<IPython.core.display.HTML object>"
            ],
            "text/html": [
              "<a href=https://haveibeenpwned.com/PwnedWebsites#Cit0day>Cit0day</a>"
            ]
          },
          "metadata": {}
        },
        {
          "output_type": "stream",
          "name": "stdout",
          "text": [
            "{'Cit0day': (datetime.datetime(2020, 11, 4, 0, 0), '226,883,414')}\n",
            "\n"
          ]
        },
        {
          "output_type": "display_data",
          "data": {
            "text/plain": [
              "<IPython.core.display.HTML object>"
            ],
            "text/html": [
              "<a href=https://haveibeenpwned.com/PwnedWebsites#CityBee>CityBee</a>"
            ]
          },
          "metadata": {}
        },
        {
          "output_type": "stream",
          "name": "stdout",
          "text": [
            "{'CityBee': (datetime.datetime(2021, 2, 5, 0, 0), '110,156')}\n",
            "\n"
          ]
        },
        {
          "output_type": "display_data",
          "data": {
            "text/plain": [
              "<IPython.core.display.HTML object>"
            ],
            "text/html": [
              "<a href=https://haveibeenpwned.com/PwnedWebsites#CivilOnline>CivilOnline</a>"
            ]
          },
          "metadata": {}
        },
        {
          "output_type": "stream",
          "name": "stdout",
          "text": [
            "{'Civil Online': (datetime.datetime(2011, 7, 10, 0, 0), '7,830,195')}\n",
            "\n"
          ]
        },
        {
          "output_type": "display_data",
          "data": {
            "text/plain": [
              "<IPython.core.display.HTML object>"
            ],
            "text/html": [
              "<a href=https://haveibeenpwned.com/PwnedWebsites#ClashOfKings>ClashOfKings</a>"
            ]
          },
          "metadata": {}
        },
        {
          "output_type": "stream",
          "name": "stdout",
          "text": [
            "{'Clash of Kings': (datetime.datetime(2016, 7, 14, 0, 0), '1,604,957')}\n",
            "\n"
          ]
        },
        {
          "output_type": "display_data",
          "data": {
            "text/plain": [
              "<IPython.core.display.HTML object>"
            ],
            "text/html": [
              "<a href=https://haveibeenpwned.com/PwnedWebsites#ClearVoiceSurveys>ClearVoiceSurveys</a>"
            ]
          },
          "metadata": {}
        },
        {
          "output_type": "stream",
          "name": "stdout",
          "text": [
            "{'ClearVoice Surveys': (datetime.datetime(2015, 8, 23, 0, 0), '15,074,786')}\n",
            "\n"
          ]
        },
        {
          "output_type": "display_data",
          "data": {
            "text/plain": [
              "<IPython.core.display.HTML object>"
            ],
            "text/html": [
              "<a href=https://haveibeenpwned.com/PwnedWebsites#ClixSense>ClixSense</a>"
            ]
          },
          "metadata": {}
        },
        {
          "output_type": "stream",
          "name": "stdout",
          "text": [
            "{'ClixSense': (datetime.datetime(2016, 9, 4, 0, 0), '2,424,784')}\n",
            "\n"
          ]
        },
        {
          "output_type": "display_data",
          "data": {
            "text/plain": [
              "<IPython.core.display.HTML object>"
            ],
            "text/html": [
              "<a href=https://haveibeenpwned.com/PwnedWebsites#CloudPets>CloudPets</a>"
            ]
          },
          "metadata": {}
        },
        {
          "output_type": "stream",
          "name": "stdout",
          "text": [
            "{'CloudPets': (datetime.datetime(2017, 1, 1, 0, 0), '583,503')}\n",
            "\n"
          ]
        },
        {
          "output_type": "display_data",
          "data": {
            "text/plain": [
              "<IPython.core.display.HTML object>"
            ],
            "text/html": [
              "<a href=https://haveibeenpwned.com/PwnedWebsites#ClubPenguinRewritten>ClubPenguinRewritten</a>"
            ]
          },
          "metadata": {}
        },
        {
          "output_type": "stream",
          "name": "stdout",
          "text": [
            "{'Club Penguin Rewritten (January 2018)': (datetime.datetime(2018, 1, 21, 0, 0), '1,688,176')}\n",
            "\n"
          ]
        },
        {
          "output_type": "display_data",
          "data": {
            "text/plain": [
              "<IPython.core.display.HTML object>"
            ],
            "text/html": [
              "<a href=https://haveibeenpwned.com/PwnedWebsites#ClubPenguinRewrittenJul2019>ClubPenguinRewrittenJul2019</a>"
            ]
          },
          "metadata": {}
        },
        {
          "output_type": "stream",
          "name": "stdout",
          "text": [
            "{'Club Penguin Rewritten (July 2019)': (datetime.datetime(2019, 7, 27, 0, 0), '4,007,909')}\n",
            "\n"
          ]
        },
        {
          "output_type": "display_data",
          "data": {
            "text/plain": [
              "<IPython.core.display.HTML object>"
            ],
            "text/html": [
              "<a href=https://haveibeenpwned.com/PwnedWebsites#Coachella>Coachella</a>"
            ]
          },
          "metadata": {}
        },
        {
          "output_type": "stream",
          "name": "stdout",
          "text": [
            "{'Coachella': (datetime.datetime(2017, 2, 22, 0, 0), '599,802')}\n",
            "\n"
          ]
        },
        {
          "output_type": "display_data",
          "data": {
            "text/plain": [
              "<IPython.core.display.HTML object>"
            ],
            "text/html": [
              "<a href=https://haveibeenpwned.com/PwnedWebsites#Coinmama>Coinmama</a>"
            ]
          },
          "metadata": {}
        },
        {
          "output_type": "stream",
          "name": "stdout",
          "text": [
            "{'Coinmama': (datetime.datetime(2017, 8, 3, 0, 0), '478,824')}\n",
            "\n"
          ]
        },
        {
          "output_type": "display_data",
          "data": {
            "text/plain": [
              "<IPython.core.display.HTML object>"
            ],
            "text/html": [
              "<a href=https://haveibeenpwned.com/PwnedWebsites#CoinMarketCap>CoinMarketCap</a>"
            ]
          },
          "metadata": {}
        },
        {
          "output_type": "stream",
          "name": "stdout",
          "text": [
            "{'CoinMarketCap': (datetime.datetime(2021, 10, 12, 0, 0), '3,117,548')}\n",
            "\n"
          ]
        },
        {
          "output_type": "display_data",
          "data": {
            "text/plain": [
              "<IPython.core.display.HTML object>"
            ],
            "text/html": [
              "<a href=https://haveibeenpwned.com/PwnedWebsites#CoinTracker>CoinTracker</a>"
            ]
          },
          "metadata": {}
        },
        {
          "output_type": "stream",
          "name": "stdout",
          "text": [
            "{'CoinTracker': (datetime.datetime(2022, 12, 1, 0, 0), '1,557,153')}\n",
            "\n"
          ]
        },
        {
          "output_type": "display_data",
          "data": {
            "text/plain": [
              "<IPython.core.display.HTML object>"
            ],
            "text/html": [
              "<a href=https://haveibeenpwned.com/PwnedWebsites#Collection1>Collection1</a>"
            ]
          },
          "metadata": {}
        },
        {
          "output_type": "stream",
          "name": "stdout",
          "text": [
            "{'Collection #1': (datetime.datetime(2019, 1, 7, 0, 0), '772,904,991')}\n",
            "\n"
          ]
        },
        {
          "output_type": "display_data",
          "data": {
            "text/plain": [
              "<IPython.core.display.HTML object>"
            ],
            "text/html": [
              "<a href=https://haveibeenpwned.com/PwnedWebsites#Comcast>Comcast</a>"
            ]
          },
          "metadata": {}
        },
        {
          "output_type": "stream",
          "name": "stdout",
          "text": [
            "{'Comcast': (datetime.datetime(2015, 11, 8, 0, 0), '616,882')}\n",
            "\n"
          ]
        },
        {
          "output_type": "display_data",
          "data": {
            "text/plain": [
              "<IPython.core.display.HTML object>"
            ],
            "text/html": [
              "<a href=https://haveibeenpwned.com/PwnedWebsites#COMELEC>COMELEC</a>"
            ]
          },
          "metadata": {}
        },
        {
          "output_type": "stream",
          "name": "stdout",
          "text": [
            "{'COMELEC (Philippines Voters)': (datetime.datetime(2016, 3, 27, 0, 0), '228,605')}\n",
            "\n"
          ]
        },
        {
          "output_type": "display_data",
          "data": {
            "text/plain": [
              "<IPython.core.display.HTML object>"
            ],
            "text/html": [
              "<a href=https://haveibeenpwned.com/PwnedWebsites#Convex>Convex</a>"
            ]
          },
          "metadata": {}
        },
        {
          "output_type": "stream",
          "name": "stdout",
          "text": [
            "{'Convex': (datetime.datetime(2023, 2, 1, 0, 0), '150,129')}\n",
            "\n"
          ]
        },
        {
          "output_type": "display_data",
          "data": {
            "text/plain": [
              "<IPython.core.display.HTML object>"
            ],
            "text/html": [
              "<a href=https://haveibeenpwned.com/PwnedWebsites#CouponMomAndArmorGames>CouponMomAndArmorGames</a>"
            ]
          },
          "metadata": {}
        },
        {
          "output_type": "stream",
          "name": "stdout",
          "text": [
            "{'Coupon Mom / Armor Games': (datetime.datetime(2014, 2, 8, 0, 0), '11,010,525')}\n",
            "\n"
          ]
        },
        {
          "output_type": "display_data",
          "data": {
            "text/plain": [
              "<IPython.core.display.HTML object>"
            ],
            "text/html": [
              "<a href=https://haveibeenpwned.com/PwnedWebsites#db8151dd>db8151dd</a>"
            ]
          },
          "metadata": {}
        },
        {
          "output_type": "stream",
          "name": "stdout",
          "text": [
            "{'Covve': (datetime.datetime(2020, 2, 20, 0, 0), '22,802,117')}\n",
            "\n"
          ]
        },
        {
          "output_type": "display_data",
          "data": {
            "text/plain": [
              "<IPython.core.display.HTML object>"
            ],
            "text/html": [
              "<a href=https://haveibeenpwned.com/PwnedWebsites#CrackCommunity>CrackCommunity</a>"
            ]
          },
          "metadata": {}
        },
        {
          "output_type": "stream",
          "name": "stdout",
          "text": [
            "{'Crack Community': (datetime.datetime(2013, 9, 9, 0, 0), '19,210')}\n",
            "\n"
          ]
        },
        {
          "output_type": "display_data",
          "data": {
            "text/plain": [
              "<IPython.core.display.HTML object>"
            ],
            "text/html": [
              "<a href=https://haveibeenpwned.com/PwnedWebsites#CrackedTO>CrackedTO</a>"
            ]
          },
          "metadata": {}
        },
        {
          "output_type": "stream",
          "name": "stdout",
          "text": [
            "{'Cracked.to': (datetime.datetime(2019, 7, 21, 0, 0), '749,161')}\n",
            "\n"
          ]
        },
        {
          "output_type": "display_data",
          "data": {
            "text/plain": [
              "<IPython.core.display.HTML object>"
            ],
            "text/html": [
              "<a href=https://haveibeenpwned.com/PwnedWebsites#CrackingForum>CrackingForum</a>"
            ]
          },
          "metadata": {}
        },
        {
          "output_type": "stream",
          "name": "stdout",
          "text": [
            "{'CrackingForum': (datetime.datetime(2016, 7, 1, 0, 0), '660,305')}\n",
            "\n"
          ]
        },
        {
          "output_type": "display_data",
          "data": {
            "text/plain": [
              "<IPython.core.display.HTML object>"
            ],
            "text/html": [
              "<a href=https://haveibeenpwned.com/PwnedWebsites#Creative>Creative</a>"
            ]
          },
          "metadata": {}
        },
        {
          "output_type": "stream",
          "name": "stdout",
          "text": [
            "{'Creative': (datetime.datetime(2018, 5, 1, 0, 0), '483,015')}\n",
            "\n"
          ]
        },
        {
          "output_type": "display_data",
          "data": {
            "text/plain": [
              "<IPython.core.display.HTML object>"
            ],
            "text/html": [
              "<a href=https://haveibeenpwned.com/PwnedWebsites#CrimeAgencyVBulletin>CrimeAgencyVBulletin</a>"
            ]
          },
          "metadata": {}
        },
        {
          "output_type": "stream",
          "name": "stdout",
          "text": [
            "{'CrimeAgency vBulletin Hacks': (datetime.datetime(2017, 1, 19, 0, 0), '942,044')}\n",
            "\n"
          ]
        },
        {
          "output_type": "display_data",
          "data": {
            "text/plain": [
              "<IPython.core.display.HTML object>"
            ],
            "text/html": [
              "<a href=https://haveibeenpwned.com/PwnedWebsites#CrossFire>CrossFire</a>"
            ]
          },
          "metadata": {}
        },
        {
          "output_type": "stream",
          "name": "stdout",
          "text": [
            "{'Cross Fire': (datetime.datetime(2016, 8, 8, 0, 0), '12,865,609')}\n",
            "\n"
          ]
        },
        {
          "output_type": "display_data",
          "data": {
            "text/plain": [
              "<IPython.core.display.HTML object>"
            ],
            "text/html": [
              "<a href=https://haveibeenpwned.com/PwnedWebsites#CTARS>CTARS</a>"
            ]
          },
          "metadata": {}
        },
        {
          "output_type": "stream",
          "name": "stdout",
          "text": [
            "{'CTARS': (datetime.datetime(2021, 5, 21, 0, 0), '12,314')}\n",
            "\n"
          ]
        },
        {
          "output_type": "display_data",
          "data": {
            "text/plain": [
              "<IPython.core.display.HTML object>"
            ],
            "text/html": [
              "<a href=https://haveibeenpwned.com/PwnedWebsites#CyberServe>CyberServe</a>"
            ]
          },
          "metadata": {}
        },
        {
          "output_type": "stream",
          "name": "stdout",
          "text": [
            "{'CyberServe': (datetime.datetime(2021, 10, 29, 0, 0), '1,107,034')}\n",
            "\n"
          ]
        },
        {
          "output_type": "display_data",
          "data": {
            "text/plain": [
              "<IPython.core.display.HTML object>"
            ],
            "text/html": [
              "<a href=https://haveibeenpwned.com/PwnedWebsites#D3scene>D3scene</a>"
            ]
          },
          "metadata": {}
        },
        {
          "output_type": "stream",
          "name": "stdout",
          "text": [
            "{'D3Scene': (datetime.datetime(2016, 1, 1, 0, 0), '568,827')}\n",
            "\n"
          ]
        },
        {
          "output_type": "display_data",
          "data": {
            "text/plain": [
              "<IPython.core.display.HTML object>"
            ],
            "text/html": [
              "<a href=https://haveibeenpwned.com/PwnedWebsites#DaFont>DaFont</a>"
            ]
          },
          "metadata": {}
        },
        {
          "output_type": "stream",
          "name": "stdout",
          "text": [
            "{'DaFont': (datetime.datetime(2017, 5, 16, 0, 0), '637,340')}\n",
            "\n"
          ]
        },
        {
          "output_type": "display_data",
          "data": {
            "text/plain": [
              "<IPython.core.display.HTML object>"
            ],
            "text/html": [
              "<a href=https://haveibeenpwned.com/PwnedWebsites#DailyQuiz>DailyQuiz</a>"
            ]
          },
          "metadata": {}
        },
        {
          "output_type": "stream",
          "name": "stdout",
          "text": [
            "{'Daily Quiz': (datetime.datetime(2021, 1, 13, 0, 0), '8,032,404')}\n",
            "\n"
          ]
        },
        {
          "output_type": "display_data",
          "data": {
            "text/plain": [
              "<IPython.core.display.HTML object>"
            ],
            "text/html": [
              "<a href=https://haveibeenpwned.com/PwnedWebsites#Dailymotion>Dailymotion</a>"
            ]
          },
          "metadata": {}
        },
        {
          "output_type": "stream",
          "name": "stdout",
          "text": [
            "{'Dailymotion': (datetime.datetime(2016, 10, 20, 0, 0), '85,176,234')}\n",
            "\n"
          ]
        },
        {
          "output_type": "display_data",
          "data": {
            "text/plain": [
              "<IPython.core.display.HTML object>"
            ],
            "text/html": [
              "<a href=https://haveibeenpwned.com/PwnedWebsites#DailyObjects>DailyObjects</a>"
            ]
          },
          "metadata": {}
        },
        {
          "output_type": "stream",
          "name": "stdout",
          "text": [
            "{'DailyObjects': (datetime.datetime(2018, 1, 1, 0, 0), '464,260')}\n",
            "\n"
          ]
        },
        {
          "output_type": "display_data",
          "data": {
            "text/plain": [
              "<IPython.core.display.HTML object>"
            ],
            "text/html": [
              "<a href=https://haveibeenpwned.com/PwnedWebsites#Dangdang>Dangdang</a>"
            ]
          },
          "metadata": {}
        },
        {
          "output_type": "stream",
          "name": "stdout",
          "text": [
            "{'Dangdang': (datetime.datetime(2011, 6, 1, 0, 0), '4,848,734')}\n",
            "\n"
          ]
        },
        {
          "output_type": "display_data",
          "data": {
            "text/plain": [
              "<IPython.core.display.HTML object>"
            ],
            "text/html": [
              "<a href=https://haveibeenpwned.com/PwnedWebsites#DaniWeb>DaniWeb</a>"
            ]
          },
          "metadata": {}
        },
        {
          "output_type": "stream",
          "name": "stdout",
          "text": [
            "{'DaniWeb': (datetime.datetime(2015, 12, 1, 0, 0), '1,131,636')}\n",
            "\n"
          ]
        },
        {
          "output_type": "display_data",
          "data": {
            "text/plain": [
              "<IPython.core.display.HTML object>"
            ],
            "text/html": [
              "<a href=https://haveibeenpwned.com/PwnedWebsites#DataAndLeads>DataAndLeads</a>"
            ]
          },
          "metadata": {}
        },
        {
          "output_type": "stream",
          "name": "stdout",
          "text": [
            "{'Data & Leads': (datetime.datetime(2018, 11, 14, 0, 0), '44,320,330')}\n",
            "\n"
          ]
        },
        {
          "output_type": "display_data",
          "data": {
            "text/plain": [
              "<IPython.core.display.HTML object>"
            ],
            "text/html": [
              "<a href=https://haveibeenpwned.com/PwnedWebsites#PDL>PDL</a>"
            ]
          },
          "metadata": {}
        },
        {
          "output_type": "stream",
          "name": "stdout",
          "text": [
            "{'Data Enrichment Exposure From PDL Customer': (datetime.datetime(2019, 10, 16, 0, 0), '622,161,052')}\n",
            "\n"
          ]
        },
        {
          "output_type": "display_data",
          "data": {
            "text/plain": [
              "<IPython.core.display.HTML object>"
            ],
            "text/html": [
              "<a href=https://haveibeenpwned.com/PwnedWebsites#DataEnrichment>DataEnrichment</a>"
            ]
          },
          "metadata": {}
        },
        {
          "output_type": "stream",
          "name": "stdout",
          "text": [
            "{'Data Enrichment Records': (datetime.datetime(2016, 12, 23, 0, 0), '8,176,132')}\n",
            "\n"
          ]
        },
        {
          "output_type": "display_data",
          "data": {
            "text/plain": [
              "<IPython.core.display.HTML object>"
            ],
            "text/html": [
              "<a href=https://haveibeenpwned.com/PwnedWebsites#DataCamp>DataCamp</a>"
            ]
          },
          "metadata": {}
        },
        {
          "output_type": "stream",
          "name": "stdout",
          "text": [
            "{'DataCamp': (datetime.datetime(2017, 1, 30, 0, 0), '760,561')}\n",
            "\n"
          ]
        },
        {
          "output_type": "display_data",
          "data": {
            "text/plain": [
              "<IPython.core.display.HTML object>"
            ],
            "text/html": [
              "<a href=https://haveibeenpwned.com/PwnedWebsites#DatPiff>DatPiff</a>"
            ]
          },
          "metadata": {}
        },
        {
          "output_type": "stream",
          "name": "stdout",
          "text": [
            "{'DatPiff': (datetime.datetime(2021, 8, 25, 0, 0), '7,476,940')}\n",
            "\n"
          ]
        },
        {
          "output_type": "display_data",
          "data": {
            "text/plain": [
              "<IPython.core.display.HTML object>"
            ],
            "text/html": [
              "<a href=https://haveibeenpwned.com/PwnedWebsites#Dave>Dave</a>"
            ]
          },
          "metadata": {}
        },
        {
          "output_type": "stream",
          "name": "stdout",
          "text": [
            "{'Dave': (datetime.datetime(2020, 6, 28, 0, 0), '2,964,182')}\n",
            "\n"
          ]
        },
        {
          "output_type": "display_data",
          "data": {
            "text/plain": [
              "<IPython.core.display.HTML object>"
            ],
            "text/html": [
              "<a href=https://haveibeenpwned.com/PwnedWebsites#Deezer>Deezer</a>"
            ]
          },
          "metadata": {}
        },
        {
          "output_type": "stream",
          "name": "stdout",
          "text": [
            "{'Deezer': (datetime.datetime(2019, 4, 22, 0, 0), '229,037,936')}\n",
            "\n"
          ]
        },
        {
          "output_type": "display_data",
          "data": {
            "text/plain": [
              "<IPython.core.display.HTML object>"
            ],
            "text/html": [
              "<a href=https://haveibeenpwned.com/PwnedWebsites#DemonForums>DemonForums</a>"
            ]
          },
          "metadata": {}
        },
        {
          "output_type": "stream",
          "name": "stdout",
          "text": [
            "{'Demon Forums': (datetime.datetime(2019, 2, 20, 0, 0), '52,623')}\n",
            "\n"
          ]
        },
        {
          "output_type": "display_data",
          "data": {
            "text/plain": [
              "<IPython.core.display.HTML object>"
            ],
            "text/html": [
              "<a href=https://haveibeenpwned.com/PwnedWebsites#Descomplica>Descomplica</a>"
            ]
          },
          "metadata": {}
        },
        {
          "output_type": "stream",
          "name": "stdout",
          "text": [
            "{'Descomplica': (datetime.datetime(2021, 3, 14, 0, 0), '4,845,378')}\n",
            "\n"
          ]
        },
        {
          "output_type": "display_data",
          "data": {
            "text/plain": [
              "<IPython.core.display.HTML object>"
            ],
            "text/html": [
              "<a href=https://haveibeenpwned.com/PwnedWebsites#DevilTorrents>DevilTorrents</a>"
            ]
          },
          "metadata": {}
        },
        {
          "output_type": "stream",
          "name": "stdout",
          "text": [
            "{'Devil-Torrents.pl': (datetime.datetime(2021, 1, 4, 0, 0), '63,451')}\n",
            "\n"
          ]
        },
        {
          "output_type": "display_data",
          "data": {
            "text/plain": [
              "<IPython.core.display.HTML object>"
            ],
            "text/html": [
              "<a href=https://haveibeenpwned.com/PwnedWebsites#devkitPro>devkitPro</a>"
            ]
          },
          "metadata": {}
        },
        {
          "output_type": "stream",
          "name": "stdout",
          "text": [
            "{'devkitPro': (datetime.datetime(2019, 2, 3, 0, 0), '1,508')}\n",
            "\n"
          ]
        },
        {
          "output_type": "display_data",
          "data": {
            "text/plain": [
              "<IPython.core.display.HTML object>"
            ],
            "text/html": [
              "<a href=https://haveibeenpwned.com/PwnedWebsites#DietCom>DietCom</a>"
            ]
          },
          "metadata": {}
        },
        {
          "output_type": "stream",
          "name": "stdout",
          "text": [
            "{'diet.com': (datetime.datetime(2014, 8, 10, 0, 0), '1,383,759')}\n",
            "\n"
          ]
        },
        {
          "output_type": "display_data",
          "data": {
            "text/plain": [
              "<IPython.core.display.HTML object>"
            ],
            "text/html": [
              "<a href=https://haveibeenpwned.com/PwnedWebsites#Digimon>Digimon</a>"
            ]
          },
          "metadata": {}
        },
        {
          "output_type": "stream",
          "name": "stdout",
          "text": [
            "{'Digimon': (datetime.datetime(2016, 9, 5, 0, 0), '7,687,679')}\n",
            "\n"
          ]
        },
        {
          "output_type": "display_data",
          "data": {
            "text/plain": [
              "<IPython.core.display.HTML object>"
            ],
            "text/html": [
              "<a href=https://haveibeenpwned.com/PwnedWebsites#Disqus>Disqus</a>"
            ]
          },
          "metadata": {}
        },
        {
          "output_type": "stream",
          "name": "stdout",
          "text": [
            "{'Disqus': (datetime.datetime(2012, 7, 1, 0, 0), '17,551,044')}\n",
            "\n"
          ]
        },
        {
          "output_type": "display_data",
          "data": {
            "text/plain": [
              "<IPython.core.display.HTML object>"
            ],
            "text/html": [
              "<a href=https://haveibeenpwned.com/PwnedWebsites#DivXSubTitles>DivXSubTitles</a>"
            ]
          },
          "metadata": {}
        },
        {
          "output_type": "stream",
          "name": "stdout",
          "text": [
            "{'DivX SubTitles': (datetime.datetime(2010, 1, 1, 0, 0), '783,058')}\n",
            "\n"
          ]
        },
        {
          "output_type": "display_data",
          "data": {
            "text/plain": [
              "<IPython.core.display.HTML object>"
            ],
            "text/html": [
              "<a href=https://haveibeenpwned.com/PwnedWebsites#DLH>DLH</a>"
            ]
          },
          "metadata": {}
        },
        {
          "output_type": "stream",
          "name": "stdout",
          "text": [
            "{'DLH.net': (datetime.datetime(2016, 7, 31, 0, 0), '3,264,710')}\n",
            "\n"
          ]
        },
        {
          "output_type": "display_data",
          "data": {
            "text/plain": [
              "<IPython.core.display.HTML object>"
            ],
            "text/html": [
              "<a href=https://haveibeenpwned.com/PwnedWebsites#Dodonew>Dodonew</a>"
            ]
          },
          "metadata": {}
        },
        {
          "output_type": "stream",
          "name": "stdout",
          "text": [
            "{'Dodonew.com': (datetime.datetime(2011, 12, 1, 0, 0), '8,718,404')}\n",
            "\n"
          ]
        },
        {
          "output_type": "display_data",
          "data": {
            "text/plain": [
              "<IPython.core.display.HTML object>"
            ],
            "text/html": [
              "<a href=https://haveibeenpwned.com/PwnedWebsites#Dominos>Dominos</a>"
            ]
          },
          "metadata": {}
        },
        {
          "output_type": "stream",
          "name": "stdout",
          "text": [
            "{\"Domino's\": (datetime.datetime(2014, 6, 13, 0, 0), '648,231')}\n",
            "\n"
          ]
        },
        {
          "output_type": "display_data",
          "data": {
            "text/plain": [
              "<IPython.core.display.HTML object>"
            ],
            "text/html": [
              "<a href=https://haveibeenpwned.com/PwnedWebsites#DominosIndia>DominosIndia</a>"
            ]
          },
          "metadata": {}
        },
        {
          "output_type": "stream",
          "name": "stdout",
          "text": [
            "{\"Domino's India\": (datetime.datetime(2021, 3, 24, 0, 0), '22,527,655')}\n",
            "\n"
          ]
        },
        {
          "output_type": "display_data",
          "data": {
            "text/plain": [
              "<IPython.core.display.HTML object>"
            ],
            "text/html": [
              "<a href=https://haveibeenpwned.com/PwnedWebsites#Doomworld>Doomworld</a>"
            ]
          },
          "metadata": {}
        },
        {
          "output_type": "stream",
          "name": "stdout",
          "text": [
            "{'Doomworld': (datetime.datetime(2022, 10, 12, 0, 0), '34,478')}\n",
            "\n"
          ]
        },
        {
          "output_type": "display_data",
          "data": {
            "text/plain": [
              "<IPython.core.display.HTML object>"
            ],
            "text/html": [
              "<a href=https://haveibeenpwned.com/PwnedWebsites#DoorDash>DoorDash</a>"
            ]
          },
          "metadata": {}
        },
        {
          "output_type": "stream",
          "name": "stdout",
          "text": [
            "{'DoorDash': (datetime.datetime(2022, 8, 2, 0, 0), '367,476')}\n",
            "\n"
          ]
        },
        {
          "output_type": "display_data",
          "data": {
            "text/plain": [
              "<IPython.core.display.HTML object>"
            ],
            "text/html": [
              "<a href=https://haveibeenpwned.com/PwnedWebsites#Doxbin>Doxbin</a>"
            ]
          },
          "metadata": {}
        },
        {
          "output_type": "stream",
          "name": "stdout",
          "text": [
            "{'Doxbin': (datetime.datetime(2022, 1, 5, 0, 0), '370,794')}\n",
            "\n"
          ]
        },
        {
          "output_type": "display_data",
          "data": {
            "text/plain": [
              "<IPython.core.display.HTML object>"
            ],
            "text/html": [
              "<a href=https://haveibeenpwned.com/PwnedWebsites#DriveSure>DriveSure</a>"
            ]
          },
          "metadata": {}
        },
        {
          "output_type": "stream",
          "name": "stdout",
          "text": [
            "{'DriveSure': (datetime.datetime(2020, 12, 19, 0, 0), '3,675,099')}\n",
            "\n"
          ]
        },
        {
          "output_type": "display_data",
          "data": {
            "text/plain": [
              "<IPython.core.display.HTML object>"
            ],
            "text/html": [
              "<a href=https://haveibeenpwned.com/PwnedWebsites#Drizly>Drizly</a>"
            ]
          },
          "metadata": {}
        },
        {
          "output_type": "stream",
          "name": "stdout",
          "text": [
            "{'Drizly': (datetime.datetime(2020, 7, 2, 0, 0), '2,479,044')}\n",
            "\n"
          ]
        },
        {
          "output_type": "display_data",
          "data": {
            "text/plain": [
              "<IPython.core.display.HTML object>"
            ],
            "text/html": [
              "<a href=https://haveibeenpwned.com/PwnedWebsites#Dropbox>Dropbox</a>"
            ]
          },
          "metadata": {}
        },
        {
          "output_type": "stream",
          "name": "stdout",
          "text": [
            "{'Dropbox': (datetime.datetime(2012, 7, 1, 0, 0), '68,648,009')}\n",
            "\n"
          ]
        },
        {
          "output_type": "display_data",
          "data": {
            "text/plain": [
              "<IPython.core.display.HTML object>"
            ],
            "text/html": [
              "<a href=https://haveibeenpwned.com/PwnedWebsites#Dubsmash>Dubsmash</a>"
            ]
          },
          "metadata": {}
        },
        {
          "output_type": "stream",
          "name": "stdout",
          "text": [
            "{'Dubsmash': (datetime.datetime(2018, 12, 1, 0, 0), '161,749,950')}\n",
            "\n"
          ]
        },
        {
          "output_type": "display_data",
          "data": {
            "text/plain": [
              "<IPython.core.display.HTML object>"
            ],
            "text/html": [
              "<a href=https://haveibeenpwned.com/PwnedWebsites#DucksUnlimited>DucksUnlimited</a>"
            ]
          },
          "metadata": {}
        },
        {
          "output_type": "stream",
          "name": "stdout",
          "text": [
            "{'Ducks Unlimited': (datetime.datetime(2021, 1, 29, 0, 0), '1,324,364')}\n",
            "\n"
          ]
        },
        {
          "output_type": "display_data",
          "data": {
            "text/plain": [
              "<IPython.core.display.HTML object>"
            ],
            "text/html": [
              "<a href=https://haveibeenpwned.com/PwnedWebsites#DuelingNetwork>DuelingNetwork</a>"
            ]
          },
          "metadata": {}
        },
        {
          "output_type": "stream",
          "name": "stdout",
          "text": [
            "{'Dueling Network': (datetime.datetime(2017, 3, 29, 0, 0), '6,486,626')}\n",
            "\n"
          ]
        },
        {
          "output_type": "display_data",
          "data": {
            "text/plain": [
              "<IPython.core.display.HTML object>"
            ],
            "text/html": [
              "<a href=https://haveibeenpwned.com/PwnedWebsites#DDO>DDO</a>"
            ]
          },
          "metadata": {}
        },
        {
          "output_type": "stream",
          "name": "stdout",
          "text": [
            "{'Dungeons & Dragons Online': (datetime.datetime(2013, 4, 2, 0, 0), '1,580,933')}\n",
            "\n"
          ]
        },
        {
          "output_type": "display_data",
          "data": {
            "text/plain": [
              "<IPython.core.display.HTML object>"
            ],
            "text/html": [
              "<a href=https://haveibeenpwned.com/PwnedWebsites#Dunzo>Dunzo</a>"
            ]
          },
          "metadata": {}
        },
        {
          "output_type": "stream",
          "name": "stdout",
          "text": [
            "{'Dunzo': (datetime.datetime(2020, 6, 19, 0, 0), '3,465,259')}\n",
            "\n"
          ]
        },
        {
          "output_type": "display_data",
          "data": {
            "text/plain": [
              "<IPython.core.display.HTML object>"
            ],
            "text/html": [
              "<a href=https://haveibeenpwned.com/PwnedWebsites#Duowan>Duowan</a>"
            ]
          },
          "metadata": {}
        },
        {
          "output_type": "stream",
          "name": "stdout",
          "text": [
            "{'Duowan.com': (datetime.datetime(2011, 1, 1, 0, 0), '2,639,894')}\n",
            "\n"
          ]
        },
        {
          "output_type": "display_data",
          "data": {
            "text/plain": [
              "<IPython.core.display.HTML object>"
            ],
            "text/html": [
              "<a href=https://haveibeenpwned.com/PwnedWebsites#DVDShopCH>DVDShopCH</a>"
            ]
          },
          "metadata": {}
        },
        {
          "output_type": "stream",
          "name": "stdout",
          "text": [
            "{'dvd-shop.ch': (datetime.datetime(2017, 12, 5, 0, 0), '67,973')}\n",
            "\n"
          ]
        },
        {
          "output_type": "display_data",
          "data": {
            "text/plain": [
              "<IPython.core.display.HTML object>"
            ],
            "text/html": [
              "<a href=https://haveibeenpwned.com/PwnedWebsites#Eatigo>Eatigo</a>"
            ]
          },
          "metadata": {}
        },
        {
          "output_type": "stream",
          "name": "stdout",
          "text": [
            "{'Eatigo': (datetime.datetime(2018, 10, 16, 0, 0), '2,789,609')}\n",
            "\n"
          ]
        },
        {
          "output_type": "display_data",
          "data": {
            "text/plain": [
              "<IPython.core.display.HTML object>"
            ],
            "text/html": [
              "<a href=https://haveibeenpwned.com/PwnedWebsites#EatStreet>EatStreet</a>"
            ]
          },
          "metadata": {}
        },
        {
          "output_type": "stream",
          "name": "stdout",
          "text": [
            "{'EatStreet': (datetime.datetime(2019, 5, 3, 0, 0), '6,353,564')}\n",
            "\n"
          ]
        },
        {
          "output_type": "display_data",
          "data": {
            "text/plain": [
              "<IPython.core.display.HTML object>"
            ],
            "text/html": [
              "<a href=https://haveibeenpwned.com/PwnedWebsites#Edmodo>Edmodo</a>"
            ]
          },
          "metadata": {}
        },
        {
          "output_type": "stream",
          "name": "stdout",
          "text": [
            "{'Edmodo': (datetime.datetime(2017, 5, 11, 0, 0), '43,423,561')}\n",
            "\n"
          ]
        },
        {
          "output_type": "display_data",
          "data": {
            "text/plain": [
              "<IPython.core.display.HTML object>"
            ],
            "text/html": [
              "<a href=https://haveibeenpwned.com/PwnedWebsites#Elance>Elance</a>"
            ]
          },
          "metadata": {}
        },
        {
          "output_type": "stream",
          "name": "stdout",
          "text": [
            "{'Elance': (datetime.datetime(2009, 1, 1, 0, 0), '1,291,178')}\n",
            "\n"
          ]
        },
        {
          "output_type": "display_data",
          "data": {
            "text/plain": [
              "<IPython.core.display.HTML object>"
            ],
            "text/html": [
              "<a href=https://haveibeenpwned.com/PwnedWebsites#Elanic>Elanic</a>"
            ]
          },
          "metadata": {}
        },
        {
          "output_type": "stream",
          "name": "stdout",
          "text": [
            "{'Elanic': (datetime.datetime(2018, 1, 1, 0, 0), '2,325,283')}\n",
            "\n"
          ]
        },
        {
          "output_type": "display_data",
          "data": {
            "text/plain": [
              "<IPython.core.display.HTML object>"
            ],
            "text/html": [
              "<a href=https://haveibeenpwned.com/PwnedWebsites#ElasticsearchSalesLeads>ElasticsearchSalesLeads</a>"
            ]
          },
          "metadata": {}
        },
        {
          "output_type": "stream",
          "name": "stdout",
          "text": [
            "{'Elasticsearch Instance of Sales Leads on AWS': (datetime.datetime(2018, 10, 29, 0, 0), '5,788,169')}\n",
            "\n"
          ]
        },
        {
          "output_type": "display_data",
          "data": {
            "text/plain": [
              "<IPython.core.display.HTML object>"
            ],
            "text/html": [
              "<a href=https://haveibeenpwned.com/PwnedWebsites#Emotet>Emotet</a>"
            ]
          },
          "metadata": {}
        },
        {
          "output_type": "stream",
          "name": "stdout",
          "text": [
            "{'Emotet': (datetime.datetime(2021, 1, 27, 0, 0), '4,324,770')}\n",
            "\n"
          ]
        },
        {
          "output_type": "display_data",
          "data": {
            "text/plain": [
              "<IPython.core.display.HTML object>"
            ],
            "text/html": [
              "<a href=https://haveibeenpwned.com/PwnedWebsites#Emuparadise>Emuparadise</a>"
            ]
          },
          "metadata": {}
        },
        {
          "output_type": "stream",
          "name": "stdout",
          "text": [
            "{'Emuparadise': (datetime.datetime(2018, 4, 1, 0, 0), '1,131,229')}\n",
            "\n"
          ]
        },
        {
          "output_type": "display_data",
          "data": {
            "text/plain": [
              "<IPython.core.display.HTML object>"
            ],
            "text/html": [
              "<a href=https://haveibeenpwned.com/PwnedWebsites#EPal>EPal</a>"
            ]
          },
          "metadata": {}
        },
        {
          "output_type": "stream",
          "name": "stdout",
          "text": [
            "{'E-Pal': (datetime.datetime(2022, 4, 15, 0, 0), '108,887')}\n",
            "\n"
          ]
        },
        {
          "output_type": "display_data",
          "data": {
            "text/plain": [
              "<IPython.core.display.HTML object>"
            ],
            "text/html": [
              "<a href=https://haveibeenpwned.com/PwnedWebsites#EpicGames>EpicGames</a>"
            ]
          },
          "metadata": {}
        },
        {
          "output_type": "stream",
          "name": "stdout",
          "text": [
            "{'Epic Games': (datetime.datetime(2016, 8, 11, 0, 0), '251,661')}\n",
            "\n"
          ]
        },
        {
          "output_type": "display_data",
          "data": {
            "text/plain": [
              "<IPython.core.display.HTML object>"
            ],
            "text/html": [
              "<a href=https://haveibeenpwned.com/PwnedWebsites#EpicBot>EpicBot</a>"
            ]
          },
          "metadata": {}
        },
        {
          "output_type": "stream",
          "name": "stdout",
          "text": [
            "{'EpicBot': (datetime.datetime(2019, 9, 1, 0, 0), '816,662')}\n",
            "\n"
          ]
        },
        {
          "output_type": "display_data",
          "data": {
            "text/plain": [
              "<IPython.core.display.HTML object>"
            ],
            "text/html": [
              "<a href=https://haveibeenpwned.com/PwnedWebsites#EpicNPC>EpicNPC</a>"
            ]
          },
          "metadata": {}
        },
        {
          "output_type": "stream",
          "name": "stdout",
          "text": [
            "{'EpicNPC': (datetime.datetime(2016, 1, 2, 0, 0), '408,795')}\n",
            "\n"
          ]
        },
        {
          "output_type": "display_data",
          "data": {
            "text/plain": [
              "<IPython.core.display.HTML object>"
            ],
            "text/html": [
              "<a href=https://haveibeenpwned.com/PwnedWebsites#Epik>Epik</a>"
            ]
          },
          "metadata": {}
        },
        {
          "output_type": "stream",
          "name": "stdout",
          "text": [
            "{'Epik': (datetime.datetime(2021, 9, 13, 0, 0), '15,003,961')}\n",
            "\n"
          ]
        },
        {
          "output_type": "display_data",
          "data": {
            "text/plain": [
              "<IPython.core.display.HTML object>"
            ],
            "text/html": [
              "<a href=https://haveibeenpwned.com/PwnedWebsites#Eroticy>Eroticy</a>"
            ]
          },
          "metadata": {}
        },
        {
          "output_type": "stream",
          "name": "stdout",
          "text": [
            "{'Eroticy': (datetime.datetime(2015, 6, 1, 0, 0), '1,370,175')}\n",
            "\n"
          ]
        },
        {
          "output_type": "display_data",
          "data": {
            "text/plain": [
              "<IPython.core.display.HTML object>"
            ],
            "text/html": [
              "<a href=https://haveibeenpwned.com/PwnedWebsites#Eskimi>Eskimi</a>"
            ]
          },
          "metadata": {}
        },
        {
          "output_type": "stream",
          "name": "stdout",
          "text": [
            "{'Eskimi': (datetime.datetime(2020, 9, 25, 0, 0), '1,197,620')}\n",
            "\n"
          ]
        },
        {
          "output_type": "display_data",
          "data": {
            "text/plain": [
              "<IPython.core.display.HTML object>"
            ],
            "text/html": [
              "<a href=https://haveibeenpwned.com/PwnedWebsites#Estonia>Estonia</a>"
            ]
          },
          "metadata": {}
        },
        {
          "output_type": "stream",
          "name": "stdout",
          "text": [
            "{'Estonian Citizens (via Estonian Cybercrime Bureau)': (datetime.datetime(2018, 6, 7, 0, 0), '655,161')}\n",
            "\n"
          ]
        },
        {
          "output_type": "display_data",
          "data": {
            "text/plain": [
              "<IPython.core.display.HTML object>"
            ],
            "text/html": [
              "<a href=https://haveibeenpwned.com/PwnedWebsites#eThekwiniMunicipality>eThekwiniMunicipality</a>"
            ]
          },
          "metadata": {}
        },
        {
          "output_type": "stream",
          "name": "stdout",
          "text": [
            "{'eThekwini Municipality': (datetime.datetime(2016, 9, 7, 0, 0), '81,830')}\n",
            "\n"
          ]
        },
        {
          "output_type": "display_data",
          "data": {
            "text/plain": [
              "<IPython.core.display.HTML object>"
            ],
            "text/html": [
              "<a href=https://haveibeenpwned.com/PwnedWebsites#Ethereum>Ethereum</a>"
            ]
          },
          "metadata": {}
        },
        {
          "output_type": "stream",
          "name": "stdout",
          "text": [
            "{'Ethereum': (datetime.datetime(2016, 12, 16, 0, 0), '16,431')}\n",
            "\n"
          ]
        },
        {
          "output_type": "display_data",
          "data": {
            "text/plain": [
              "<IPython.core.display.HTML object>"
            ],
            "text/html": [
              "<a href=https://haveibeenpwned.com/PwnedWebsites#EuropaJobs>EuropaJobs</a>"
            ]
          },
          "metadata": {}
        },
        {
          "output_type": "stream",
          "name": "stdout",
          "text": [
            "{'europa.jobs': (datetime.datetime(2019, 8, 11, 0, 0), '226,095')}\n",
            "\n"
          ]
        },
        {
          "output_type": "display_data",
          "data": {
            "text/plain": [
              "<IPython.core.display.HTML object>"
            ],
            "text/html": [
              "<a href=https://haveibeenpwned.com/PwnedWebsites#Evermotion>Evermotion</a>"
            ]
          },
          "metadata": {}
        },
        {
          "output_type": "stream",
          "name": "stdout",
          "text": [
            "{'Evermotion': (datetime.datetime(2015, 5, 7, 0, 0), '435,510')}\n",
            "\n"
          ]
        },
        {
          "output_type": "display_data",
          "data": {
            "text/plain": [
              "<IPython.core.display.HTML object>"
            ],
            "text/html": [
              "<a href=https://haveibeenpwned.com/PwnedWebsites#EverybodyEdits>EverybodyEdits</a>"
            ]
          },
          "metadata": {}
        },
        {
          "output_type": "stream",
          "name": "stdout",
          "text": [
            "{'Everybody Edits': (datetime.datetime(2019, 3, 23, 0, 0), '871,190')}\n",
            "\n"
          ]
        },
        {
          "output_type": "display_data",
          "data": {
            "text/plain": [
              "<IPython.core.display.HTML object>"
            ],
            "text/html": [
              "<a href=https://haveibeenpwned.com/PwnedWebsites#Evite>Evite</a>"
            ]
          },
          "metadata": {}
        },
        {
          "output_type": "stream",
          "name": "stdout",
          "text": [
            "{'Evite': (datetime.datetime(2013, 8, 11, 0, 0), '100,985,047')}\n",
            "\n"
          ]
        },
        {
          "output_type": "display_data",
          "data": {
            "text/plain": [
              "<IPython.core.display.HTML object>"
            ],
            "text/html": [
              "<a href=https://haveibeenpwned.com/PwnedWebsites#Evony>Evony</a>"
            ]
          },
          "metadata": {}
        },
        {
          "output_type": "stream",
          "name": "stdout",
          "text": [
            "{'Evony': (datetime.datetime(2016, 6, 1, 0, 0), '29,396,116')}\n",
            "\n"
          ]
        },
        {
          "output_type": "display_data",
          "data": {
            "text/plain": [
              "<IPython.core.display.HTML object>"
            ],
            "text/html": [
              "<a href=https://haveibeenpwned.com/PwnedWebsites#Exactis>Exactis</a>"
            ]
          },
          "metadata": {}
        },
        {
          "output_type": "stream",
          "name": "stdout",
          "text": [
            "{'Exactis': (datetime.datetime(2018, 6, 1, 0, 0), '131,577,763')}\n",
            "\n"
          ]
        },
        {
          "output_type": "display_data",
          "data": {
            "text/plain": [
              "<IPython.core.display.HTML object>"
            ],
            "text/html": [
              "<a href=https://haveibeenpwned.com/PwnedWebsites#Experian>Experian</a>"
            ]
          },
          "metadata": {}
        },
        {
          "output_type": "stream",
          "name": "stdout",
          "text": [
            "{'Experian (2015)': (datetime.datetime(2015, 9, 16, 0, 0), '7,196,890')}\n",
            "\n"
          ]
        },
        {
          "output_type": "display_data",
          "data": {
            "text/plain": [
              "<IPython.core.display.HTML object>"
            ],
            "text/html": [
              "<a href=https://haveibeenpwned.com/PwnedWebsites#Experian2020>Experian2020</a>"
            ]
          },
          "metadata": {}
        },
        {
          "output_type": "stream",
          "name": "stdout",
          "text": [
            "{'Experian (South Africa)': (datetime.datetime(2020, 8, 19, 0, 0), '1,284,637')}\n",
            "\n"
          ]
        },
        {
          "output_type": "display_data",
          "data": {
            "text/plain": [
              "<IPython.core.display.HTML object>"
            ],
            "text/html": [
              "<a href=https://haveibeenpwned.com/PwnedWebsites#ExploitIn>ExploitIn</a>"
            ]
          },
          "metadata": {}
        },
        {
          "output_type": "stream",
          "name": "stdout",
          "text": [
            "{'Exploit.In': (datetime.datetime(2016, 10, 13, 0, 0), '593,427,119')}\n",
            "\n"
          ]
        },
        {
          "output_type": "display_data",
          "data": {
            "text/plain": [
              "<IPython.core.display.HTML object>"
            ],
            "text/html": [
              "<a href=https://haveibeenpwned.com/PwnedWebsites#VINs>VINs</a>"
            ]
          },
          "metadata": {}
        },
        {
          "output_type": "stream",
          "name": "stdout",
          "text": [
            "{'Exposed VINs': (datetime.datetime(2017, 6, 5, 0, 0), '396,650')}\n",
            "\n"
          ]
        },
        {
          "output_type": "display_data",
          "data": {
            "text/plain": [
              "<IPython.core.display.HTML object>"
            ],
            "text/html": [
              "<a href=https://haveibeenpwned.com/PwnedWebsites#Eye4Fraud>Eye4Fraud</a>"
            ]
          },
          "metadata": {}
        },
        {
          "output_type": "stream",
          "name": "stdout",
          "text": [
            "{'Eye4Fraud': (datetime.datetime(2023, 1, 25, 0, 0), '16,000,591')}\n",
            "\n"
          ]
        },
        {
          "output_type": "display_data",
          "data": {
            "text/plain": [
              "<IPython.core.display.HTML object>"
            ],
            "text/html": [
              "<a href=https://haveibeenpwned.com/PwnedWebsites#EyeEm>EyeEm</a>"
            ]
          },
          "metadata": {}
        },
        {
          "output_type": "stream",
          "name": "stdout",
          "text": [
            "{'EyeEm': (datetime.datetime(2018, 2, 28, 0, 0), '19,611,022')}\n",
            "\n"
          ]
        },
        {
          "output_type": "display_data",
          "data": {
            "text/plain": [
              "<IPython.core.display.HTML object>"
            ],
            "text/html": [
              "<a href=https://haveibeenpwned.com/PwnedWebsites#Facebook>Facebook</a>"
            ]
          },
          "metadata": {}
        },
        {
          "output_type": "stream",
          "name": "stdout",
          "text": [
            "{'Facebook': (datetime.datetime(2019, 8, 1, 0, 0), '509,458,528')}\n",
            "\n"
          ]
        },
        {
          "output_type": "display_data",
          "data": {
            "text/plain": [
              "<IPython.core.display.HTML object>"
            ],
            "text/html": [
              "<a href=https://haveibeenpwned.com/PwnedWebsites#Facepunch>Facepunch</a>"
            ]
          },
          "metadata": {}
        },
        {
          "output_type": "stream",
          "name": "stdout",
          "text": [
            "{'Facepunch': (datetime.datetime(2016, 6, 3, 0, 0), '342,913')}\n",
            "\n"
          ]
        },
        {
          "output_type": "display_data",
          "data": {
            "text/plain": [
              "<IPython.core.display.HTML object>"
            ],
            "text/html": [
              "<a href=https://haveibeenpwned.com/PwnedWebsites#FaceUP>FaceUP</a>"
            ]
          },
          "metadata": {}
        },
        {
          "output_type": "stream",
          "name": "stdout",
          "text": [
            "{'FaceUP': (datetime.datetime(2013, 1, 1, 0, 0), '87,633')}\n",
            "\n"
          ]
        },
        {
          "output_type": "display_data",
          "data": {
            "text/plain": [
              "<IPython.core.display.HTML object>"
            ],
            "text/html": [
              "<a href=https://haveibeenpwned.com/PwnedWebsites#Factual>Factual</a>"
            ]
          },
          "metadata": {}
        },
        {
          "output_type": "stream",
          "name": "stdout",
          "text": [
            "{'Factual': (datetime.datetime(2017, 3, 22, 0, 0), '2,461,696')}\n",
            "\n"
          ]
        },
        {
          "output_type": "display_data",
          "data": {
            "text/plain": [
              "<IPython.core.display.HTML object>"
            ],
            "text/html": [
              "<a href=https://haveibeenpwned.com/PwnedWebsites#Famm>Famm</a>"
            ]
          },
          "metadata": {}
        },
        {
          "output_type": "stream",
          "name": "stdout",
          "text": [
            "{'Famm': (datetime.datetime(2020, 10, 8, 0, 0), '535,240')}\n",
            "\n"
          ]
        },
        {
          "output_type": "display_data",
          "data": {
            "text/plain": [
              "<IPython.core.display.HTML object>"
            ],
            "text/html": [
              "<a href=https://haveibeenpwned.com/PwnedWebsites#Fanpass>Fanpass</a>"
            ]
          },
          "metadata": {}
        },
        {
          "output_type": "stream",
          "name": "stdout",
          "text": [
            "{'Fanpass': (datetime.datetime(2022, 4, 30, 0, 0), '112,251')}\n",
            "\n"
          ]
        },
        {
          "output_type": "display_data",
          "data": {
            "text/plain": [
              "<IPython.core.display.HTML object>"
            ],
            "text/html": [
              "<a href=https://haveibeenpwned.com/PwnedWebsites#FantasyFootballHub>FantasyFootballHub</a>"
            ]
          },
          "metadata": {}
        },
        {
          "output_type": "stream",
          "name": "stdout",
          "text": [
            "{'Fantasy Football Hub': (datetime.datetime(2021, 10, 2, 0, 0), '66,479')}\n",
            "\n"
          ]
        },
        {
          "output_type": "display_data",
          "data": {
            "text/plain": [
              "<IPython.core.display.HTML object>"
            ],
            "text/html": [
              "<a href=https://haveibeenpwned.com/PwnedWebsites#WhiteRoom>WhiteRoom</a>"
            ]
          },
          "metadata": {}
        },
        {
          "output_type": "stream",
          "name": "stdout",
          "text": [
            "{'Fashion Nexus': (datetime.datetime(2018, 7, 9, 0, 0), '1,279,263')}\n",
            "\n"
          ]
        },
        {
          "output_type": "display_data",
          "data": {
            "text/plain": [
              "<IPython.core.display.HTML object>"
            ],
            "text/html": [
              "<a href=https://haveibeenpwned.com/PwnedWebsites#FashionFantasyGame>FashionFantasyGame</a>"
            ]
          },
          "metadata": {}
        },
        {
          "output_type": "stream",
          "name": "stdout",
          "text": [
            "{'FashionFantasyGame': (datetime.datetime(2016, 12, 1, 0, 0), '2,357,872')}\n",
            "\n"
          ]
        },
        {
          "output_type": "display_data",
          "data": {
            "text/plain": [
              "<IPython.core.display.HTML object>"
            ],
            "text/html": [
              "<a href=https://haveibeenpwned.com/PwnedWebsites#FilmaiIn>FilmaiIn</a>"
            ]
          },
          "metadata": {}
        },
        {
          "output_type": "stream",
          "name": "stdout",
          "text": [
            "{'Filmai.in': (datetime.datetime(2020, 1, 1, 0, 0), '645,786')}\n",
            "\n"
          ]
        },
        {
          "output_type": "display_data",
          "data": {
            "text/plain": [
              "<IPython.core.display.HTML object>"
            ],
            "text/html": [
              "<a href=https://haveibeenpwned.com/PwnedWebsites#FFShrine>FFShrine</a>"
            ]
          },
          "metadata": {}
        },
        {
          "output_type": "stream",
          "name": "stdout",
          "text": [
            "{'Final Fantasy Shrine': (datetime.datetime(2015, 9, 18, 0, 0), '620,677')}\n",
            "\n"
          ]
        },
        {
          "output_type": "display_data",
          "data": {
            "text/plain": [
              "<IPython.core.display.HTML object>"
            ],
            "text/html": [
              "<a href=https://haveibeenpwned.com/PwnedWebsites#FlashFlashRevolution>FlashFlashRevolution</a>"
            ]
          },
          "metadata": {}
        },
        {
          "output_type": "stream",
          "name": "stdout",
          "text": [
            "{'Flash Flash Revolution (2016 breach)': (datetime.datetime(2016, 2, 1, 0, 0), '1,771,845')}\n",
            "\n"
          ]
        },
        {
          "output_type": "display_data",
          "data": {
            "text/plain": [
              "<IPython.core.display.HTML object>"
            ],
            "text/html": [
              "<a href=https://haveibeenpwned.com/PwnedWebsites#FlashFlashRevolution2019>FlashFlashRevolution2019</a>"
            ]
          },
          "metadata": {}
        },
        {
          "output_type": "stream",
          "name": "stdout",
          "text": [
            "{'Flash Flash Revolution (2019 breach)': (datetime.datetime(2019, 7, 16, 0, 0), '1,858,124')}\n",
            "\n"
          ]
        },
        {
          "output_type": "display_data",
          "data": {
            "text/plain": [
              "<IPython.core.display.HTML object>"
            ],
            "text/html": [
              "<a href=https://haveibeenpwned.com/PwnedWebsites#Flashback>Flashback</a>"
            ]
          },
          "metadata": {}
        },
        {
          "output_type": "stream",
          "name": "stdout",
          "text": [
            "{'Flashback': (datetime.datetime(2015, 2, 11, 0, 0), '40,256')}\n",
            "\n"
          ]
        },
        {
          "output_type": "display_data",
          "data": {
            "text/plain": [
              "<IPython.core.display.HTML object>"
            ],
            "text/html": [
              "<a href=https://haveibeenpwned.com/PwnedWebsites#FlexBooker>FlexBooker</a>"
            ]
          },
          "metadata": {}
        },
        {
          "output_type": "stream",
          "name": "stdout",
          "text": [
            "{'FlexBooker': (datetime.datetime(2021, 12, 23, 0, 0), '3,756,794')}\n",
            "\n"
          ]
        },
        {
          "output_type": "display_data",
          "data": {
            "text/plain": [
              "<IPython.core.display.HTML object>"
            ],
            "text/html": [
              "<a href=https://haveibeenpwned.com/PwnedWebsites#Fling>Fling</a>"
            ]
          },
          "metadata": {}
        },
        {
          "output_type": "stream",
          "name": "stdout",
          "text": [
            "{'Fling': (datetime.datetime(2011, 3, 10, 0, 0), '40,767,652')}\n",
            "\n"
          ]
        },
        {
          "output_type": "display_data",
          "data": {
            "text/plain": [
              "<IPython.core.display.HTML object>"
            ],
            "text/html": [
              "<a href=https://haveibeenpwned.com/PwnedWebsites#FLVS>FLVS</a>"
            ]
          },
          "metadata": {}
        },
        {
          "output_type": "stream",
          "name": "stdout",
          "text": [
            "{'Florida Virtual School': (datetime.datetime(2018, 2, 12, 0, 0), '542,902')}\n",
            "\n"
          ]
        },
        {
          "output_type": "display_data",
          "data": {
            "text/plain": [
              "<IPython.core.display.HTML object>"
            ],
            "text/html": [
              "<a href=https://haveibeenpwned.com/PwnedWebsites#Foodora>Foodora</a>"
            ]
          },
          "metadata": {}
        },
        {
          "output_type": "stream",
          "name": "stdout",
          "text": [
            "{'Foodora': (datetime.datetime(2016, 4, 22, 0, 0), '582,578')}\n",
            "\n"
          ]
        },
        {
          "output_type": "display_data",
          "data": {
            "text/plain": [
              "<IPython.core.display.HTML object>"
            ],
            "text/html": [
              "<a href=https://haveibeenpwned.com/PwnedWebsites#Forbes>Forbes</a>"
            ]
          },
          "metadata": {}
        },
        {
          "output_type": "stream",
          "name": "stdout",
          "text": [
            "{'Forbes': (datetime.datetime(2014, 2, 15, 0, 0), '1,057,819')}\n",
            "\n"
          ]
        },
        {
          "output_type": "display_data",
          "data": {
            "text/plain": [
              "<IPython.core.display.HTML object>"
            ],
            "text/html": [
              "<a href=https://haveibeenpwned.com/PwnedWebsites#ForumCommunity>ForumCommunity</a>"
            ]
          },
          "metadata": {}
        },
        {
          "output_type": "stream",
          "name": "stdout",
          "text": [
            "{'ForumCommunity': (datetime.datetime(2016, 6, 1, 0, 0), '776,648')}\n",
            "\n"
          ]
        },
        {
          "output_type": "display_data",
          "data": {
            "text/plain": [
              "<IPython.core.display.HTML object>"
            ],
            "text/html": [
              "<a href=https://haveibeenpwned.com/PwnedWebsites#Fotolog>Fotolog</a>"
            ]
          },
          "metadata": {}
        },
        {
          "output_type": "stream",
          "name": "stdout",
          "text": [
            "{'Fotolog': (datetime.datetime(2018, 12, 1, 0, 0), '16,717,854')}\n",
            "\n"
          ]
        },
        {
          "output_type": "display_data",
          "data": {
            "text/plain": [
              "<IPython.core.display.HTML object>"
            ],
            "text/html": [
              "<a href=https://haveibeenpwned.com/PwnedWebsites#FoxyBingo>FoxyBingo</a>"
            ]
          },
          "metadata": {}
        },
        {
          "output_type": "stream",
          "name": "stdout",
          "text": [
            "{'Foxy Bingo': (datetime.datetime(2008, 4, 4, 0, 0), '252,216')}\n",
            "\n"
          ]
        },
        {
          "output_type": "display_data",
          "data": {
            "text/plain": [
              "<IPython.core.display.HTML object>"
            ],
            "text/html": [
              "<a href=https://haveibeenpwned.com/PwnedWebsites#FreedomHostingII>FreedomHostingII</a>"
            ]
          },
          "metadata": {}
        },
        {
          "output_type": "stream",
          "name": "stdout",
          "text": [
            "{'Freedom Hosting II': (datetime.datetime(2017, 1, 31, 0, 0), '380,830')}\n",
            "\n"
          ]
        },
        {
          "output_type": "display_data",
          "data": {
            "text/plain": [
              "<IPython.core.display.HTML object>"
            ],
            "text/html": [
              "<a href=https://haveibeenpwned.com/PwnedWebsites#FreshMenu>FreshMenu</a>"
            ]
          },
          "metadata": {}
        },
        {
          "output_type": "stream",
          "name": "stdout",
          "text": [
            "{'FreshMenu': (datetime.datetime(2016, 7, 1, 0, 0), '110,355')}\n",
            "\n"
          ]
        },
        {
          "output_type": "display_data",
          "data": {
            "text/plain": [
              "<IPython.core.display.HTML object>"
            ],
            "text/html": [
              "<a href=https://haveibeenpwned.com/PwnedWebsites#Fridae>Fridae</a>"
            ]
          },
          "metadata": {}
        },
        {
          "output_type": "stream",
          "name": "stdout",
          "text": [
            "{'Fridae': (datetime.datetime(2014, 5, 2, 0, 0), '35,368')}\n",
            "\n"
          ]
        },
        {
          "output_type": "display_data",
          "data": {
            "text/plain": [
              "<IPython.core.display.HTML object>"
            ],
            "text/html": [
              "<a href=https://haveibeenpwned.com/PwnedWebsites#Funimation>Funimation</a>"
            ]
          },
          "metadata": {}
        },
        {
          "output_type": "stream",
          "name": "stdout",
          "text": [
            "{'Funimation': (datetime.datetime(2016, 7, 1, 0, 0), '2,491,103')}\n",
            "\n"
          ]
        },
        {
          "output_type": "display_data",
          "data": {
            "text/plain": [
              "<IPython.core.display.HTML object>"
            ],
            "text/html": [
              "<a href=https://haveibeenpwned.com/PwnedWebsites#FunnyGames>FunnyGames</a>"
            ]
          },
          "metadata": {}
        },
        {
          "output_type": "stream",
          "name": "stdout",
          "text": [
            "{'Funny Games': (datetime.datetime(2018, 4, 28, 0, 0), '764,357')}\n",
            "\n"
          ]
        },
        {
          "output_type": "display_data",
          "data": {
            "text/plain": [
              "<IPython.core.display.HTML object>"
            ],
            "text/html": [
              "<a href=https://haveibeenpwned.com/PwnedWebsites#FurAffinity>FurAffinity</a>"
            ]
          },
          "metadata": {}
        },
        {
          "output_type": "stream",
          "name": "stdout",
          "text": [
            "{'Fur Affinity': (datetime.datetime(2016, 5, 17, 0, 0), '1,270,564')}\n",
            "\n"
          ]
        },
        {
          "output_type": "display_data",
          "data": {
            "text/plain": [
              "<IPython.core.display.HTML object>"
            ],
            "text/html": [
              "<a href=https://haveibeenpwned.com/PwnedWebsites#Gaadi>Gaadi</a>"
            ]
          },
          "metadata": {}
        },
        {
          "output_type": "stream",
          "name": "stdout",
          "text": [
            "{'Gaadi': (datetime.datetime(2015, 5, 14, 0, 0), '4,261,179')}\n",
            "\n"
          ]
        },
        {
          "output_type": "display_data",
          "data": {
            "text/plain": [
              "<IPython.core.display.HTML object>"
            ],
            "text/html": [
              "<a href=https://haveibeenpwned.com/PwnedWebsites#Gab>Gab</a>"
            ]
          },
          "metadata": {}
        },
        {
          "output_type": "stream",
          "name": "stdout",
          "text": [
            "{'Gab': (datetime.datetime(2021, 2, 26, 0, 0), '66,521')}\n",
            "\n"
          ]
        },
        {
          "output_type": "display_data",
          "data": {
            "text/plain": [
              "<IPython.core.display.HTML object>"
            ],
            "text/html": [
              "<a href=https://haveibeenpwned.com/PwnedWebsites#GamerzPlanet>GamerzPlanet</a>"
            ]
          },
          "metadata": {}
        },
        {
          "output_type": "stream",
          "name": "stdout",
          "text": [
            "{'Gamerzplanet': (datetime.datetime(2015, 10, 23, 0, 0), '1,217,166')}\n",
            "\n"
          ]
        },
        {
          "output_type": "display_data",
          "data": {
            "text/plain": [
              "<IPython.core.display.HTML object>"
            ],
            "text/html": [
              "<a href=https://haveibeenpwned.com/PwnedWebsites#GameSalad>GameSalad</a>"
            ]
          },
          "metadata": {}
        },
        {
          "output_type": "stream",
          "name": "stdout",
          "text": [
            "{'GameSalad': (datetime.datetime(2019, 2, 24, 0, 0), '1,506,242')}\n",
            "\n"
          ]
        },
        {
          "output_type": "display_data",
          "data": {
            "text/plain": [
              "<IPython.core.display.HTML object>"
            ],
            "text/html": [
              "<a href=https://haveibeenpwned.com/PwnedWebsites#GameTuts>GameTuts</a>"
            ]
          },
          "metadata": {}
        },
        {
          "output_type": "stream",
          "name": "stdout",
          "text": [
            "{'GameTuts': (datetime.datetime(2015, 3, 1, 0, 0), '2,064,274')}\n",
            "\n"
          ]
        },
        {
          "output_type": "display_data",
          "data": {
            "text/plain": [
              "<IPython.core.display.HTML object>"
            ],
            "text/html": [
              "<a href=https://haveibeenpwned.com/PwnedWebsites#Gamigo>Gamigo</a>"
            ]
          },
          "metadata": {}
        },
        {
          "output_type": "stream",
          "name": "stdout",
          "text": [
            "{'Gamigo': (datetime.datetime(2012, 3, 1, 0, 0), '8,243,604')}\n",
            "\n"
          ]
        },
        {
          "output_type": "display_data",
          "data": {
            "text/plain": [
              "<IPython.core.display.HTML object>"
            ],
            "text/html": [
              "<a href=https://haveibeenpwned.com/PwnedWebsites#GateHub>GateHub</a>"
            ]
          },
          "metadata": {}
        },
        {
          "output_type": "stream",
          "name": "stdout",
          "text": [
            "{'GateHub': (datetime.datetime(2019, 6, 4, 0, 0), '1,408,078')}\n",
            "\n"
          ]
        },
        {
          "output_type": "display_data",
          "data": {
            "text/plain": [
              "<IPython.core.display.HTML object>"
            ],
            "text/html": [
              "<a href=https://haveibeenpwned.com/PwnedWebsites#Gawker>Gawker</a>"
            ]
          },
          "metadata": {}
        },
        {
          "output_type": "stream",
          "name": "stdout",
          "text": [
            "{'Gawker': (datetime.datetime(2010, 12, 11, 0, 0), '1,247,574')}\n",
            "\n"
          ]
        },
        {
          "output_type": "display_data",
          "data": {
            "text/plain": [
              "<IPython.core.display.HTML object>"
            ],
            "text/html": [
              "<a href=https://haveibeenpwned.com/PwnedWebsites#Gett>Gett</a>"
            ]
          },
          "metadata": {}
        },
        {
          "output_type": "stream",
          "name": "stdout",
          "text": [
            "{'Ge.tt': (datetime.datetime(2017, 5, 4, 0, 0), '2,481,121')}\n",
            "\n"
          ]
        },
        {
          "output_type": "display_data",
          "data": {
            "text/plain": [
              "<IPython.core.display.HTML object>"
            ],
            "text/html": [
              "<a href=https://haveibeenpwned.com/PwnedWebsites#GeekedIn>GeekedIn</a>"
            ]
          },
          "metadata": {}
        },
        {
          "output_type": "stream",
          "name": "stdout",
          "text": [
            "{'GeekedIn': (datetime.datetime(2016, 8, 15, 0, 0), '1,073,164')}\n",
            "\n"
          ]
        },
        {
          "output_type": "display_data",
          "data": {
            "text/plain": [
              "<IPython.core.display.HTML object>"
            ],
            "text/html": [
              "<a href=https://haveibeenpwned.com/PwnedWebsites#Gemini>Gemini</a>"
            ]
          },
          "metadata": {}
        },
        {
          "output_type": "stream",
          "name": "stdout",
          "text": [
            "{'Gemini': (datetime.datetime(2022, 12, 13, 0, 0), '5,274,214')}\n",
            "\n"
          ]
        },
        {
          "output_type": "display_data",
          "data": {
            "text/plain": [
              "<IPython.core.display.HTML object>"
            ],
            "text/html": [
              "<a href=https://haveibeenpwned.com/PwnedWebsites#GeniusU>GeniusU</a>"
            ]
          },
          "metadata": {}
        },
        {
          "output_type": "stream",
          "name": "stdout",
          "text": [
            "{'GeniusU': (datetime.datetime(2020, 10, 2, 0, 0), '1,301,460')}\n",
            "\n"
          ]
        },
        {
          "output_type": "display_data",
          "data": {
            "text/plain": [
              "<IPython.core.display.HTML object>"
            ],
            "text/html": [
              "<a href=https://haveibeenpwned.com/PwnedWebsites#GetRevengeOnYourEx>GetRevengeOnYourEx</a>"
            ]
          },
          "metadata": {}
        },
        {
          "output_type": "stream",
          "name": "stdout",
          "text": [
            "{'Get Revenge On Your Ex': (datetime.datetime(2022, 9, 9, 0, 0), '79,195')}\n",
            "\n"
          ]
        },
        {
          "output_type": "display_data",
          "data": {
            "text/plain": [
              "<IPython.core.display.HTML object>"
            ],
            "text/html": [
              "<a href=https://haveibeenpwned.com/PwnedWebsites#GFAN>GFAN</a>"
            ]
          },
          "metadata": {}
        },
        {
          "output_type": "stream",
          "name": "stdout",
          "text": [
            "{'GFAN': (datetime.datetime(2016, 10, 10, 0, 0), '22,526,334')}\n",
            "\n"
          ]
        },
        {
          "output_type": "display_data",
          "data": {
            "text/plain": [
              "<IPython.core.display.HTML object>"
            ],
            "text/html": [
              "<a href=https://haveibeenpwned.com/PwnedWebsites#GGCorp>GGCorp</a>"
            ]
          },
          "metadata": {}
        },
        {
          "output_type": "stream",
          "name": "stdout",
          "text": [
            "{'GGCorp': (datetime.datetime(2022, 8, 11, 0, 0), '2,376,330')}\n",
            "\n"
          ]
        },
        {
          "output_type": "display_data",
          "data": {
            "text/plain": [
              "<IPython.core.display.HTML object>"
            ],
            "text/html": [
              "<a href=https://haveibeenpwned.com/PwnedWebsites#GiveSendGo>GiveSendGo</a>"
            ]
          },
          "metadata": {}
        },
        {
          "output_type": "stream",
          "name": "stdout",
          "text": [
            "{'GiveSendGo': (datetime.datetime(2022, 2, 7, 0, 0), '89,966')}\n",
            "\n"
          ]
        },
        {
          "output_type": "display_data",
          "data": {
            "text/plain": [
              "<IPython.core.display.HTML object>"
            ],
            "text/html": [
              "<a href=https://haveibeenpwned.com/PwnedWebsites#Glofox>Glofox</a>"
            ]
          },
          "metadata": {}
        },
        {
          "output_type": "stream",
          "name": "stdout",
          "text": [
            "{'Glofox': (datetime.datetime(2020, 3, 27, 0, 0), '2,330,735')}\n",
            "\n"
          ]
        },
        {
          "output_type": "display_data",
          "data": {
            "text/plain": [
              "<IPython.core.display.HTML object>"
            ],
            "text/html": [
              "<a href=https://haveibeenpwned.com/PwnedWebsites#GoGames>GoGames</a>"
            ]
          },
          "metadata": {}
        },
        {
          "output_type": "stream",
          "name": "stdout",
          "text": [
            "{'Go Games': (datetime.datetime(2015, 10, 24, 0, 0), '3,430,083')}\n",
            "\n"
          ]
        },
        {
          "output_type": "display_data",
          "data": {
            "text/plain": [
              "<IPython.core.display.HTML object>"
            ],
            "text/html": [
              "<a href=https://haveibeenpwned.com/PwnedWebsites#GoldSilver>GoldSilver</a>"
            ]
          },
          "metadata": {}
        },
        {
          "output_type": "stream",
          "name": "stdout",
          "text": [
            "{'GoldSilver': (datetime.datetime(2018, 10, 21, 0, 0), '242,715')}\n",
            "\n"
          ]
        },
        {
          "output_type": "display_data",
          "data": {
            "text/plain": [
              "<IPython.core.display.HTML object>"
            ],
            "text/html": [
              "<a href=https://haveibeenpwned.com/PwnedWebsites#gPotato>gPotato</a>"
            ]
          },
          "metadata": {}
        },
        {
          "output_type": "stream",
          "name": "stdout",
          "text": [
            "{'gPotato': (datetime.datetime(2007, 7, 12, 0, 0), '2,136,520')}\n",
            "\n"
          ]
        },
        {
          "output_type": "display_data",
          "data": {
            "text/plain": [
              "<IPython.core.display.HTML object>"
            ],
            "text/html": [
              "<a href=https://haveibeenpwned.com/PwnedWebsites#GPSUnderground>GPSUnderground</a>"
            ]
          },
          "metadata": {}
        },
        {
          "output_type": "stream",
          "name": "stdout",
          "text": [
            "{'GPS Underground': (datetime.datetime(2016, 7, 1, 0, 0), '669,584')}\n",
            "\n"
          ]
        },
        {
          "output_type": "display_data",
          "data": {
            "text/plain": [
              "<IPython.core.display.HTML object>"
            ],
            "text/html": [
              "<a href=https://haveibeenpwned.com/PwnedWebsites#Gravatar>Gravatar</a>"
            ]
          },
          "metadata": {}
        },
        {
          "output_type": "stream",
          "name": "stdout",
          "text": [
            "{'Gravatar': (datetime.datetime(2020, 10, 3, 0, 0), '113,990,759')}\n",
            "\n"
          ]
        },
        {
          "output_type": "display_data",
          "data": {
            "text/plain": [
              "<IPython.core.display.HTML object>"
            ],
            "text/html": [
              "<a href=https://haveibeenpwned.com/PwnedWebsites#GTAGaming>GTAGaming</a>"
            ]
          },
          "metadata": {}
        },
        {
          "output_type": "stream",
          "name": "stdout",
          "text": [
            "{'GTAGaming': (datetime.datetime(2016, 8, 1, 0, 0), '197,184')}\n",
            "\n"
          ]
        },
        {
          "output_type": "display_data",
          "data": {
            "text/plain": [
              "<IPython.core.display.HTML object>"
            ],
            "text/html": [
              "<a href=https://haveibeenpwned.com/PwnedWebsites#GunAuction>GunAuction</a>"
            ]
          },
          "metadata": {}
        },
        {
          "output_type": "stream",
          "name": "stdout",
          "text": [
            "{'GunAuction.com': (datetime.datetime(2022, 12, 3, 0, 0), '565,470')}\n",
            "\n"
          ]
        },
        {
          "output_type": "display_data",
          "data": {
            "text/plain": [
              "<IPython.core.display.HTML object>"
            ],
            "text/html": [
              "<a href=https://haveibeenpwned.com/PwnedWebsites#Playgar>Playgar</a>"
            ]
          },
          "metadata": {}
        },
        {
          "output_type": "stream",
          "name": "stdout",
          "text": [
            "{'Guns and Robots': (datetime.datetime(2016, 4, 1, 0, 0), '143,569')}\n",
            "\n"
          ]
        },
        {
          "output_type": "display_data",
          "data": {
            "text/plain": [
              "<IPython.core.display.HTML object>"
            ],
            "text/html": [
              "<a href=https://haveibeenpwned.com/PwnedWebsites#GunsDotCom>GunsDotCom</a>"
            ]
          },
          "metadata": {}
        },
        {
          "output_type": "stream",
          "name": "stdout",
          "text": [
            "{'Guns.com': (datetime.datetime(2021, 1, 12, 0, 0), '375,928')}\n",
            "\n"
          ]
        },
        {
          "output_type": "display_data",
          "data": {
            "text/plain": [
              "<IPython.core.display.HTML object>"
            ],
            "text/html": [
              "<a href=https://haveibeenpwned.com/PwnedWebsites#Guntrader>Guntrader</a>"
            ]
          },
          "metadata": {}
        },
        {
          "output_type": "stream",
          "name": "stdout",
          "text": [
            "{'Guntrader': (datetime.datetime(2021, 7, 17, 0, 0), '112,031')}\n",
            "\n"
          ]
        },
        {
          "output_type": "display_data",
          "data": {
            "text/plain": [
              "<IPython.core.display.HTML object>"
            ],
            "text/html": [
              "<a href=https://haveibeenpwned.com/PwnedWebsites#HackForums>HackForums</a>"
            ]
          },
          "metadata": {}
        },
        {
          "output_type": "stream",
          "name": "stdout",
          "text": [
            "{'hackforums.net': (datetime.datetime(2011, 6, 25, 0, 0), '191,540')}\n",
            "\n"
          ]
        },
        {
          "output_type": "display_data",
          "data": {
            "text/plain": [
              "<IPython.core.display.HTML object>"
            ],
            "text/html": [
              "<a href=https://haveibeenpwned.com/PwnedWebsites#HackingTeam>HackingTeam</a>"
            ]
          },
          "metadata": {}
        },
        {
          "output_type": "stream",
          "name": "stdout",
          "text": [
            "{'Hacking Team': (datetime.datetime(2015, 7, 6, 0, 0), '32,310')}\n",
            "\n"
          ]
        },
        {
          "output_type": "display_data",
          "data": {
            "text/plain": [
              "<IPython.core.display.HTML object>"
            ],
            "text/html": [
              "<a href=https://haveibeenpwned.com/PwnedWebsites#HauteLook>HauteLook</a>"
            ]
          },
          "metadata": {}
        },
        {
          "output_type": "stream",
          "name": "stdout",
          "text": [
            "{'HauteLook': (datetime.datetime(2018, 8, 7, 0, 0), '28,510,459')}\n",
            "\n"
          ]
        },
        {
          "output_type": "display_data",
          "data": {
            "text/plain": [
              "<IPython.core.display.HTML object>"
            ],
            "text/html": [
              "<a href=https://haveibeenpwned.com/PwnedWebsites#Havenly>Havenly</a>"
            ]
          },
          "metadata": {}
        },
        {
          "output_type": "stream",
          "name": "stdout",
          "text": [
            "{'Havenly': (datetime.datetime(2020, 6, 25, 0, 0), '1,369,180')}\n",
            "\n"
          ]
        },
        {
          "output_type": "display_data",
          "data": {
            "text/plain": [
              "<IPython.core.display.HTML object>"
            ],
            "text/html": [
              "<a href=https://haveibeenpwned.com/PwnedWebsites#HDBFinancialServices>HDBFinancialServices</a>"
            ]
          },
          "metadata": {}
        },
        {
          "output_type": "stream",
          "name": "stdout",
          "text": [
            "{'HDB Financial Services': (datetime.datetime(2023, 2, 22, 0, 0), '1,658,750')}\n",
            "\n"
          ]
        },
        {
          "output_type": "display_data",
          "data": {
            "text/plain": [
              "<IPython.core.display.HTML object>"
            ],
            "text/html": [
              "<a href=https://haveibeenpwned.com/PwnedWebsites#HealthNowNetworks>HealthNowNetworks</a>"
            ]
          },
          "metadata": {}
        },
        {
          "output_type": "stream",
          "name": "stdout",
          "text": [
            "{'Health Now Networks': (datetime.datetime(2017, 3, 25, 0, 0), '321,920')}\n",
            "\n"
          ]
        },
        {
          "output_type": "display_data",
          "data": {
            "text/plain": [
              "<IPython.core.display.HTML object>"
            ],
            "text/html": [
              "<a href=https://haveibeenpwned.com/PwnedWebsites#Hemmakvall>Hemmakvall</a>"
            ]
          },
          "metadata": {}
        },
        {
          "output_type": "stream",
          "name": "stdout",
          "text": [
            "{'Hemmakväll': (datetime.datetime(2015, 7, 8, 0, 0), '47,297')}\n",
            "\n"
          ]
        },
        {
          "output_type": "display_data",
          "data": {
            "text/plain": [
              "<IPython.core.display.HTML object>"
            ],
            "text/html": [
              "<a href=https://haveibeenpwned.com/PwnedWebsites#Hemmelig>Hemmelig</a>"
            ]
          },
          "metadata": {}
        },
        {
          "output_type": "stream",
          "name": "stdout",
          "text": [
            "{'hemmelig.com': (datetime.datetime(2011, 12, 21, 0, 0), '28,641')}\n",
            "\n"
          ]
        },
        {
          "output_type": "display_data",
          "data": {
            "text/plain": [
              "<IPython.core.display.HTML object>"
            ],
            "text/html": [
              "<a href=https://haveibeenpwned.com/PwnedWebsites#HeroesOfGaia>HeroesOfGaia</a>"
            ]
          },
          "metadata": {}
        },
        {
          "output_type": "stream",
          "name": "stdout",
          "text": [
            "{'Heroes of Gaia': (datetime.datetime(2013, 1, 4, 0, 0), '179,967')}\n",
            "\n"
          ]
        },
        {
          "output_type": "display_data",
          "data": {
            "text/plain": [
              "<IPython.core.display.HTML object>"
            ],
            "text/html": [
              "<a href=https://haveibeenpwned.com/PwnedWebsites#HeroesOfNewerth>HeroesOfNewerth</a>"
            ]
          },
          "metadata": {}
        },
        {
          "output_type": "stream",
          "name": "stdout",
          "text": [
            "{'Heroes of Newerth': (datetime.datetime(2012, 12, 17, 0, 0), '8,089,103')}\n",
            "\n"
          ]
        },
        {
          "output_type": "display_data",
          "data": {
            "text/plain": [
              "<IPython.core.display.HTML object>"
            ],
            "text/html": [
              "<a href=https://haveibeenpwned.com/PwnedWebsites#HIAPK>HIAPK</a>"
            ]
          },
          "metadata": {}
        },
        {
          "output_type": "stream",
          "name": "stdout",
          "text": [
            "{'HiAPK': (datetime.datetime(2014, 1, 1, 0, 0), '13,873,674')}\n",
            "\n"
          ]
        },
        {
          "output_type": "display_data",
          "data": {
            "text/plain": [
              "<IPython.core.display.HTML object>"
            ],
            "text/html": [
              "<a href=https://haveibeenpwned.com/PwnedWebsites#HLTV>HLTV</a>"
            ]
          },
          "metadata": {}
        },
        {
          "output_type": "stream",
          "name": "stdout",
          "text": [
            "{'HLTV': (datetime.datetime(2016, 6, 19, 0, 0), '611,070')}\n",
            "\n"
          ]
        },
        {
          "output_type": "display_data",
          "data": {
            "text/plain": [
              "<IPython.core.display.HTML object>"
            ],
            "text/html": [
              "<a href=https://haveibeenpwned.com/PwnedWebsites#HomeChef>HomeChef</a>"
            ]
          },
          "metadata": {}
        },
        {
          "output_type": "stream",
          "name": "stdout",
          "text": [
            "{'Home Chef': (datetime.datetime(2020, 2, 10, 0, 0), '8,815,692')}\n",
            "\n"
          ]
        },
        {
          "output_type": "display_data",
          "data": {
            "text/plain": [
              "<IPython.core.display.HTML object>"
            ],
            "text/html": [
              "<a href=https://haveibeenpwned.com/PwnedWebsites#HongFire>HongFire</a>"
            ]
          },
          "metadata": {}
        },
        {
          "output_type": "stream",
          "name": "stdout",
          "text": [
            "{'HongFire': (datetime.datetime(2015, 3, 1, 0, 0), '999,991')}\n",
            "\n"
          ]
        },
        {
          "output_type": "display_data",
          "data": {
            "text/plain": [
              "<IPython.core.display.HTML object>"
            ],
            "text/html": [
              "<a href=https://haveibeenpwned.com/PwnedWebsites#HookersNL>HookersNL</a>"
            ]
          },
          "metadata": {}
        },
        {
          "output_type": "stream",
          "name": "stdout",
          "text": [
            "{'Hookers.nl': (datetime.datetime(2019, 10, 10, 0, 0), '290,955')}\n",
            "\n"
          ]
        },
        {
          "output_type": "display_data",
          "data": {
            "text/plain": [
              "<IPython.core.display.HTML object>"
            ],
            "text/html": [
              "<a href=https://haveibeenpwned.com/PwnedWebsites#HoundDawgs>HoundDawgs</a>"
            ]
          },
          "metadata": {}
        },
        {
          "output_type": "stream",
          "name": "stdout",
          "text": [
            "{'HoundDawgs': (datetime.datetime(2017, 12, 30, 0, 0), '45,701')}\n",
            "\n"
          ]
        },
        {
          "output_type": "display_data",
          "data": {
            "text/plain": [
              "<IPython.core.display.HTML object>"
            ],
            "text/html": [
              "<a href=https://haveibeenpwned.com/PwnedWebsites#Houzz>Houzz</a>"
            ]
          },
          "metadata": {}
        },
        {
          "output_type": "stream",
          "name": "stdout",
          "text": [
            "{'Houzz': (datetime.datetime(2018, 5, 23, 0, 0), '48,881,308')}\n",
            "\n"
          ]
        },
        {
          "output_type": "display_data",
          "data": {
            "text/plain": [
              "<IPython.core.display.HTML object>"
            ],
            "text/html": [
              "<a href=https://haveibeenpwned.com/PwnedWebsites#HTCMania>HTCMania</a>"
            ]
          },
          "metadata": {}
        },
        {
          "output_type": "stream",
          "name": "stdout",
          "text": [
            "{'HTC Mania': (datetime.datetime(2020, 1, 4, 0, 0), '1,488,089')}\n",
            "\n"
          ]
        },
        {
          "output_type": "display_data",
          "data": {
            "text/plain": [
              "<IPython.core.display.HTML object>"
            ],
            "text/html": [
              "<a href=https://haveibeenpwned.com/PwnedWebsites#HTHStudios>HTHStudios</a>"
            ]
          },
          "metadata": {}
        },
        {
          "output_type": "stream",
          "name": "stdout",
          "text": [
            "{'HTH Studios': (datetime.datetime(2018, 8, 24, 0, 0), '411,755')}\n",
            "\n"
          ]
        },
        {
          "output_type": "display_data",
          "data": {
            "text/plain": [
              "<IPython.core.display.HTML object>"
            ],
            "text/html": [
              "<a href=https://haveibeenpwned.com/PwnedWebsites#Hub4Tech>Hub4Tech</a>"
            ]
          },
          "metadata": {}
        },
        {
          "output_type": "stream",
          "name": "stdout",
          "text": [
            "{'Hub4Tech': (datetime.datetime(2017, 1, 1, 0, 0), '36,916')}\n",
            "\n"
          ]
        },
        {
          "output_type": "display_data",
          "data": {
            "text/plain": [
              "<IPython.core.display.HTML object>"
            ],
            "text/html": [
              "<a href=https://haveibeenpwned.com/PwnedWebsites#Hurb>Hurb</a>"
            ]
          },
          "metadata": {}
        },
        {
          "output_type": "stream",
          "name": "stdout",
          "text": [
            "{'Hurb': (datetime.datetime(2019, 3, 14, 0, 0), '20,727,771')}\n",
            "\n"
          ]
        },
        {
          "output_type": "display_data",
          "data": {
            "text/plain": [
              "<IPython.core.display.HTML object>"
            ],
            "text/html": [
              "<a href=https://haveibeenpwned.com/PwnedWebsites#iDTech>iDTech</a>"
            ]
          },
          "metadata": {}
        },
        {
          "output_type": "stream",
          "name": "stdout",
          "text": [
            "{'iD Tech': (datetime.datetime(2023, 1, 3, 0, 0), '415,121')}\n",
            "\n"
          ]
        },
        {
          "output_type": "display_data",
          "data": {
            "text/plain": [
              "<IPython.core.display.HTML object>"
            ],
            "text/html": [
              "<a href=https://haveibeenpwned.com/PwnedWebsites#IDCGames>IDCGames</a>"
            ]
          },
          "metadata": {}
        },
        {
          "output_type": "stream",
          "name": "stdout",
          "text": [
            "{'IDC Games': (datetime.datetime(2021, 3, 15, 0, 0), '3,966,871')}\n",
            "\n"
          ]
        },
        {
          "output_type": "display_data",
          "data": {
            "text/plain": [
              "<IPython.core.display.HTML object>"
            ],
            "text/html": [
              "<a href=https://haveibeenpwned.com/PwnedWebsites#iDressup>iDressup</a>"
            ]
          },
          "metadata": {}
        },
        {
          "output_type": "stream",
          "name": "stdout",
          "text": [
            "{'i-Dressup': (datetime.datetime(2016, 7, 15, 0, 0), '2,191,565')}\n",
            "\n"
          ]
        },
        {
          "output_type": "display_data",
          "data": {
            "text/plain": [
              "<IPython.core.display.HTML object>"
            ],
            "text/html": [
              "<a href=https://haveibeenpwned.com/PwnedWebsites#IIMJobs>IIMJobs</a>"
            ]
          },
          "metadata": {}
        },
        {
          "output_type": "stream",
          "name": "stdout",
          "text": [
            "{'IIMJobs': (datetime.datetime(2018, 12, 31, 0, 0), '4,216,063')}\n",
            "\n"
          ]
        },
        {
          "output_type": "display_data",
          "data": {
            "text/plain": [
              "<IPython.core.display.HTML object>"
            ],
            "text/html": [
              "<a href=https://haveibeenpwned.com/PwnedWebsites#ILikeCheats>ILikeCheats</a>"
            ]
          },
          "metadata": {}
        },
        {
          "output_type": "stream",
          "name": "stdout",
          "text": [
            "{'ILikeCheats': (datetime.datetime(2014, 10, 18, 0, 0), '188,847')}\n",
            "\n"
          ]
        },
        {
          "output_type": "display_data",
          "data": {
            "text/plain": [
              "<IPython.core.display.HTML object>"
            ],
            "text/html": [
              "<a href=https://haveibeenpwned.com/PwnedWebsites#Imavex>Imavex</a>"
            ]
          },
          "metadata": {}
        },
        {
          "output_type": "stream",
          "name": "stdout",
          "text": [
            "{'Imavex': (datetime.datetime(2021, 8, 20, 0, 0), '878,209')}\n",
            "\n"
          ]
        },
        {
          "output_type": "display_data",
          "data": {
            "text/plain": [
              "<IPython.core.display.HTML object>"
            ],
            "text/html": [
              "<a href=https://haveibeenpwned.com/PwnedWebsites#iMesh>iMesh</a>"
            ]
          },
          "metadata": {}
        },
        {
          "output_type": "stream",
          "name": "stdout",
          "text": [
            "{'iMesh': (datetime.datetime(2013, 9, 22, 0, 0), '49,467,477')}\n",
            "\n"
          ]
        },
        {
          "output_type": "display_data",
          "data": {
            "text/plain": [
              "<IPython.core.display.HTML object>"
            ],
            "text/html": [
              "<a href=https://haveibeenpwned.com/PwnedWebsites#imgur>imgur</a>"
            ]
          },
          "metadata": {}
        },
        {
          "output_type": "stream",
          "name": "stdout",
          "text": [
            "{'imgur': (datetime.datetime(2013, 9, 1, 0, 0), '1,749,806')}\n",
            "\n"
          ]
        },
        {
          "output_type": "display_data",
          "data": {
            "text/plain": [
              "<IPython.core.display.HTML object>"
            ],
            "text/html": [
              "<a href=https://haveibeenpwned.com/PwnedWebsites#IndiaMART>IndiaMART</a>"
            ]
          },
          "metadata": {}
        },
        {
          "output_type": "stream",
          "name": "stdout",
          "text": [
            "{'IndiaMART': (datetime.datetime(2021, 5, 23, 0, 0), '20,154,583')}\n",
            "\n"
          ]
        },
        {
          "output_type": "display_data",
          "data": {
            "text/plain": [
              "<IPython.core.display.HTML object>"
            ],
            "text/html": [
              "<a href=https://haveibeenpwned.com/PwnedWebsites#IndianRailways>IndianRailways</a>"
            ]
          },
          "metadata": {}
        },
        {
          "output_type": "stream",
          "name": "stdout",
          "text": [
            "{'Indian Railways': (datetime.datetime(2019, 10, 28, 0, 0), '583,377')}\n",
            "\n"
          ]
        },
        {
          "output_type": "display_data",
          "data": {
            "text/plain": [
              "<IPython.core.display.HTML object>"
            ],
            "text/html": [
              "<a href=https://haveibeenpwned.com/PwnedWebsites#Insanelyi>Insanelyi</a>"
            ]
          },
          "metadata": {}
        },
        {
          "output_type": "stream",
          "name": "stdout",
          "text": [
            "{'Insanelyi': (datetime.datetime(2014, 7, 22, 0, 0), '104,097')}\n",
            "\n"
          ]
        },
        {
          "output_type": "display_data",
          "data": {
            "text/plain": [
              "<IPython.core.display.HTML object>"
            ],
            "text/html": [
              "<a href=https://haveibeenpwned.com/PwnedWebsites#InstantCheckmate>InstantCheckmate</a>"
            ]
          },
          "metadata": {}
        },
        {
          "output_type": "stream",
          "name": "stdout",
          "text": [
            "{'Instant Checkmate': (datetime.datetime(2019, 4, 12, 0, 0), '11,943,887')}\n",
            "\n"
          ]
        },
        {
          "output_type": "display_data",
          "data": {
            "text/plain": [
              "<IPython.core.display.HTML object>"
            ],
            "text/html": [
              "<a href=https://haveibeenpwned.com/PwnedWebsites#Intelimost>Intelimost</a>"
            ]
          },
          "metadata": {}
        },
        {
          "output_type": "stream",
          "name": "stdout",
          "text": [
            "{'Intelimost': (datetime.datetime(2019, 3, 10, 0, 0), '3,073,409')}\n",
            "\n"
          ]
        },
        {
          "output_type": "display_data",
          "data": {
            "text/plain": [
              "<IPython.core.display.HTML object>"
            ],
            "text/html": [
              "<a href=https://haveibeenpwned.com/PwnedWebsites#Interpals>Interpals</a>"
            ]
          },
          "metadata": {}
        },
        {
          "output_type": "stream",
          "name": "stdout",
          "text": [
            "{'InterPals': (datetime.datetime(2015, 11, 4, 0, 0), '3,439,414')}\n",
            "\n"
          ]
        },
        {
          "output_type": "display_data",
          "data": {
            "text/plain": [
              "<IPython.core.display.HTML object>"
            ],
            "text/html": [
              "<a href=https://haveibeenpwned.com/PwnedWebsites#iPmart>iPmart</a>"
            ]
          },
          "metadata": {}
        },
        {
          "output_type": "stream",
          "name": "stdout",
          "text": [
            "{'iPmart': (datetime.datetime(2015, 7, 1, 0, 0), '2,460,787')}\n",
            "\n"
          ]
        },
        {
          "output_type": "display_data",
          "data": {
            "text/plain": [
              "<IPython.core.display.HTML object>"
            ],
            "text/html": [
              "<a href=https://haveibeenpwned.com/PwnedWebsites#ixigo>ixigo</a>"
            ]
          },
          "metadata": {}
        },
        {
          "output_type": "stream",
          "name": "stdout",
          "text": [
            "{'ixigo': (datetime.datetime(2019, 1, 3, 0, 0), '17,204,697')}\n",
            "\n"
          ]
        },
        {
          "output_type": "display_data",
          "data": {
            "text/plain": [
              "<IPython.core.display.HTML object>"
            ],
            "text/html": [
              "<a href=https://haveibeenpwned.com/PwnedWebsites#James>James</a>"
            ]
          },
          "metadata": {}
        },
        {
          "output_type": "stream",
          "name": "stdout",
          "text": [
            "{'James': (datetime.datetime(2020, 3, 25, 0, 0), '1,541,284')}\n",
            "\n"
          ]
        },
        {
          "output_type": "display_data",
          "data": {
            "text/plain": [
              "<IPython.core.display.HTML object>"
            ],
            "text/html": [
              "<a href=https://haveibeenpwned.com/PwnedWebsites#JD>JD</a>"
            ]
          },
          "metadata": {}
        },
        {
          "output_type": "stream",
          "name": "stdout",
          "text": [
            "{'JD': (datetime.datetime(2013, 1, 1, 0, 0), '77,449,341')}\n",
            "\n"
          ]
        },
        {
          "output_type": "display_data",
          "data": {
            "text/plain": [
              "<IPython.core.display.HTML object>"
            ],
            "text/html": [
              "<a href=https://haveibeenpwned.com/PwnedWebsites#Jefit>Jefit</a>"
            ]
          },
          "metadata": {}
        },
        {
          "output_type": "stream",
          "name": "stdout",
          "text": [
            "{'Jefit': (datetime.datetime(2020, 8, 11, 0, 0), '9,052,457')}\n",
            "\n"
          ]
        },
        {
          "output_type": "display_data",
          "data": {
            "text/plain": [
              "<IPython.core.display.HTML object>"
            ],
            "text/html": [
              "<a href=https://haveibeenpwned.com/PwnedWebsites#JobAndTalent>JobAndTalent</a>"
            ]
          },
          "metadata": {}
        },
        {
          "output_type": "stream",
          "name": "stdout",
          "text": [
            "{'Jobandtalent': (datetime.datetime(2018, 2, 1, 0, 0), '10,981,207')}\n",
            "\n"
          ]
        },
        {
          "output_type": "display_data",
          "data": {
            "text/plain": [
              "<IPython.core.display.HTML object>"
            ],
            "text/html": [
              "<a href=https://haveibeenpwned.com/PwnedWebsites#JobStreet>JobStreet</a>"
            ]
          },
          "metadata": {}
        },
        {
          "output_type": "stream",
          "name": "stdout",
          "text": [
            "{'JobStreet': (datetime.datetime(2012, 3, 7, 0, 0), '3,883,455')}\n",
            "\n"
          ]
        },
        {
          "output_type": "display_data",
          "data": {
            "text/plain": [
              "<IPython.core.display.HTML object>"
            ],
            "text/html": [
              "<a href=https://haveibeenpwned.com/PwnedWebsites#JoomlArt>JoomlArt</a>"
            ]
          },
          "metadata": {}
        },
        {
          "output_type": "stream",
          "name": "stdout",
          "text": [
            "{'JoomlArt': (datetime.datetime(2018, 1, 30, 0, 0), '22,477')}\n",
            "\n"
          ]
        },
        {
          "output_type": "display_data",
          "data": {
            "text/plain": [
              "<IPython.core.display.HTML object>"
            ],
            "text/html": [
              "<a href=https://haveibeenpwned.com/PwnedWebsites#JukinMedia>JukinMedia</a>"
            ]
          },
          "metadata": {}
        },
        {
          "output_type": "stream",
          "name": "stdout",
          "text": [
            "{'JukinMedia': (datetime.datetime(2021, 10, 28, 0, 0), '314,290')}\n",
            "\n"
          ]
        },
        {
          "output_type": "display_data",
          "data": {
            "text/plain": [
              "<IPython.core.display.HTML object>"
            ],
            "text/html": [
              "<a href=https://haveibeenpwned.com/PwnedWebsites#JustDate>JustDate</a>"
            ]
          },
          "metadata": {}
        },
        {
          "output_type": "stream",
          "name": "stdout",
          "text": [
            "{'Justdate.com': (datetime.datetime(2016, 9, 29, 0, 0), '24,451,312')}\n",
            "\n"
          ]
        },
        {
          "output_type": "display_data",
          "data": {
            "text/plain": [
              "<IPython.core.display.HTML object>"
            ],
            "text/html": [
              "<a href=https://haveibeenpwned.com/PwnedWebsites#KayoMoe>KayoMoe</a>"
            ]
          },
          "metadata": {}
        },
        {
          "output_type": "stream",
          "name": "stdout",
          "text": [
            "{'Kayo.moe Credential Stuffing List': (datetime.datetime(2018, 9, 11, 0, 0), '41,826,763')}\n",
            "\n"
          ]
        },
        {
          "output_type": "display_data",
          "data": {
            "text/plain": [
              "<IPython.core.display.HTML object>"
            ],
            "text/html": [
              "<a href=https://haveibeenpwned.com/PwnedWebsites#Kickstarter>Kickstarter</a>"
            ]
          },
          "metadata": {}
        },
        {
          "output_type": "stream",
          "name": "stdout",
          "text": [
            "{'Kickstarter': (datetime.datetime(2014, 2, 16, 0, 0), '5,176,463')}\n",
            "\n"
          ]
        },
        {
          "output_type": "display_data",
          "data": {
            "text/plain": [
              "<IPython.core.display.HTML object>"
            ],
            "text/html": [
              "<a href=https://haveibeenpwned.com/PwnedWebsites#Kimsufi>Kimsufi</a>"
            ]
          },
          "metadata": {}
        },
        {
          "output_type": "stream",
          "name": "stdout",
          "text": [
            "{'Kimsufi': (datetime.datetime(2015, 5, 1, 0, 0), '504,565')}\n",
            "\n"
          ]
        },
        {
          "output_type": "display_data",
          "data": {
            "text/plain": [
              "<IPython.core.display.HTML object>"
            ],
            "text/html": [
              "<a href=https://haveibeenpwned.com/PwnedWebsites#KiwiFarms>KiwiFarms</a>"
            ]
          },
          "metadata": {}
        },
        {
          "output_type": "stream",
          "name": "stdout",
          "text": [
            "{'KiwiFarms': (datetime.datetime(2019, 9, 10, 0, 0), '4,606')}\n",
            "\n"
          ]
        },
        {
          "output_type": "display_data",
          "data": {
            "text/plain": [
              "<IPython.core.display.HTML object>"
            ],
            "text/html": [
              "<a href=https://haveibeenpwned.com/PwnedWebsites#KMRU>KMRU</a>"
            ]
          },
          "metadata": {}
        },
        {
          "output_type": "stream",
          "name": "stdout",
          "text": [
            "{'KM.RU': (datetime.datetime(2016, 2, 29, 0, 0), '1,476,783')}\n",
            "\n"
          ]
        },
        {
          "output_type": "display_data",
          "data": {
            "text/plain": [
              "<IPython.core.display.HTML object>"
            ],
            "text/html": [
              "<a href=https://haveibeenpwned.com/PwnedWebsites#KnownCircle>KnownCircle</a>"
            ]
          },
          "metadata": {}
        },
        {
          "output_type": "stream",
          "name": "stdout",
          "text": [
            "{'KnownCircle': (datetime.datetime(2016, 4, 12, 0, 0), '1,957,600')}\n",
            "\n"
          ]
        },
        {
          "output_type": "display_data",
          "data": {
            "text/plain": [
              "<IPython.core.display.HTML object>"
            ],
            "text/html": [
              "<a href=https://haveibeenpwned.com/PwnedWebsites#Knuddels>Knuddels</a>"
            ]
          },
          "metadata": {}
        },
        {
          "output_type": "stream",
          "name": "stdout",
          "text": [
            "{'Knuddels': (datetime.datetime(2018, 9, 5, 0, 0), '808,330')}\n",
            "\n"
          ]
        },
        {
          "output_type": "display_data",
          "data": {
            "text/plain": [
              "<IPython.core.display.HTML object>"
            ],
            "text/html": [
              "<a href=https://haveibeenpwned.com/PwnedWebsites#KomplettFritid>KomplettFritid</a>"
            ]
          },
          "metadata": {}
        },
        {
          "output_type": "stream",
          "name": "stdout",
          "text": [
            "{'KomplettFritid': (datetime.datetime(2021, 2, 1, 0, 0), '139,401')}\n",
            "\n"
          ]
        },
        {
          "output_type": "display_data",
          "data": {
            "text/plain": [
              "<IPython.core.display.HTML object>"
            ],
            "text/html": [
              "<a href=https://haveibeenpwned.com/PwnedWebsites#Kreditplus>Kreditplus</a>"
            ]
          },
          "metadata": {}
        },
        {
          "output_type": "stream",
          "name": "stdout",
          "text": [
            "{'Kreditplus': (datetime.datetime(2020, 6, 23, 0, 0), '768,890')}\n",
            "\n"
          ]
        },
        {
          "output_type": "display_data",
          "data": {
            "text/plain": [
              "<IPython.core.display.HTML object>"
            ],
            "text/html": [
              "<a href=https://haveibeenpwned.com/PwnedWebsites#LaPosteMobile>LaPosteMobile</a>"
            ]
          },
          "metadata": {}
        },
        {
          "output_type": "stream",
          "name": "stdout",
          "text": [
            "{'La Poste Mobile': (datetime.datetime(2022, 7, 4, 0, 0), '533,886')}\n",
            "\n"
          ]
        },
        {
          "output_type": "display_data",
          "data": {
            "text/plain": [
              "<IPython.core.display.HTML object>"
            ],
            "text/html": [
              "<a href=https://haveibeenpwned.com/PwnedWebsites#Lanwar>Lanwar</a>"
            ]
          },
          "metadata": {}
        },
        {
          "output_type": "stream",
          "name": "stdout",
          "text": [
            "{'Lanwar': (datetime.datetime(2018, 7, 28, 0, 0), '45,120')}\n",
            "\n"
          ]
        },
        {
          "output_type": "display_data",
          "data": {
            "text/plain": [
              "<IPython.core.display.HTML object>"
            ],
            "text/html": [
              "<a href=https://haveibeenpwned.com/PwnedWebsites#Lastfm>Lastfm</a>"
            ]
          },
          "metadata": {}
        },
        {
          "output_type": "stream",
          "name": "stdout",
          "text": [
            "{'Last.fm': (datetime.datetime(2012, 3, 22, 0, 0), '37,217,682')}\n",
            "\n"
          ]
        },
        {
          "output_type": "display_data",
          "data": {
            "text/plain": [
              "<IPython.core.display.HTML object>"
            ],
            "text/html": [
              "<a href=https://haveibeenpwned.com/PwnedWebsites#Lazada>Lazada</a>"
            ]
          },
          "metadata": {}
        },
        {
          "output_type": "stream",
          "name": "stdout",
          "text": [
            "{'Lazada RedMart': (datetime.datetime(2020, 7, 30, 0, 0), '1,107,789')}\n",
            "\n"
          ]
        },
        {
          "output_type": "display_data",
          "data": {
            "text/plain": [
              "<IPython.core.display.HTML object>"
            ],
            "text/html": [
              "<a href=https://haveibeenpwned.com/PwnedWebsites#LBB>LBB</a>"
            ]
          },
          "metadata": {}
        },
        {
          "output_type": "stream",
          "name": "stdout",
          "text": [
            "{'LBB': (datetime.datetime(2019, 2, 14, 0, 0), '39,288')}\n",
            "\n"
          ]
        },
        {
          "output_type": "display_data",
          "data": {
            "text/plain": [
              "<IPython.core.display.HTML object>"
            ],
            "text/html": [
              "<a href=https://haveibeenpwned.com/PwnedWebsites#LeadHunter>LeadHunter</a>"
            ]
          },
          "metadata": {}
        },
        {
          "output_type": "stream",
          "name": "stdout",
          "text": [
            "{'Lead Hunter': (datetime.datetime(2020, 3, 4, 0, 0), '68,693,853')}\n",
            "\n"
          ]
        },
        {
          "output_type": "display_data",
          "data": {
            "text/plain": [
              "<IPython.core.display.HTML object>"
            ],
            "text/html": [
              "<a href=https://haveibeenpwned.com/PwnedWebsites#LeagueOfLegends>LeagueOfLegends</a>"
            ]
          },
          "metadata": {}
        },
        {
          "output_type": "stream",
          "name": "stdout",
          "text": [
            "{'League of Legends': (datetime.datetime(2012, 6, 11, 0, 0), '339,487')}\n",
            "\n"
          ]
        },
        {
          "output_type": "display_data",
          "data": {
            "text/plain": [
              "<IPython.core.display.HTML object>"
            ],
            "text/html": [
              "<a href=https://haveibeenpwned.com/PwnedWebsites#Ledger>Ledger</a>"
            ]
          },
          "metadata": {}
        },
        {
          "output_type": "stream",
          "name": "stdout",
          "text": [
            "{'Ledger': (datetime.datetime(2020, 6, 25, 0, 0), '1,075,241')}\n",
            "\n"
          ]
        },
        {
          "output_type": "display_data",
          "data": {
            "text/plain": [
              "<IPython.core.display.HTML object>"
            ],
            "text/html": [
              "<a href=https://haveibeenpwned.com/PwnedWebsites#Leet>Leet</a>"
            ]
          },
          "metadata": {}
        },
        {
          "output_type": "stream",
          "name": "stdout",
          "text": [
            "{'Leet': (datetime.datetime(2016, 9, 10, 0, 0), '5,081,689')}\n",
            "\n"
          ]
        },
        {
          "output_type": "display_data",
          "data": {
            "text/plain": [
              "<IPython.core.display.HTML object>"
            ],
            "text/html": [
              "<a href=https://haveibeenpwned.com/PwnedWebsites#Lifebear>Lifebear</a>"
            ]
          },
          "metadata": {}
        },
        {
          "output_type": "stream",
          "name": "stdout",
          "text": [
            "{'Lifebear': (datetime.datetime(2019, 2, 28, 0, 0), '3,670,561')}\n",
            "\n"
          ]
        },
        {
          "output_type": "display_data",
          "data": {
            "text/plain": [
              "<IPython.core.display.HTML object>"
            ],
            "text/html": [
              "<a href=https://haveibeenpwned.com/PwnedWebsites#Lifeboat>Lifeboat</a>"
            ]
          },
          "metadata": {}
        },
        {
          "output_type": "stream",
          "name": "stdout",
          "text": [
            "{'Lifeboat': (datetime.datetime(2016, 1, 1, 0, 0), '7,089,395')}\n",
            "\n"
          ]
        },
        {
          "output_type": "display_data",
          "data": {
            "text/plain": [
              "<IPython.core.display.HTML object>"
            ],
            "text/html": [
              "<a href=https://haveibeenpwned.com/PwnedWebsites#LightsHope>LightsHope</a>"
            ]
          },
          "metadata": {}
        },
        {
          "output_type": "stream",
          "name": "stdout",
          "text": [
            "{\"Light's Hope\": (datetime.datetime(2018, 6, 25, 0, 0), '30,484')}\n",
            "\n"
          ]
        },
        {
          "output_type": "display_data",
          "data": {
            "text/plain": [
              "<IPython.core.display.HTML object>"
            ],
            "text/html": [
              "<a href=https://haveibeenpwned.com/PwnedWebsites#Liker>Liker</a>"
            ]
          },
          "metadata": {}
        },
        {
          "output_type": "stream",
          "name": "stdout",
          "text": [
            "{'Liker': (datetime.datetime(2021, 3, 8, 0, 0), '465,141')}\n",
            "\n"
          ]
        },
        {
          "output_type": "display_data",
          "data": {
            "text/plain": [
              "<IPython.core.display.HTML object>"
            ],
            "text/html": [
              "<a href=https://haveibeenpwned.com/PwnedWebsites#LimeVPN>LimeVPN</a>"
            ]
          },
          "metadata": {}
        },
        {
          "output_type": "stream",
          "name": "stdout",
          "text": [
            "{'LimeVPN': (datetime.datetime(2020, 10, 8, 0, 0), '23,348')}\n",
            "\n"
          ]
        },
        {
          "output_type": "display_data",
          "data": {
            "text/plain": [
              "<IPython.core.display.HTML object>"
            ],
            "text/html": [
              "<a href=https://haveibeenpwned.com/PwnedWebsites#LinkedIn>LinkedIn</a>"
            ]
          },
          "metadata": {}
        },
        {
          "output_type": "stream",
          "name": "stdout",
          "text": [
            "{'LinkedIn': (datetime.datetime(2012, 5, 5, 0, 0), '164,611,595')}\n",
            "\n"
          ]
        },
        {
          "output_type": "display_data",
          "data": {
            "text/plain": [
              "<IPython.core.display.HTML object>"
            ],
            "text/html": [
              "<a href=https://haveibeenpwned.com/PwnedWebsites#LinkedInScrape>LinkedInScrape</a>"
            ]
          },
          "metadata": {}
        },
        {
          "output_type": "stream",
          "name": "stdout",
          "text": [
            "{'LinkedIn Scraped Data': (datetime.datetime(2021, 4, 8, 0, 0), '125,698,496')}\n",
            "\n"
          ]
        },
        {
          "output_type": "display_data",
          "data": {
            "text/plain": [
              "<IPython.core.display.HTML object>"
            ],
            "text/html": [
              "<a href=https://haveibeenpwned.com/PwnedWebsites#LinuxForums>LinuxForums</a>"
            ]
          },
          "metadata": {}
        },
        {
          "output_type": "stream",
          "name": "stdout",
          "text": [
            "{'Linux Forums': (datetime.datetime(2018, 5, 1, 0, 0), '275,785')}\n",
            "\n"
          ]
        },
        {
          "output_type": "display_data",
          "data": {
            "text/plain": [
              "<IPython.core.display.HTML object>"
            ],
            "text/html": [
              "<a href=https://haveibeenpwned.com/PwnedWebsites#LinuxMint>LinuxMint</a>"
            ]
          },
          "metadata": {}
        },
        {
          "output_type": "stream",
          "name": "stdout",
          "text": [
            "{'Linux Mint': (datetime.datetime(2016, 2, 21, 0, 0), '144,989')}\n",
            "\n"
          ]
        },
        {
          "output_type": "display_data",
          "data": {
            "text/plain": [
              "<IPython.core.display.HTML object>"
            ],
            "text/html": [
              "<a href=https://haveibeenpwned.com/PwnedWebsites#LittleMonsters>LittleMonsters</a>"
            ]
          },
          "metadata": {}
        },
        {
          "output_type": "stream",
          "name": "stdout",
          "text": [
            "{'Little Monsters': (datetime.datetime(2017, 1, 1, 0, 0), '995,698')}\n",
            "\n"
          ]
        },
        {
          "output_type": "display_data",
          "data": {
            "text/plain": [
              "<IPython.core.display.HTML object>"
            ],
            "text/html": [
              "<a href=https://haveibeenpwned.com/PwnedWebsites#LiveAuctioneers>LiveAuctioneers</a>"
            ]
          },
          "metadata": {}
        },
        {
          "output_type": "stream",
          "name": "stdout",
          "text": [
            "{'LiveAuctioneers': (datetime.datetime(2020, 6, 19, 0, 0), '3,385,862')}\n",
            "\n"
          ]
        },
        {
          "output_type": "display_data",
          "data": {
            "text/plain": [
              "<IPython.core.display.HTML object>"
            ],
            "text/html": [
              "<a href=https://haveibeenpwned.com/PwnedWebsites#LiveJournal>LiveJournal</a>"
            ]
          },
          "metadata": {}
        },
        {
          "output_type": "stream",
          "name": "stdout",
          "text": [
            "{'LiveJournal': (datetime.datetime(2017, 1, 1, 0, 0), '26,372,781')}\n",
            "\n"
          ]
        },
        {
          "output_type": "display_data",
          "data": {
            "text/plain": [
              "<IPython.core.display.HTML object>"
            ],
            "text/html": [
              "<a href=https://haveibeenpwned.com/PwnedWebsites#Livpure>Livpure</a>"
            ]
          },
          "metadata": {}
        },
        {
          "output_type": "stream",
          "name": "stdout",
          "text": [
            "{'Livpure': (datetime.datetime(2020, 8, 29, 0, 0), '269,552')}\n",
            "\n"
          ]
        },
        {
          "output_type": "display_data",
          "data": {
            "text/plain": [
              "<IPython.core.display.HTML object>"
            ],
            "text/html": [
              "<a href=https://haveibeenpwned.com/PwnedWebsites#LizardSquad>LizardSquad</a>"
            ]
          },
          "metadata": {}
        },
        {
          "output_type": "stream",
          "name": "stdout",
          "text": [
            "{'Lizard Squad': (datetime.datetime(2015, 1, 16, 0, 0), '13,451')}\n",
            "\n"
          ]
        },
        {
          "output_type": "display_data",
          "data": {
            "text/plain": [
              "<IPython.core.display.HTML object>"
            ],
            "text/html": [
              "<a href=https://haveibeenpwned.com/PwnedWebsites#Lolzteam>Lolzteam</a>"
            ]
          },
          "metadata": {}
        },
        {
          "output_type": "stream",
          "name": "stdout",
          "text": [
            "{'Lolzteam': (datetime.datetime(2018, 5, 13, 0, 0), '398,011')}\n",
            "\n"
          ]
        },
        {
          "output_type": "display_data",
          "data": {
            "text/plain": [
              "<IPython.core.display.HTML object>"
            ],
            "text/html": [
              "<a href=https://haveibeenpwned.com/PwnedWebsites#Lookbook>Lookbook</a>"
            ]
          },
          "metadata": {}
        },
        {
          "output_type": "stream",
          "name": "stdout",
          "text": [
            "{'Lookbook': (datetime.datetime(2012, 8, 24, 0, 0), '1,074,948')}\n",
            "\n"
          ]
        },
        {
          "output_type": "display_data",
          "data": {
            "text/plain": [
              "<IPython.core.display.HTML object>"
            ],
            "text/html": [
              "<a href=https://haveibeenpwned.com/PwnedWebsites#LOTR>LOTR</a>"
            ]
          },
          "metadata": {}
        },
        {
          "output_type": "stream",
          "name": "stdout",
          "text": [
            "{'Lord of the Rings Online': (datetime.datetime(2013, 8, 1, 0, 0), '1,141,278')}\n",
            "\n"
          ]
        },
        {
          "output_type": "display_data",
          "data": {
            "text/plain": [
              "<IPython.core.display.HTML object>"
            ],
            "text/html": [
              "<a href=https://haveibeenpwned.com/PwnedWebsites#LoungeBoard>LoungeBoard</a>"
            ]
          },
          "metadata": {}
        },
        {
          "output_type": "stream",
          "name": "stdout",
          "text": [
            "{'Lounge Board': (datetime.datetime(2013, 8, 1, 0, 0), '45,018')}\n",
            "\n"
          ]
        },
        {
          "output_type": "display_data",
          "data": {
            "text/plain": [
              "<IPython.core.display.HTML object>"
            ],
            "text/html": [
              "<a href=https://haveibeenpwned.com/PwnedWebsites#LuminPDF>LuminPDF</a>"
            ]
          },
          "metadata": {}
        },
        {
          "output_type": "stream",
          "name": "stdout",
          "text": [
            "{'Lumin PDF': (datetime.datetime(2019, 4, 1, 0, 0), '15,453,048')}\n",
            "\n"
          ]
        },
        {
          "output_type": "display_data",
          "data": {
            "text/plain": [
              "<IPython.core.display.HTML object>"
            ],
            "text/html": [
              "<a href=https://haveibeenpwned.com/PwnedWebsites#LyricsMania>LyricsMania</a>"
            ]
          },
          "metadata": {}
        },
        {
          "output_type": "stream",
          "name": "stdout",
          "text": [
            "{'Lyrics Mania': (datetime.datetime(2017, 12, 21, 0, 0), '109,202')}\n",
            "\n"
          ]
        },
        {
          "output_type": "display_data",
          "data": {
            "text/plain": [
              "<IPython.core.display.HTML object>"
            ],
            "text/html": [
              "<a href=https://haveibeenpwned.com/PwnedWebsites#MacForums>MacForums</a>"
            ]
          },
          "metadata": {}
        },
        {
          "output_type": "stream",
          "name": "stdout",
          "text": [
            "{'Mac Forums': (datetime.datetime(2016, 7, 3, 0, 0), '326,714')}\n",
            "\n"
          ]
        },
        {
          "output_type": "display_data",
          "data": {
            "text/plain": [
              "<IPython.core.display.HTML object>"
            ],
            "text/html": [
              "<a href=https://haveibeenpwned.com/PwnedWebsites#MacGeneration>MacGeneration</a>"
            ]
          },
          "metadata": {}
        },
        {
          "output_type": "stream",
          "name": "stdout",
          "text": [
            "{'MacGeneration': (datetime.datetime(2022, 1, 29, 0, 0), '101,004')}\n",
            "\n"
          ]
        },
        {
          "output_type": "display_data",
          "data": {
            "text/plain": [
              "<IPython.core.display.HTML object>"
            ],
            "text/html": [
              "<a href=https://haveibeenpwned.com/PwnedWebsites#Mac-Torrents>Mac-Torrents</a>"
            ]
          },
          "metadata": {}
        },
        {
          "output_type": "stream",
          "name": "stdout",
          "text": [
            "{'Mac-Torrents': (datetime.datetime(2015, 10, 31, 0, 0), '93,992')}\n",
            "\n"
          ]
        },
        {
          "output_type": "display_data",
          "data": {
            "text/plain": [
              "<IPython.core.display.HTML object>"
            ],
            "text/html": [
              "<a href=https://haveibeenpwned.com/PwnedWebsites#MailRu>MailRu</a>"
            ]
          },
          "metadata": {}
        },
        {
          "output_type": "stream",
          "name": "stdout",
          "text": [
            "{'mail.ru Dump': (datetime.datetime(2014, 9, 10, 0, 0), '16,630,988')}\n",
            "\n"
          ]
        },
        {
          "output_type": "display_data",
          "data": {
            "text/plain": [
              "<IPython.core.display.HTML object>"
            ],
            "text/html": [
              "<a href=https://haveibeenpwned.com/PwnedWebsites#MajorGeeks>MajorGeeks</a>"
            ]
          },
          "metadata": {}
        },
        {
          "output_type": "stream",
          "name": "stdout",
          "text": [
            "{'MajorGeeks': (datetime.datetime(2015, 11, 15, 0, 0), '269,548')}\n",
            "\n"
          ]
        },
        {
          "output_type": "display_data",
          "data": {
            "text/plain": [
              "<IPython.core.display.HTML object>"
            ],
            "text/html": [
              "<a href=https://haveibeenpwned.com/PwnedWebsites#MallCZ>MallCZ</a>"
            ]
          },
          "metadata": {}
        },
        {
          "output_type": "stream",
          "name": "stdout",
          "text": [
            "{'MALL.cz': (datetime.datetime(2017, 7, 27, 0, 0), '735,405')}\n",
            "\n"
          ]
        },
        {
          "output_type": "display_data",
          "data": {
            "text/plain": [
              "<IPython.core.display.HTML object>"
            ],
            "text/html": [
              "<a href=https://haveibeenpwned.com/PwnedWebsites#Malwarebytes>Malwarebytes</a>"
            ]
          },
          "metadata": {}
        },
        {
          "output_type": "stream",
          "name": "stdout",
          "text": [
            "{'Malwarebytes': (datetime.datetime(2014, 11, 15, 0, 0), '111,623')}\n",
            "\n"
          ]
        },
        {
          "output_type": "display_data",
          "data": {
            "text/plain": [
              "<IPython.core.display.HTML object>"
            ],
            "text/html": [
              "<a href=https://haveibeenpwned.com/PwnedWebsites#MangaTraders>MangaTraders</a>"
            ]
          },
          "metadata": {}
        },
        {
          "output_type": "stream",
          "name": "stdout",
          "text": [
            "{'Manga Traders': (datetime.datetime(2014, 6, 9, 0, 0), '855,249')}\n",
            "\n"
          ]
        },
        {
          "output_type": "display_data",
          "data": {
            "text/plain": [
              "<IPython.core.display.HTML object>"
            ],
            "text/html": [
              "<a href=https://haveibeenpwned.com/PwnedWebsites#MangaDex>MangaDex</a>"
            ]
          },
          "metadata": {}
        },
        {
          "output_type": "stream",
          "name": "stdout",
          "text": [
            "{'MangaDex': (datetime.datetime(2021, 3, 22, 0, 0), '2,987,329')}\n",
            "\n"
          ]
        },
        {
          "output_type": "display_data",
          "data": {
            "text/plain": [
              "<IPython.core.display.HTML object>"
            ],
            "text/html": [
              "<a href=https://haveibeenpwned.com/PwnedWebsites#MangaFox>MangaFox</a>"
            ]
          },
          "metadata": {}
        },
        {
          "output_type": "stream",
          "name": "stdout",
          "text": [
            "{'MangaFox.me': (datetime.datetime(2016, 6, 1, 0, 0), '1,311,610')}\n",
            "\n"
          ]
        },
        {
          "output_type": "display_data",
          "data": {
            "text/plain": [
              "<IPython.core.display.HTML object>"
            ],
            "text/html": [
              "<a href=https://haveibeenpwned.com/PwnedWebsites#Mangatoon>Mangatoon</a>"
            ]
          },
          "metadata": {}
        },
        {
          "output_type": "stream",
          "name": "stdout",
          "text": [
            "{'Mangatoon': (datetime.datetime(2022, 5, 13, 0, 0), '23,040,238')}\n",
            "\n"
          ]
        },
        {
          "output_type": "display_data",
          "data": {
            "text/plain": [
              "<IPython.core.display.HTML object>"
            ],
            "text/html": [
              "<a href=https://haveibeenpwned.com/PwnedWebsites#Mappery>Mappery</a>"
            ]
          },
          "metadata": {}
        },
        {
          "output_type": "stream",
          "name": "stdout",
          "text": [
            "{'Mappery': (datetime.datetime(2018, 12, 11, 0, 0), '205,242')}\n",
            "\n"
          ]
        },
        {
          "output_type": "display_data",
          "data": {
            "text/plain": [
              "<IPython.core.display.HTML object>"
            ],
            "text/html": [
              "<a href=https://haveibeenpwned.com/PwnedWebsites#Mashable>Mashable</a>"
            ]
          },
          "metadata": {}
        },
        {
          "output_type": "stream",
          "name": "stdout",
          "text": [
            "{'Mashable': (datetime.datetime(2020, 6, 1, 0, 0), '1,414,677')}\n",
            "\n"
          ]
        },
        {
          "output_type": "display_data",
          "data": {
            "text/plain": [
              "<IPython.core.display.HTML object>"
            ],
            "text/html": [
              "<a href=https://haveibeenpwned.com/PwnedWebsites#MasterDeeds>MasterDeeds</a>"
            ]
          },
          "metadata": {}
        },
        {
          "output_type": "stream",
          "name": "stdout",
          "text": [
            "{'Master Deeds': (datetime.datetime(2017, 3, 14, 0, 0), '2,257,930')}\n",
            "\n"
          ]
        },
        {
          "output_type": "display_data",
          "data": {
            "text/plain": [
              "<IPython.core.display.HTML object>"
            ],
            "text/html": [
              "<a href=https://haveibeenpwned.com/PwnedWebsites#MastercardPricelessSpecials>MastercardPricelessSpecials</a>"
            ]
          },
          "metadata": {}
        },
        {
          "output_type": "stream",
          "name": "stdout",
          "text": [
            "{'Mastercard Priceless Specials': (datetime.datetime(2019, 8, 20, 0, 0), '89,388')}\n",
            "\n"
          ]
        },
        {
          "output_type": "display_data",
          "data": {
            "text/plain": [
              "<IPython.core.display.HTML object>"
            ],
            "text/html": [
              "<a href=https://haveibeenpwned.com/PwnedWebsites#Mate1>Mate1</a>"
            ]
          },
          "metadata": {}
        },
        {
          "output_type": "stream",
          "name": "stdout",
          "text": [
            "{'Mate1.com': (datetime.datetime(2016, 2, 29, 0, 0), '27,393,015')}\n",
            "\n"
          ]
        },
        {
          "output_type": "display_data",
          "data": {
            "text/plain": [
              "<IPython.core.display.HTML object>"
            ],
            "text/html": [
              "<a href=https://haveibeenpwned.com/PwnedWebsites#Mathway>Mathway</a>"
            ]
          },
          "metadata": {}
        },
        {
          "output_type": "stream",
          "name": "stdout",
          "text": [
            "{'Mathway': (datetime.datetime(2020, 1, 13, 0, 0), '25,692,862')}\n",
            "\n"
          ]
        },
        {
          "output_type": "display_data",
          "data": {
            "text/plain": [
              "<IPython.core.display.HTML object>"
            ],
            "text/html": [
              "<a href=https://haveibeenpwned.com/PwnedWebsites#MCBans>MCBans</a>"
            ]
          },
          "metadata": {}
        },
        {
          "output_type": "stream",
          "name": "stdout",
          "text": [
            "{'MCBans': (datetime.datetime(2016, 10, 27, 0, 0), '119,948')}\n",
            "\n"
          ]
        },
        {
          "output_type": "display_data",
          "data": {
            "text/plain": [
              "<IPython.core.display.HTML object>"
            ],
            "text/html": [
              "<a href=https://haveibeenpwned.com/PwnedWebsites#MDPI>MDPI</a>"
            ]
          },
          "metadata": {}
        },
        {
          "output_type": "stream",
          "name": "stdout",
          "text": [
            "{'MDPI': (datetime.datetime(2016, 8, 30, 0, 0), '845,012')}\n",
            "\n"
          ]
        },
        {
          "output_type": "display_data",
          "data": {
            "text/plain": [
              "<IPython.core.display.HTML object>"
            ],
            "text/html": [
              "<a href=https://haveibeenpwned.com/PwnedWebsites#MechoDownload>MechoDownload</a>"
            ]
          },
          "metadata": {}
        },
        {
          "output_type": "stream",
          "name": "stdout",
          "text": [
            "{'Mecho Download': (datetime.datetime(2013, 10, 31, 0, 0), '437,928')}\n",
            "\n"
          ]
        },
        {
          "output_type": "display_data",
          "data": {
            "text/plain": [
              "<IPython.core.display.HTML object>"
            ],
            "text/html": [
              "<a href=https://haveibeenpwned.com/PwnedWebsites#MeetMindful>MeetMindful</a>"
            ]
          },
          "metadata": {}
        },
        {
          "output_type": "stream",
          "name": "stdout",
          "text": [
            "{'MeetMindful': (datetime.datetime(2020, 1, 26, 0, 0), '1,422,717')}\n",
            "\n"
          ]
        },
        {
          "output_type": "display_data",
          "data": {
            "text/plain": [
              "<IPython.core.display.HTML object>"
            ],
            "text/html": [
              "<a href=https://haveibeenpwned.com/PwnedWebsites#MGM>MGM</a>"
            ]
          },
          "metadata": {}
        },
        {
          "output_type": "stream",
          "name": "stdout",
          "text": [
            "{'MGM Resorts': (datetime.datetime(2019, 7, 25, 0, 0), '3,081,321')}\n",
            "\n"
          ]
        },
        {
          "output_type": "display_data",
          "data": {
            "text/plain": [
              "<IPython.core.display.HTML object>"
            ],
            "text/html": [
              "<a href=https://haveibeenpwned.com/PwnedWebsites#MGM2022Update>MGM2022Update</a>"
            ]
          },
          "metadata": {}
        },
        {
          "output_type": "stream",
          "name": "stdout",
          "text": [
            "{'MGM Resorts (2022 Update)': (datetime.datetime(2019, 7, 25, 0, 0), '24,842,001')}\n",
            "\n"
          ]
        },
        {
          "output_type": "display_data",
          "data": {
            "text/plain": [
              "<IPython.core.display.HTML object>"
            ],
            "text/html": [
              "<a href=https://haveibeenpwned.com/PwnedWebsites#MindJolt>MindJolt</a>"
            ]
          },
          "metadata": {}
        },
        {
          "output_type": "stream",
          "name": "stdout",
          "text": [
            "{'MindJolt': (datetime.datetime(2019, 3, 18, 0, 0), '28,364,826')}\n",
            "\n"
          ]
        },
        {
          "output_type": "display_data",
          "data": {
            "text/plain": [
              "<IPython.core.display.HTML object>"
            ],
            "text/html": [
              "<a href=https://haveibeenpwned.com/PwnedWebsites#MinecraftPocketEditionForum>MinecraftPocketEditionForum</a>"
            ]
          },
          "metadata": {}
        },
        {
          "output_type": "stream",
          "name": "stdout",
          "text": [
            "{'Minecraft Pocket Edition Forum': (datetime.datetime(2015, 5, 24, 0, 0), '16,034')}\n",
            "\n"
          ]
        },
        {
          "output_type": "display_data",
          "data": {
            "text/plain": [
              "<IPython.core.display.HTML object>"
            ],
            "text/html": [
              "<a href=https://haveibeenpwned.com/PwnedWebsites#MinecraftWorldMap>MinecraftWorldMap</a>"
            ]
          },
          "metadata": {}
        },
        {
          "output_type": "stream",
          "name": "stdout",
          "text": [
            "{'Minecraft World Map': (datetime.datetime(2016, 1, 15, 0, 0), '71,081')}\n",
            "\n"
          ]
        },
        {
          "output_type": "display_data",
          "data": {
            "text/plain": [
              "<IPython.core.display.HTML object>"
            ],
            "text/html": [
              "<a href=https://haveibeenpwned.com/PwnedWebsites#Minefield>Minefield</a>"
            ]
          },
          "metadata": {}
        },
        {
          "output_type": "stream",
          "name": "stdout",
          "text": [
            "{'Minefield': (datetime.datetime(2015, 6, 28, 0, 0), '188,343')}\n",
            "\n"
          ]
        },
        {
          "output_type": "display_data",
          "data": {
            "text/plain": [
              "<IPython.core.display.HTML object>"
            ],
            "text/html": [
              "<a href=https://haveibeenpwned.com/PwnedWebsites#Minehut>Minehut</a>"
            ]
          },
          "metadata": {}
        },
        {
          "output_type": "stream",
          "name": "stdout",
          "text": [
            "{'Minehut': (datetime.datetime(2019, 5, 17, 0, 0), '396,533')}\n",
            "\n"
          ]
        },
        {
          "output_type": "display_data",
          "data": {
            "text/plain": [
              "<IPython.core.display.HTML object>"
            ],
            "text/html": [
              "<a href=https://haveibeenpwned.com/PwnedWebsites#Minted>Minted</a>"
            ]
          },
          "metadata": {}
        },
        {
          "output_type": "stream",
          "name": "stdout",
          "text": [
            "{'Minted': (datetime.datetime(2020, 5, 6, 0, 0), '4,418,182')}\n",
            "\n"
          ]
        },
        {
          "output_type": "display_data",
          "data": {
            "text/plain": [
              "<IPython.core.display.HTML object>"
            ],
            "text/html": [
              "<a href=https://haveibeenpwned.com/PwnedWebsites#MMGFusion>MMGFusion</a>"
            ]
          },
          "metadata": {}
        },
        {
          "output_type": "stream",
          "name": "stdout",
          "text": [
            "{'MMG Fusion': (datetime.datetime(2020, 12, 20, 0, 0), '2,660,295')}\n",
            "\n"
          ]
        },
        {
          "output_type": "display_data",
          "data": {
            "text/plain": [
              "<IPython.core.display.HTML object>"
            ],
            "text/html": [
              "<a href=https://haveibeenpwned.com/PwnedWebsites#MobiFriends>MobiFriends</a>"
            ]
          },
          "metadata": {}
        },
        {
          "output_type": "stream",
          "name": "stdout",
          "text": [
            "{'MobiFriends': (datetime.datetime(2020, 1, 6, 0, 0), '3,512,952')}\n",
            "\n"
          ]
        },
        {
          "output_type": "display_data",
          "data": {
            "text/plain": [
              "<IPython.core.display.HTML object>"
            ],
            "text/html": [
              "<a href=https://haveibeenpwned.com/PwnedWebsites#MoDaCo>MoDaCo</a>"
            ]
          },
          "metadata": {}
        },
        {
          "output_type": "stream",
          "name": "stdout",
          "text": [
            "{'MoDaCo': (datetime.datetime(2016, 1, 1, 0, 0), '879,703')}\n",
            "\n"
          ]
        },
        {
          "output_type": "display_data",
          "data": {
            "text/plain": [
              "<IPython.core.display.HTML object>"
            ],
            "text/html": [
              "<a href=https://haveibeenpwned.com/PwnedWebsites#ModernBusinessSolutions>ModernBusinessSolutions</a>"
            ]
          },
          "metadata": {}
        },
        {
          "output_type": "stream",
          "name": "stdout",
          "text": [
            "{'Modern Business Solutions': (datetime.datetime(2016, 10, 8, 0, 0), '58,843,488')}\n",
            "\n"
          ]
        },
        {
          "output_type": "display_data",
          "data": {
            "text/plain": [
              "<IPython.core.display.HTML object>"
            ],
            "text/html": [
              "<a href=https://haveibeenpwned.com/PwnedWebsites#MoneyBookers>MoneyBookers</a>"
            ]
          },
          "metadata": {}
        },
        {
          "output_type": "stream",
          "name": "stdout",
          "text": [
            "{'Money Bookers': (datetime.datetime(2009, 1, 1, 0, 0), '4,483,605')}\n",
            "\n"
          ]
        },
        {
          "output_type": "display_data",
          "data": {
            "text/plain": [
              "<IPython.core.display.HTML object>"
            ],
            "text/html": [
              "<a href=https://haveibeenpwned.com/PwnedWebsites#Moneycontrol>Moneycontrol</a>"
            ]
          },
          "metadata": {}
        },
        {
          "output_type": "stream",
          "name": "stdout",
          "text": [
            "{'Moneycontrol': (datetime.datetime(2017, 9, 7, 0, 0), '762,874')}\n",
            "\n"
          ]
        },
        {
          "output_type": "display_data",
          "data": {
            "text/plain": [
              "<IPython.core.display.HTML object>"
            ],
            "text/html": [
              "<a href=https://haveibeenpwned.com/PwnedWebsites#MoreleNet>MoreleNet</a>"
            ]
          },
          "metadata": {}
        },
        {
          "output_type": "stream",
          "name": "stdout",
          "text": [
            "{'Morele.net': (datetime.datetime(2018, 10, 10, 0, 0), '2,467,304')}\n",
            "\n"
          ]
        },
        {
          "output_type": "display_data",
          "data": {
            "text/plain": [
              "<IPython.core.display.HTML object>"
            ],
            "text/html": [
              "<a href=https://haveibeenpwned.com/PwnedWebsites#MortalOnline>MortalOnline</a>"
            ]
          },
          "metadata": {}
        },
        {
          "output_type": "stream",
          "name": "stdout",
          "text": [
            "{'Mortal Online': (datetime.datetime(2018, 6, 17, 0, 0), '606,637')}\n",
            "\n"
          ]
        },
        {
          "output_type": "display_data",
          "data": {
            "text/plain": [
              "<IPython.core.display.HTML object>"
            ],
            "text/html": [
              "<a href=https://haveibeenpwned.com/PwnedWebsites#MPGH>MPGH</a>"
            ]
          },
          "metadata": {}
        },
        {
          "output_type": "stream",
          "name": "stdout",
          "text": [
            "{'MPGH': (datetime.datetime(2015, 10, 22, 0, 0), '3,122,898')}\n",
            "\n"
          ]
        },
        {
          "output_type": "display_data",
          "data": {
            "text/plain": [
              "<IPython.core.display.HTML object>"
            ],
            "text/html": [
              "<a href=https://haveibeenpwned.com/PwnedWebsites#MrExcel>MrExcel</a>"
            ]
          },
          "metadata": {}
        },
        {
          "output_type": "stream",
          "name": "stdout",
          "text": [
            "{'MrExcel': (datetime.datetime(2016, 12, 5, 0, 0), '366,140')}\n",
            "\n"
          ]
        },
        {
          "output_type": "display_data",
          "data": {
            "text/plain": [
              "<IPython.core.display.HTML object>"
            ],
            "text/html": [
              "<a href=https://haveibeenpwned.com/PwnedWebsites#mSpy>mSpy</a>"
            ]
          },
          "metadata": {}
        },
        {
          "output_type": "stream",
          "name": "stdout",
          "text": [
            "{'mSpy': (datetime.datetime(2015, 5, 14, 0, 0), '699,793')}\n",
            "\n"
          ]
        },
        {
          "output_type": "display_data",
          "data": {
            "text/plain": [
              "<IPython.core.display.HTML object>"
            ],
            "text/html": [
              "<a href=https://haveibeenpwned.com/PwnedWebsites#MuslimDirectory>MuslimDirectory</a>"
            ]
          },
          "metadata": {}
        },
        {
          "output_type": "stream",
          "name": "stdout",
          "text": [
            "{'Muslim Directory': (datetime.datetime(2014, 2, 17, 0, 0), '37,784')}\n",
            "\n"
          ]
        },
        {
          "output_type": "display_data",
          "data": {
            "text/plain": [
              "<IPython.core.display.HTML object>"
            ],
            "text/html": [
              "<a href=https://haveibeenpwned.com/PwnedWebsites#MuslimMatch>MuslimMatch</a>"
            ]
          },
          "metadata": {}
        },
        {
          "output_type": "stream",
          "name": "stdout",
          "text": [
            "{'Muslim Match': (datetime.datetime(2016, 6, 24, 0, 0), '149,830')}\n",
            "\n"
          ]
        },
        {
          "output_type": "display_data",
          "data": {
            "text/plain": [
              "<IPython.core.display.HTML object>"
            ],
            "text/html": [
              "<a href=https://haveibeenpwned.com/PwnedWebsites#MyFHA>MyFHA</a>"
            ]
          },
          "metadata": {}
        },
        {
          "output_type": "stream",
          "name": "stdout",
          "text": [
            "{'MyFHA': (datetime.datetime(2015, 2, 18, 0, 0), '972,629')}\n",
            "\n"
          ]
        },
        {
          "output_type": "display_data",
          "data": {
            "text/plain": [
              "<IPython.core.display.HTML object>"
            ],
            "text/html": [
              "<a href=https://haveibeenpwned.com/PwnedWebsites#MyFitnessPal>MyFitnessPal</a>"
            ]
          },
          "metadata": {}
        },
        {
          "output_type": "stream",
          "name": "stdout",
          "text": [
            "{'MyFitnessPal': (datetime.datetime(2018, 2, 1, 0, 0), '143,606,147')}\n",
            "\n"
          ]
        },
        {
          "output_type": "display_data",
          "data": {
            "text/plain": [
              "<IPython.core.display.HTML object>"
            ],
            "text/html": [
              "<a href=https://haveibeenpwned.com/PwnedWebsites#MyHeritage>MyHeritage</a>"
            ]
          },
          "metadata": {}
        },
        {
          "output_type": "stream",
          "name": "stdout",
          "text": [
            "{'MyHeritage': (datetime.datetime(2017, 10, 26, 0, 0), '91,991,358')}\n",
            "\n"
          ]
        },
        {
          "output_type": "display_data",
          "data": {
            "text/plain": [
              "<IPython.core.display.HTML object>"
            ],
            "text/html": [
              "<a href=https://haveibeenpwned.com/PwnedWebsites#myRepoSpace>myRepoSpace</a>"
            ]
          },
          "metadata": {}
        },
        {
          "output_type": "stream",
          "name": "stdout",
          "text": [
            "{'myRepoSpace': (datetime.datetime(2015, 7, 6, 0, 0), '252,751')}\n",
            "\n"
          ]
        },
        {
          "output_type": "display_data",
          "data": {
            "text/plain": [
              "<IPython.core.display.HTML object>"
            ],
            "text/html": [
              "<a href=https://haveibeenpwned.com/PwnedWebsites#MySpace>MySpace</a>"
            ]
          },
          "metadata": {}
        },
        {
          "output_type": "stream",
          "name": "stdout",
          "text": [
            "{'MySpace': (datetime.datetime(2008, 7, 1, 0, 0), '359,420,698')}\n",
            "\n"
          ]
        },
        {
          "output_type": "display_data",
          "data": {
            "text/plain": [
              "<IPython.core.display.HTML object>"
            ],
            "text/html": [
              "<a href=https://haveibeenpwned.com/PwnedWebsites#MyVidster>MyVidster</a>"
            ]
          },
          "metadata": {}
        },
        {
          "output_type": "stream",
          "name": "stdout",
          "text": [
            "{'MyVidster': (datetime.datetime(2015, 8, 15, 0, 0), '19,863')}\n",
            "\n"
          ]
        },
        {
          "output_type": "display_data",
          "data": {
            "text/plain": [
              "<IPython.core.display.HTML object>"
            ],
            "text/html": [
              "<a href=https://haveibeenpwned.com/PwnedWebsites#NamelessMalware>NamelessMalware</a>"
            ]
          },
          "metadata": {}
        },
        {
          "output_type": "stream",
          "name": "stdout",
          "text": [
            "{'Nameless Malware': (datetime.datetime(2020, 1, 1, 0, 0), '1,121,484')}\n",
            "\n"
          ]
        },
        {
          "output_type": "display_data",
          "data": {
            "text/plain": [
              "<IPython.core.display.HTML object>"
            ],
            "text/html": [
              "<a href=https://haveibeenpwned.com/PwnedWebsites#NapsGear>NapsGear</a>"
            ]
          },
          "metadata": {}
        },
        {
          "output_type": "stream",
          "name": "stdout",
          "text": [
            "{'NapsGear': (datetime.datetime(2015, 10, 21, 0, 0), '287,071')}\n",
            "\n"
          ]
        },
        {
          "output_type": "display_data",
          "data": {
            "text/plain": [
              "<IPython.core.display.HTML object>"
            ],
            "text/html": [
              "<a href=https://haveibeenpwned.com/PwnedWebsites#NaughtyAmerica>NaughtyAmerica</a>"
            ]
          },
          "metadata": {}
        },
        {
          "output_type": "stream",
          "name": "stdout",
          "text": [
            "{'Naughty America': (datetime.datetime(2016, 3, 14, 0, 0), '1,398,630')}\n",
            "\n"
          ]
        },
        {
          "output_type": "display_data",
          "data": {
            "text/plain": [
              "<IPython.core.display.HTML object>"
            ],
            "text/html": [
              "<a href=https://haveibeenpwned.com/PwnedWebsites#NemoWeb>NemoWeb</a>"
            ]
          },
          "metadata": {}
        },
        {
          "output_type": "stream",
          "name": "stdout",
          "text": [
            "{'NemoWeb': (datetime.datetime(2016, 9, 4, 0, 0), '3,472,916')}\n",
            "\n"
          ]
        },
        {
          "output_type": "display_data",
          "data": {
            "text/plain": [
              "<IPython.core.display.HTML object>"
            ],
            "text/html": [
              "<a href=https://haveibeenpwned.com/PwnedWebsites#Neopets>Neopets</a>"
            ]
          },
          "metadata": {}
        },
        {
          "output_type": "stream",
          "name": "stdout",
          "text": [
            "{'Neopets': (datetime.datetime(2013, 5, 5, 0, 0), '26,892,897')}\n",
            "\n"
          ]
        },
        {
          "output_type": "display_data",
          "data": {
            "text/plain": [
              "<IPython.core.display.HTML object>"
            ],
            "text/html": [
              "<a href=https://haveibeenpwned.com/PwnedWebsites#NetEase>NetEase</a>"
            ]
          },
          "metadata": {}
        },
        {
          "output_type": "stream",
          "name": "stdout",
          "text": [
            "{'NetEase': (datetime.datetime(2015, 10, 19, 0, 0), '234,842,089')}\n",
            "\n"
          ]
        },
        {
          "output_type": "display_data",
          "data": {
            "text/plain": [
              "<IPython.core.display.HTML object>"
            ],
            "text/html": [
              "<a href=https://haveibeenpwned.com/PwnedWebsites#Neteller>Neteller</a>"
            ]
          },
          "metadata": {}
        },
        {
          "output_type": "stream",
          "name": "stdout",
          "text": [
            "{'Neteller': (datetime.datetime(2010, 5, 17, 0, 0), '3,619,948')}\n",
            "\n"
          ]
        },
        {
          "output_type": "display_data",
          "data": {
            "text/plain": [
              "<IPython.core.display.HTML object>"
            ],
            "text/html": [
              "<a href=https://haveibeenpwned.com/PwnedWebsites#NetGalley>NetGalley</a>"
            ]
          },
          "metadata": {}
        },
        {
          "output_type": "stream",
          "name": "stdout",
          "text": [
            "{'NetGalley': (datetime.datetime(2020, 12, 21, 0, 0), '1,436,435')}\n",
            "\n"
          ]
        },
        {
          "output_type": "display_data",
          "data": {
            "text/plain": [
              "<IPython.core.display.HTML object>"
            ],
            "text/html": [
              "<a href=https://haveibeenpwned.com/PwnedWebsites#Netlog>Netlog</a>"
            ]
          },
          "metadata": {}
        },
        {
          "output_type": "stream",
          "name": "stdout",
          "text": [
            "{'Netlog': (datetime.datetime(2012, 11, 1, 0, 0), '49,038,354')}\n",
            "\n"
          ]
        },
        {
          "output_type": "display_data",
          "data": {
            "text/plain": [
              "<IPython.core.display.HTML object>"
            ],
            "text/html": [
              "<a href=https://haveibeenpwned.com/PwnedWebsites#NetProspex>NetProspex</a>"
            ]
          },
          "metadata": {}
        },
        {
          "output_type": "stream",
          "name": "stdout",
          "text": [
            "{'NetProspex': (datetime.datetime(2016, 9, 1, 0, 0), '33,698,126')}\n",
            "\n"
          ]
        },
        {
          "output_type": "display_data",
          "data": {
            "text/plain": [
              "<IPython.core.display.HTML object>"
            ],
            "text/html": [
              "<a href=https://haveibeenpwned.com/PwnedWebsites#Netshoes>Netshoes</a>"
            ]
          },
          "metadata": {}
        },
        {
          "output_type": "stream",
          "name": "stdout",
          "text": [
            "{'Netshoes': (datetime.datetime(2017, 12, 7, 0, 0), '499,836')}\n",
            "\n"
          ]
        },
        {
          "output_type": "display_data",
          "data": {
            "text/plain": [
              "<IPython.core.display.HTML object>"
            ],
            "text/html": [
              "<a href=https://haveibeenpwned.com/PwnedWebsites#NextGenUpdate>NextGenUpdate</a>"
            ]
          },
          "metadata": {}
        },
        {
          "output_type": "stream",
          "name": "stdout",
          "text": [
            "{'NextGenUpdate': (datetime.datetime(2014, 4, 22, 0, 0), '1,194,597')}\n",
            "\n"
          ]
        },
        {
          "output_type": "display_data",
          "data": {
            "text/plain": [
              "<IPython.core.display.HTML object>"
            ],
            "text/html": [
              "<a href=https://haveibeenpwned.com/PwnedWebsites#NexusMods>NexusMods</a>"
            ]
          },
          "metadata": {}
        },
        {
          "output_type": "stream",
          "name": "stdout",
          "text": [
            "{'Nexus Mods': (datetime.datetime(2013, 7, 22, 0, 0), '5,915,013')}\n",
            "\n"
          ]
        },
        {
          "output_type": "display_data",
          "data": {
            "text/plain": [
              "<IPython.core.display.HTML object>"
            ],
            "text/html": [
              "<a href=https://haveibeenpwned.com/PwnedWebsites#Nihonomaru>Nihonomaru</a>"
            ]
          },
          "metadata": {}
        },
        {
          "output_type": "stream",
          "name": "stdout",
          "text": [
            "{'Nihonomaru': (datetime.datetime(2015, 12, 1, 0, 0), '1,697,282')}\n",
            "\n"
          ]
        },
        {
          "output_type": "display_data",
          "data": {
            "text/plain": [
              "<IPython.core.display.HTML object>"
            ],
            "text/html": [
              "<a href=https://haveibeenpwned.com/PwnedWebsites#Nitro>Nitro</a>"
            ]
          },
          "metadata": {}
        },
        {
          "output_type": "stream",
          "name": "stdout",
          "text": [
            "{'Nitro': (datetime.datetime(2020, 9, 28, 0, 0), '77,159,696')}\n",
            "\n"
          ]
        },
        {
          "output_type": "display_data",
          "data": {
            "text/plain": [
              "<IPython.core.display.HTML object>"
            ],
            "text/html": [
              "<a href=https://haveibeenpwned.com/PwnedWebsites#Nival>Nival</a>"
            ]
          },
          "metadata": {}
        },
        {
          "output_type": "stream",
          "name": "stdout",
          "text": [
            "{'Nival': (datetime.datetime(2016, 2, 29, 0, 0), '1,535,473')}\n",
            "\n"
          ]
        },
        {
          "output_type": "display_data",
          "data": {
            "text/plain": [
              "<IPython.core.display.HTML object>"
            ],
            "text/html": [
              "<a href=https://haveibeenpwned.com/PwnedWebsites#NonNudeGirls>NonNudeGirls</a>"
            ]
          },
          "metadata": {}
        },
        {
          "output_type": "stream",
          "name": "stdout",
          "text": [
            "{'Non Nude Girls': (datetime.datetime(2013, 5, 21, 0, 0), '75,383')}\n",
            "\n"
          ]
        },
        {
          "output_type": "display_data",
          "data": {
            "text/plain": [
              "<IPython.core.display.HTML object>"
            ],
            "text/html": [
              "<a href=https://haveibeenpwned.com/PwnedWebsites#NotAcxiom>NotAcxiom</a>"
            ]
          },
          "metadata": {}
        },
        {
          "output_type": "stream",
          "name": "stdout",
          "text": [
            "{'Not Acxiom': (datetime.datetime(2020, 6, 21, 0, 0), '51,730,831')}\n",
            "\n"
          ]
        },
        {
          "output_type": "display_data",
          "data": {
            "text/plain": [
              "<IPython.core.display.HTML object>"
            ],
            "text/html": [
              "<a href=https://haveibeenpwned.com/PwnedWebsites#NulledCH>NulledCH</a>"
            ]
          },
          "metadata": {}
        },
        {
          "output_type": "stream",
          "name": "stdout",
          "text": [
            "{'Nulled.ch': (datetime.datetime(2020, 5, 20, 0, 0), '43,491')}\n",
            "\n"
          ]
        },
        {
          "output_type": "display_data",
          "data": {
            "text/plain": [
              "<IPython.core.display.HTML object>"
            ],
            "text/html": [
              "<a href=https://haveibeenpwned.com/PwnedWebsites#Nulled>Nulled</a>"
            ]
          },
          "metadata": {}
        },
        {
          "output_type": "stream",
          "name": "stdout",
          "text": [
            "{'Nulled.cr': (datetime.datetime(2016, 5, 6, 0, 0), '599,080')}\n",
            "\n"
          ]
        },
        {
          "output_type": "display_data",
          "data": {
            "text/plain": [
              "<IPython.core.display.HTML object>"
            ],
            "text/html": [
              "<a href=https://haveibeenpwned.com/PwnedWebsites#NurseryCam>NurseryCam</a>"
            ]
          },
          "metadata": {}
        },
        {
          "output_type": "stream",
          "name": "stdout",
          "text": [
            "{'NurseryCam': (datetime.datetime(2021, 2, 12, 0, 0), '10,585')}\n",
            "\n"
          ]
        },
        {
          "output_type": "display_data",
          "data": {
            "text/plain": [
              "<IPython.core.display.HTML object>"
            ],
            "text/html": [
              "<a href=https://haveibeenpwned.com/PwnedWebsites#NVIDIA>NVIDIA</a>"
            ]
          },
          "metadata": {}
        },
        {
          "output_type": "stream",
          "name": "stdout",
          "text": [
            "{'NVIDIA': (datetime.datetime(2022, 2, 23, 0, 0), '71,335')}\n",
            "\n"
          ]
        },
        {
          "output_type": "display_data",
          "data": {
            "text/plain": [
              "<IPython.core.display.HTML object>"
            ],
            "text/html": [
              "<a href=https://haveibeenpwned.com/PwnedWebsites#OGUsers>OGUsers</a>"
            ]
          },
          "metadata": {}
        },
        {
          "output_type": "stream",
          "name": "stdout",
          "text": [
            "{'OGUsers (2019 breach)': (datetime.datetime(2018, 12, 26, 0, 0), '161,143')}\n",
            "\n"
          ]
        },
        {
          "output_type": "display_data",
          "data": {
            "text/plain": [
              "<IPython.core.display.HTML object>"
            ],
            "text/html": [
              "<a href=https://haveibeenpwned.com/PwnedWebsites#OGUsers2020>OGUsers2020</a>"
            ]
          },
          "metadata": {}
        },
        {
          "output_type": "stream",
          "name": "stdout",
          "text": [
            "{'OGUsers (2020 breach)': (datetime.datetime(2020, 4, 2, 0, 0), '263,189')}\n",
            "\n"
          ]
        },
        {
          "output_type": "display_data",
          "data": {
            "text/plain": [
              "<IPython.core.display.HTML object>"
            ],
            "text/html": [
              "<a href=https://haveibeenpwned.com/PwnedWebsites#OGUsers2021>OGUsers2021</a>"
            ]
          },
          "metadata": {}
        },
        {
          "output_type": "stream",
          "name": "stdout",
          "text": [
            "{'OGUsers (2021 breach)': (datetime.datetime(2021, 4, 11, 0, 0), '348,302')}\n",
            "\n"
          ]
        },
        {
          "output_type": "display_data",
          "data": {
            "text/plain": [
              "<IPython.core.display.HTML object>"
            ],
            "text/html": [
              "<a href=https://haveibeenpwned.com/PwnedWebsites#OnlinerSpambot>OnlinerSpambot</a>"
            ]
          },
          "metadata": {}
        },
        {
          "output_type": "stream",
          "name": "stdout",
          "text": [
            "{'Onliner Spambot': (datetime.datetime(2017, 8, 28, 0, 0), '711,477,622')}\n",
            "\n"
          ]
        },
        {
          "output_type": "display_data",
          "data": {
            "text/plain": [
              "<IPython.core.display.HTML object>"
            ],
            "text/html": [
              "<a href=https://haveibeenpwned.com/PwnedWebsites#Onverse>Onverse</a>"
            ]
          },
          "metadata": {}
        },
        {
          "output_type": "stream",
          "name": "stdout",
          "text": [
            "{'Onverse': (datetime.datetime(2016, 1, 1, 0, 0), '800,157')}\n",
            "\n"
          ]
        },
        {
          "output_type": "display_data",
          "data": {
            "text/plain": [
              "<IPython.core.display.HTML object>"
            ],
            "text/html": [
              "<a href=https://haveibeenpwned.com/PwnedWebsites#OpenCSGO>OpenCSGO</a>"
            ]
          },
          "metadata": {}
        },
        {
          "output_type": "stream",
          "name": "stdout",
          "text": [
            "{'Open CS:GO': (datetime.datetime(2017, 11, 28, 0, 0), '512,311')}\n",
            "\n"
          ]
        },
        {
          "output_type": "display_data",
          "data": {
            "text/plain": [
              "<IPython.core.display.HTML object>"
            ],
            "text/html": [
              "<a href=https://haveibeenpwned.com/PwnedWebsites#OpenSubtitles>OpenSubtitles</a>"
            ]
          },
          "metadata": {}
        },
        {
          "output_type": "stream",
          "name": "stdout",
          "text": [
            "{'Open Subtitles': (datetime.datetime(2021, 8, 1, 0, 0), '6,783,158')}\n",
            "\n"
          ]
        },
        {
          "output_type": "display_data",
          "data": {
            "text/plain": [
              "<IPython.core.display.HTML object>"
            ],
            "text/html": [
              "<a href=https://haveibeenpwned.com/PwnedWebsites#OrderSnapp>OrderSnapp</a>"
            ]
          },
          "metadata": {}
        },
        {
          "output_type": "stream",
          "name": "stdout",
          "text": [
            "{'OrderSnapp': (datetime.datetime(2020, 6, 29, 0, 0), '1,304,447')}\n",
            "\n"
          ]
        },
        {
          "output_type": "display_data",
          "data": {
            "text/plain": [
              "<IPython.core.display.HTML object>"
            ],
            "text/html": [
              "<a href=https://haveibeenpwned.com/PwnedWebsites#OrdineAvvocatiDiRoma>OrdineAvvocatiDiRoma</a>"
            ]
          },
          "metadata": {}
        },
        {
          "output_type": "stream",
          "name": "stdout",
          "text": [
            "{'Ordine Avvocati di Roma': (datetime.datetime(2019, 5, 7, 0, 0), '41,960')}\n",
            "\n"
          ]
        },
        {
          "output_type": "display_data",
          "data": {
            "text/plain": [
              "<IPython.core.display.HTML object>"
            ],
            "text/html": [
              "<a href=https://haveibeenpwned.com/PwnedWebsites#OVH>OVH</a>"
            ]
          },
          "metadata": {}
        },
        {
          "output_type": "stream",
          "name": "stdout",
          "text": [
            "{'OVH': (datetime.datetime(2015, 5, 1, 0, 0), '452,899')}\n",
            "\n"
          ]
        },
        {
          "output_type": "display_data",
          "data": {
            "text/plain": [
              "<IPython.core.display.HTML object>"
            ],
            "text/html": [
              "<a href=https://haveibeenpwned.com/PwnedWebsites#OwnedCore>OwnedCore</a>"
            ]
          },
          "metadata": {}
        },
        {
          "output_type": "stream",
          "name": "stdout",
          "text": [
            "{'OwnedCore': (datetime.datetime(2013, 8, 1, 0, 0), '880,331')}\n",
            "\n"
          ]
        },
        {
          "output_type": "display_data",
          "data": {
            "text/plain": [
              "<IPython.core.display.HTML object>"
            ],
            "text/html": [
              "<a href=https://haveibeenpwned.com/PwnedWebsites#Oxfam>Oxfam</a>"
            ]
          },
          "metadata": {}
        },
        {
          "output_type": "stream",
          "name": "stdout",
          "text": [
            "{'Oxfam': (datetime.datetime(2021, 1, 20, 0, 0), '1,834,006')}\n",
            "\n"
          ]
        },
        {
          "output_type": "display_data",
          "data": {
            "text/plain": [
              "<IPython.core.display.HTML object>"
            ],
            "text/html": [
              "<a href=https://haveibeenpwned.com/PwnedWebsites#PaddyPower>PaddyPower</a>"
            ]
          },
          "metadata": {}
        },
        {
          "output_type": "stream",
          "name": "stdout",
          "text": [
            "{'Paddy Power': (datetime.datetime(2010, 10, 25, 0, 0), '590,954')}\n",
            "\n"
          ]
        },
        {
          "output_type": "display_data",
          "data": {
            "text/plain": [
              "<IPython.core.display.HTML object>"
            ],
            "text/html": [
              "<a href=https://haveibeenpwned.com/PwnedWebsites#ParagonCheats>ParagonCheats</a>"
            ]
          },
          "metadata": {}
        },
        {
          "output_type": "stream",
          "name": "stdout",
          "text": [
            "{'Paragon Cheats': (datetime.datetime(2021, 5, 22, 0, 0), '188,089')}\n",
            "\n"
          ]
        },
        {
          "output_type": "display_data",
          "data": {
            "text/plain": [
              "<IPython.core.display.HTML object>"
            ],
            "text/html": [
              "<a href=https://haveibeenpwned.com/PwnedWebsites#ParkMobile>ParkMobile</a>"
            ]
          },
          "metadata": {}
        },
        {
          "output_type": "stream",
          "name": "stdout",
          "text": [
            "{'ParkMobile': (datetime.datetime(2021, 3, 21, 0, 0), '20,949,825')}\n",
            "\n"
          ]
        },
        {
          "output_type": "display_data",
          "data": {
            "text/plain": [
              "<IPython.core.display.HTML object>"
            ],
            "text/html": [
              "<a href=https://haveibeenpwned.com/PwnedWebsites#Patreon>Patreon</a>"
            ]
          },
          "metadata": {}
        },
        {
          "output_type": "stream",
          "name": "stdout",
          "text": [
            "{'Patreon': (datetime.datetime(2015, 10, 1, 0, 0), '2,330,382')}\n",
            "\n"
          ]
        },
        {
          "output_type": "display_data",
          "data": {
            "text/plain": [
              "<IPython.core.display.HTML object>"
            ],
            "text/html": [
              "<a href=https://haveibeenpwned.com/PwnedWebsites#PayAsUGym>PayAsUGym</a>"
            ]
          },
          "metadata": {}
        },
        {
          "output_type": "stream",
          "name": "stdout",
          "text": [
            "{'PayAsUGym': (datetime.datetime(2016, 12, 15, 0, 0), '400,260')}\n",
            "\n"
          ]
        },
        {
          "output_type": "display_data",
          "data": {
            "text/plain": [
              "<IPython.core.display.HTML object>"
            ],
            "text/html": [
              "<a href=https://haveibeenpwned.com/PwnedWebsites#PayHere>PayHere</a>"
            ]
          },
          "metadata": {}
        },
        {
          "output_type": "stream",
          "name": "stdout",
          "text": [
            "{'PayHere': (datetime.datetime(2022, 3, 27, 0, 0), '1,580,249')}\n",
            "\n"
          ]
        },
        {
          "output_type": "display_data",
          "data": {
            "text/plain": [
              "<IPython.core.display.HTML object>"
            ],
            "text/html": [
              "<a href=https://haveibeenpwned.com/PwnedWebsites#Paytm>Paytm</a>"
            ]
          },
          "metadata": {}
        },
        {
          "output_type": "stream",
          "name": "stdout",
          "text": [
            "{'Paytm': (datetime.datetime(2020, 8, 30, 0, 0), '3,395,101')}\n",
            "\n"
          ]
        },
        {
          "output_type": "display_data",
          "data": {
            "text/plain": [
              "<IPython.core.display.HTML object>"
            ],
            "text/html": [
              "<a href=https://haveibeenpwned.com/PwnedWebsites#Peatix>Peatix</a>"
            ]
          },
          "metadata": {}
        },
        {
          "output_type": "stream",
          "name": "stdout",
          "text": [
            "{'Peatix': (datetime.datetime(2019, 1, 20, 0, 0), '4,227,907')}\n",
            "\n"
          ]
        },
        {
          "output_type": "display_data",
          "data": {
            "text/plain": [
              "<IPython.core.display.HTML object>"
            ],
            "text/html": [
              "<a href=https://haveibeenpwned.com/PwnedWebsites#Pemiblanc>Pemiblanc</a>"
            ]
          },
          "metadata": {}
        },
        {
          "output_type": "stream",
          "name": "stdout",
          "text": [
            "{'Pemiblanc': (datetime.datetime(2018, 4, 2, 0, 0), '110,964,206')}\n",
            "\n"
          ]
        },
        {
          "output_type": "display_data",
          "data": {
            "text/plain": [
              "<IPython.core.display.HTML object>"
            ],
            "text/html": [
              "<a href=https://haveibeenpwned.com/PwnedWebsites#PeoplesEnergy>PeoplesEnergy</a>"
            ]
          },
          "metadata": {}
        },
        {
          "output_type": "stream",
          "name": "stdout",
          "text": [
            "{\"People's Energy\": (datetime.datetime(2020, 12, 16, 0, 0), '358,822')}\n",
            "\n"
          ]
        },
        {
          "output_type": "display_data",
          "data": {
            "text/plain": [
              "<IPython.core.display.HTML object>"
            ],
            "text/html": [
              "<a href=https://haveibeenpwned.com/PwnedWebsites#PetFlow>PetFlow</a>"
            ]
          },
          "metadata": {}
        },
        {
          "output_type": "stream",
          "name": "stdout",
          "text": [
            "{'PetFlow': (datetime.datetime(2017, 12, 9, 0, 0), '990,919')}\n",
            "\n"
          ]
        },
        {
          "output_type": "display_data",
          "data": {
            "text/plain": [
              "<IPython.core.display.HTML object>"
            ],
            "text/html": [
              "<a href=https://haveibeenpwned.com/PwnedWebsites#PhoneHouse>PhoneHouse</a>"
            ]
          },
          "metadata": {}
        },
        {
          "output_type": "stream",
          "name": "stdout",
          "text": [
            "{'Phone House España': (datetime.datetime(2021, 4, 8, 0, 0), '5,223,350')}\n",
            "\n"
          ]
        },
        {
          "output_type": "display_data",
          "data": {
            "text/plain": [
              "<IPython.core.display.HTML object>"
            ],
            "text/html": [
              "<a href=https://haveibeenpwned.com/PwnedWebsites#PHPFreaks>PHPFreaks</a>"
            ]
          },
          "metadata": {}
        },
        {
          "output_type": "stream",
          "name": "stdout",
          "text": [
            "{'PHP Freaks': (datetime.datetime(2015, 10, 27, 0, 0), '173,891')}\n",
            "\n"
          ]
        },
        {
          "output_type": "display_data",
          "data": {
            "text/plain": [
              "<IPython.core.display.HTML object>"
            ],
            "text/html": [
              "<a href=https://haveibeenpwned.com/PwnedWebsites#PixelFederation>PixelFederation</a>"
            ]
          },
          "metadata": {}
        },
        {
          "output_type": "stream",
          "name": "stdout",
          "text": [
            "{'Pixel Federation': (datetime.datetime(2013, 12, 4, 0, 0), '38,108')}\n",
            "\n"
          ]
        },
        {
          "output_type": "display_data",
          "data": {
            "text/plain": [
              "<IPython.core.display.HTML object>"
            ],
            "text/html": [
              "<a href=https://haveibeenpwned.com/PwnedWebsites#Pixlr>Pixlr</a>"
            ]
          },
          "metadata": {}
        },
        {
          "output_type": "stream",
          "name": "stdout",
          "text": [
            "{'Pixlr': (datetime.datetime(2020, 10, 7, 0, 0), '1,906,808')}\n",
            "\n"
          ]
        },
        {
          "output_type": "display_data",
          "data": {
            "text/plain": [
              "<IPython.core.display.HTML object>"
            ],
            "text/html": [
              "<a href=https://haveibeenpwned.com/PwnedWebsites#piZap>piZap</a>"
            ]
          },
          "metadata": {}
        },
        {
          "output_type": "stream",
          "name": "stdout",
          "text": [
            "{'piZap': (datetime.datetime(2017, 12, 7, 0, 0), '41,817,893')}\n",
            "\n"
          ]
        },
        {
          "output_type": "display_data",
          "data": {
            "text/plain": [
              "<IPython.core.display.HTML object>"
            ],
            "text/html": [
              "<a href=https://haveibeenpwned.com/PwnedWebsites#PlanetCalypso>PlanetCalypso</a>"
            ]
          },
          "metadata": {}
        },
        {
          "output_type": "stream",
          "name": "stdout",
          "text": [
            "{'Planet Calypso': (datetime.datetime(2019, 7, 1, 0, 0), '62,261')}\n",
            "\n"
          ]
        },
        {
          "output_type": "display_data",
          "data": {
            "text/plain": [
              "<IPython.core.display.HTML object>"
            ],
            "text/html": [
              "<a href=https://haveibeenpwned.com/PwnedWebsites#PlanetIce>PlanetIce</a>"
            ]
          },
          "metadata": {}
        },
        {
          "output_type": "stream",
          "name": "stdout",
          "text": [
            "{'Planet Ice': (datetime.datetime(2023, 1, 14, 0, 0), '240,488')}\n",
            "\n"
          ]
        },
        {
          "output_type": "display_data",
          "data": {
            "text/plain": [
              "<IPython.core.display.HTML object>"
            ],
            "text/html": [
              "<a href=https://haveibeenpwned.com/PwnedWebsites#Playbook>Playbook</a>"
            ]
          },
          "metadata": {}
        },
        {
          "output_type": "stream",
          "name": "stdout",
          "text": [
            "{'Playbook': (datetime.datetime(2020, 10, 19, 0, 0), '50,538')}\n",
            "\n"
          ]
        },
        {
          "output_type": "display_data",
          "data": {
            "text/plain": [
              "<IPython.core.display.HTML object>"
            ],
            "text/html": [
              "<a href=https://haveibeenpwned.com/PwnedWebsites#Plex>Plex</a>"
            ]
          },
          "metadata": {}
        },
        {
          "output_type": "stream",
          "name": "stdout",
          "text": [
            "{'Plex': (datetime.datetime(2015, 7, 2, 0, 0), '327,314')}\n",
            "\n"
          ]
        },
        {
          "output_type": "display_data",
          "data": {
            "text/plain": [
              "<IPython.core.display.HTML object>"
            ],
            "text/html": [
              "<a href=https://haveibeenpwned.com/PwnedWebsites#PlutoTV>PlutoTV</a>"
            ]
          },
          "metadata": {}
        },
        {
          "output_type": "stream",
          "name": "stdout",
          "text": [
            "{'Pluto TV': (datetime.datetime(2018, 10, 12, 0, 0), '3,225,080')}\n",
            "\n"
          ]
        },
        {
          "output_type": "display_data",
          "data": {
            "text/plain": [
              "<IPython.core.display.HTML object>"
            ],
            "text/html": [
              "<a href=https://haveibeenpwned.com/PwnedWebsites#Pokebip>Pokebip</a>"
            ]
          },
          "metadata": {}
        },
        {
          "output_type": "stream",
          "name": "stdout",
          "text": [
            "{'Pokébip': (datetime.datetime(2015, 7, 28, 0, 0), '657,001')}\n",
            "\n"
          ]
        },
        {
          "output_type": "display_data",
          "data": {
            "text/plain": [
              "<IPython.core.display.HTML object>"
            ],
            "text/html": [
              "<a href=https://haveibeenpwned.com/PwnedWebsites#PokemonCreed>PokemonCreed</a>"
            ]
          },
          "metadata": {}
        },
        {
          "output_type": "stream",
          "name": "stdout",
          "text": [
            "{'Pokémon Creed': (datetime.datetime(2014, 8, 8, 0, 0), '116,465')}\n",
            "\n"
          ]
        },
        {
          "output_type": "display_data",
          "data": {
            "text/plain": [
              "<IPython.core.display.HTML object>"
            ],
            "text/html": [
              "<a href=https://haveibeenpwned.com/PwnedWebsites#PokemonNegro>PokemonNegro</a>"
            ]
          },
          "metadata": {}
        },
        {
          "output_type": "stream",
          "name": "stdout",
          "text": [
            "{'Pokémon Negro': (datetime.datetime(2016, 10, 1, 0, 0), '830,155')}\n",
            "\n"
          ]
        },
        {
          "output_type": "display_data",
          "data": {
            "text/plain": [
              "<IPython.core.display.HTML object>"
            ],
            "text/html": [
              "<a href=https://haveibeenpwned.com/PwnedWebsites#PoliceOne>PoliceOne</a>"
            ]
          },
          "metadata": {}
        },
        {
          "output_type": "stream",
          "name": "stdout",
          "text": [
            "{'PoliceOne': (datetime.datetime(2014, 7, 1, 0, 0), '709,926')}\n",
            "\n"
          ]
        },
        {
          "output_type": "display_data",
          "data": {
            "text/plain": [
              "<IPython.core.display.HTML object>"
            ],
            "text/html": [
              "<a href=https://haveibeenpwned.com/PwnedWebsites#Poshmark>Poshmark</a>"
            ]
          },
          "metadata": {}
        },
        {
          "output_type": "stream",
          "name": "stdout",
          "text": [
            "{'Poshmark': (datetime.datetime(2018, 5, 16, 0, 0), '36,395,491')}\n",
            "\n"
          ]
        },
        {
          "output_type": "display_data",
          "data": {
            "text/plain": [
              "<IPython.core.display.HTML object>"
            ],
            "text/html": [
              "<a href=https://haveibeenpwned.com/PwnedWebsites#Powerbot>Powerbot</a>"
            ]
          },
          "metadata": {}
        },
        {
          "output_type": "stream",
          "name": "stdout",
          "text": [
            "{'Powerbot': (datetime.datetime(2014, 9, 1, 0, 0), '503,501')}\n",
            "\n"
          ]
        },
        {
          "output_type": "display_data",
          "data": {
            "text/plain": [
              "<IPython.core.display.HTML object>"
            ],
            "text/html": [
              "<a href=https://haveibeenpwned.com/PwnedWebsites#PPCGeeks>PPCGeeks</a>"
            ]
          },
          "metadata": {}
        },
        {
          "output_type": "stream",
          "name": "stdout",
          "text": [
            "{'PPCGeeks': (datetime.datetime(2016, 8, 19, 0, 0), '492,518')}\n",
            "\n"
          ]
        },
        {
          "output_type": "display_data",
          "data": {
            "text/plain": [
              "<IPython.core.display.HTML object>"
            ],
            "text/html": [
              "<a href=https://haveibeenpwned.com/PwnedWebsites#PreenMe>PreenMe</a>"
            ]
          },
          "metadata": {}
        },
        {
          "output_type": "stream",
          "name": "stdout",
          "text": [
            "{'Preen.Me': (datetime.datetime(2020, 5, 25, 0, 0), '236,105')}\n",
            "\n"
          ]
        },
        {
          "output_type": "display_data",
          "data": {
            "text/plain": [
              "<IPython.core.display.HTML object>"
            ],
            "text/html": [
              "<a href=https://haveibeenpwned.com/PwnedWebsites#ProctorU>ProctorU</a>"
            ]
          },
          "metadata": {}
        },
        {
          "output_type": "stream",
          "name": "stdout",
          "text": [
            "{'ProctorU': (datetime.datetime(2020, 6, 26, 0, 0), '444,453')}\n",
            "\n"
          ]
        },
        {
          "output_type": "display_data",
          "data": {
            "text/plain": [
              "<IPython.core.display.HTML object>"
            ],
            "text/html": [
              "<a href=https://haveibeenpwned.com/PwnedWebsites#ProgrammingForums>ProgrammingForums</a>"
            ]
          },
          "metadata": {}
        },
        {
          "output_type": "stream",
          "name": "stdout",
          "text": [
            "{'Programming Forums': (datetime.datetime(2015, 12, 1, 0, 0), '707,432')}\n",
            "\n"
          ]
        },
        {
          "output_type": "display_data",
          "data": {
            "text/plain": [
              "<IPython.core.display.HTML object>"
            ],
            "text/html": [
              "<a href=https://haveibeenpwned.com/PwnedWebsites#Promo>Promo</a>"
            ]
          },
          "metadata": {}
        },
        {
          "output_type": "stream",
          "name": "stdout",
          "text": [
            "{'Promo': (datetime.datetime(2020, 6, 22, 0, 0), '14,610,585')}\n",
            "\n"
          ]
        },
        {
          "output_type": "display_data",
          "data": {
            "text/plain": [
              "<IPython.core.display.HTML object>"
            ],
            "text/html": [
              "<a href=https://haveibeenpwned.com/PwnedWebsites#Promofarma>Promofarma</a>"
            ]
          },
          "metadata": {}
        },
        {
          "output_type": "stream",
          "name": "stdout",
          "text": [
            "{'Promofarma': (datetime.datetime(2019, 8, 3, 0, 0), '1,277,761')}\n",
            "\n"
          ]
        },
        {
          "output_type": "display_data",
          "data": {
            "text/plain": [
              "<IPython.core.display.HTML object>"
            ],
            "text/html": [
              "<a href=https://haveibeenpwned.com/PwnedWebsites#PropTiger>PropTiger</a>"
            ]
          },
          "metadata": {}
        },
        {
          "output_type": "stream",
          "name": "stdout",
          "text": [
            "{'PropTiger': (datetime.datetime(2018, 1, 30, 0, 0), '2,156,921')}\n",
            "\n"
          ]
        },
        {
          "output_type": "display_data",
          "data": {
            "text/plain": [
              "<IPython.core.display.HTML object>"
            ],
            "text/html": [
              "<a href=https://haveibeenpwned.com/PwnedWebsites#Protemps>Protemps</a>"
            ]
          },
          "metadata": {}
        },
        {
          "output_type": "stream",
          "name": "stdout",
          "text": [
            "{'Protemps': (datetime.datetime(2021, 10, 4, 0, 0), '49,591')}\n",
            "\n"
          ]
        },
        {
          "output_type": "display_data",
          "data": {
            "text/plain": [
              "<IPython.core.display.HTML object>"
            ],
            "text/html": [
              "<a href=https://haveibeenpwned.com/PwnedWebsites#PS3Hax>PS3Hax</a>"
            ]
          },
          "metadata": {}
        },
        {
          "output_type": "stream",
          "name": "stdout",
          "text": [
            "{'PS3Hax': (datetime.datetime(2015, 7, 1, 0, 0), '447,410')}\n",
            "\n"
          ]
        },
        {
          "output_type": "display_data",
          "data": {
            "text/plain": [
              "<IPython.core.display.HTML object>"
            ],
            "text/html": [
              "<a href=https://haveibeenpwned.com/PwnedWebsites#PSPISO>PSPISO</a>"
            ]
          },
          "metadata": {}
        },
        {
          "output_type": "stream",
          "name": "stdout",
          "text": [
            "{'PSP ISO': (datetime.datetime(2015, 9, 25, 0, 0), '1,274,070')}\n",
            "\n"
          ]
        },
        {
          "output_type": "display_data",
          "data": {
            "text/plain": [
              "<IPython.core.display.HTML object>"
            ],
            "text/html": [
              "<a href=https://haveibeenpwned.com/PwnedWebsites#PSX-Scene>PSX-Scene</a>"
            ]
          },
          "metadata": {}
        },
        {
          "output_type": "stream",
          "name": "stdout",
          "text": [
            "{'PSX-Scene': (datetime.datetime(2015, 2, 1, 0, 0), '341,118')}\n",
            "\n"
          ]
        },
        {
          "output_type": "display_data",
          "data": {
            "text/plain": [
              "<IPython.core.display.HTML object>"
            ],
            "text/html": [
              "<a href=https://haveibeenpwned.com/PwnedWebsites#QatarNationalBank>QatarNationalBank</a>"
            ]
          },
          "metadata": {}
        },
        {
          "output_type": "stream",
          "name": "stdout",
          "text": [
            "{'Qatar National Bank': (datetime.datetime(2015, 7, 1, 0, 0), '88,678')}\n",
            "\n"
          ]
        },
        {
          "output_type": "display_data",
          "data": {
            "text/plain": [
              "<IPython.core.display.HTML object>"
            ],
            "text/html": [
              "<a href=https://haveibeenpwned.com/PwnedWebsites#QIP>QIP</a>"
            ]
          },
          "metadata": {}
        },
        {
          "output_type": "stream",
          "name": "stdout",
          "text": [
            "{'QIP': (datetime.datetime(2011, 6, 1, 0, 0), '26,183,992')}\n",
            "\n"
          ]
        },
        {
          "output_type": "display_data",
          "data": {
            "text/plain": [
              "<IPython.core.display.HTML object>"
            ],
            "text/html": [
              "<a href=https://haveibeenpwned.com/PwnedWebsites#QuantumBooter>QuantumBooter</a>"
            ]
          },
          "metadata": {}
        },
        {
          "output_type": "stream",
          "name": "stdout",
          "text": [
            "{'Quantum Booter': (datetime.datetime(2014, 3, 18, 0, 0), '48,592')}\n",
            "\n"
          ]
        },
        {
          "output_type": "display_data",
          "data": {
            "text/plain": [
              "<IPython.core.display.HTML object>"
            ],
            "text/html": [
              "<a href=https://haveibeenpwned.com/PwnedWebsites#QuestionPro>QuestionPro</a>"
            ]
          },
          "metadata": {}
        },
        {
          "output_type": "stream",
          "name": "stdout",
          "text": [
            "{'QuestionPro': (datetime.datetime(2022, 5, 21, 0, 0), '22,229,637')}\n",
            "\n"
          ]
        },
        {
          "output_type": "display_data",
          "data": {
            "text/plain": [
              "<IPython.core.display.HTML object>"
            ],
            "text/html": [
              "<a href=https://haveibeenpwned.com/PwnedWebsites#Quidd>Quidd</a>"
            ]
          },
          "metadata": {}
        },
        {
          "output_type": "stream",
          "name": "stdout",
          "text": [
            "{'Quidd': (datetime.datetime(2019, 7, 1, 0, 0), '3,805,863')}\n",
            "\n"
          ]
        },
        {
          "output_type": "display_data",
          "data": {
            "text/plain": [
              "<IPython.core.display.HTML object>"
            ],
            "text/html": [
              "<a href=https://haveibeenpwned.com/PwnedWebsites#QuinStreet>QuinStreet</a>"
            ]
          },
          "metadata": {}
        },
        {
          "output_type": "stream",
          "name": "stdout",
          "text": [
            "{'QuinStreet': (datetime.datetime(2015, 12, 14, 0, 0), '4,907,802')}\n",
            "\n"
          ]
        },
        {
          "output_type": "display_data",
          "data": {
            "text/plain": [
              "<IPython.core.display.HTML object>"
            ],
            "text/html": [
              "<a href=https://haveibeenpwned.com/PwnedWebsites#R2-2017>R2-2017</a>"
            ]
          },
          "metadata": {}
        },
        {
          "output_type": "stream",
          "name": "stdout",
          "text": [
            "{'R2 (2017 forum breach)': (datetime.datetime(2017, 1, 1, 0, 0), '1,023,466')}\n",
            "\n"
          ]
        },
        {
          "output_type": "display_data",
          "data": {
            "text/plain": [
              "<IPython.core.display.HTML object>"
            ],
            "text/html": [
              "<a href=https://haveibeenpwned.com/PwnedWebsites#R2Games>R2Games</a>"
            ]
          },
          "metadata": {}
        },
        {
          "output_type": "stream",
          "name": "stdout",
          "text": [
            "{'R2Games': (datetime.datetime(2015, 11, 1, 0, 0), '22,281,337')}\n",
            "\n"
          ]
        },
        {
          "output_type": "display_data",
          "data": {
            "text/plain": [
              "<IPython.core.display.HTML object>"
            ],
            "text/html": [
              "<a href=https://haveibeenpwned.com/PwnedWebsites#Rambler>Rambler</a>"
            ]
          },
          "metadata": {}
        },
        {
          "output_type": "stream",
          "name": "stdout",
          "text": [
            "{'Rambler': (datetime.datetime(2014, 3, 1, 0, 0), '91,436,280')}\n",
            "\n"
          ]
        },
        {
          "output_type": "display_data",
          "data": {
            "text/plain": [
              "<IPython.core.display.HTML object>"
            ],
            "text/html": [
              "<a href=https://haveibeenpwned.com/PwnedWebsites#Rankwatch>Rankwatch</a>"
            ]
          },
          "metadata": {}
        },
        {
          "output_type": "stream",
          "name": "stdout",
          "text": [
            "{'RankWatch': (datetime.datetime(2016, 11, 19, 0, 0), '7,445,067')}\n",
            "\n"
          ]
        },
        {
          "output_type": "display_data",
          "data": {
            "text/plain": [
              "<IPython.core.display.HTML object>"
            ],
            "text/html": [
              "<a href=https://haveibeenpwned.com/PwnedWebsites#Raychat>Raychat</a>"
            ]
          },
          "metadata": {}
        },
        {
          "output_type": "stream",
          "name": "stdout",
          "text": [
            "{'Raychat': (datetime.datetime(2021, 1, 31, 0, 0), '938,981')}\n",
            "\n"
          ]
        },
        {
          "output_type": "display_data",
          "data": {
            "text/plain": [
              "<IPython.core.display.HTML object>"
            ],
            "text/html": [
              "<a href=https://haveibeenpwned.com/PwnedWebsites#RbxRocks>RbxRocks</a>"
            ]
          },
          "metadata": {}
        },
        {
          "output_type": "stream",
          "name": "stdout",
          "text": [
            "{'Rbx.Rocks': (datetime.datetime(2018, 8, 6, 0, 0), '149,958')}\n",
            "\n"
          ]
        },
        {
          "output_type": "display_data",
          "data": {
            "text/plain": [
              "<IPython.core.display.HTML object>"
            ],
            "text/html": [
              "<a href=https://haveibeenpwned.com/PwnedWebsites#ReadNovel>ReadNovel</a>"
            ]
          },
          "metadata": {}
        },
        {
          "output_type": "stream",
          "name": "stdout",
          "text": [
            "{'Read Novel': (datetime.datetime(2019, 5, 1, 0, 0), '22,424,472')}\n",
            "\n"
          ]
        },
        {
          "output_type": "display_data",
          "data": {
            "text/plain": [
              "<IPython.core.display.HTML object>"
            ],
            "text/html": [
              "<a href=https://haveibeenpwned.com/PwnedWebsites#RealEstateMogul>RealEstateMogul</a>"
            ]
          },
          "metadata": {}
        },
        {
          "output_type": "stream",
          "name": "stdout",
          "text": [
            "{'Real Estate Mogul': (datetime.datetime(2016, 9, 6, 0, 0), '307,768')}\n",
            "\n"
          ]
        },
        {
          "output_type": "display_data",
          "data": {
            "text/plain": [
              "<IPython.core.display.HTML object>"
            ],
            "text/html": [
              "<a href=https://haveibeenpwned.com/PwnedWebsites#RealDudesInc>RealDudesInc</a>"
            ]
          },
          "metadata": {}
        },
        {
          "output_type": "stream",
          "name": "stdout",
          "text": [
            "{'RealDudesInc': (datetime.datetime(2022, 10, 22, 0, 0), '101,543')}\n",
            "\n"
          ]
        },
        {
          "output_type": "display_data",
          "data": {
            "text/plain": [
              "<IPython.core.display.HTML object>"
            ],
            "text/html": [
              "<a href=https://haveibeenpwned.com/PwnedWebsites#RedDoorz>RedDoorz</a>"
            ]
          },
          "metadata": {}
        },
        {
          "output_type": "stream",
          "name": "stdout",
          "text": [
            "{'RedDoorz': (datetime.datetime(2020, 9, 4, 0, 0), '5,890,277')}\n",
            "\n"
          ]
        },
        {
          "output_type": "display_data",
          "data": {
            "text/plain": [
              "<IPython.core.display.HTML object>"
            ],
            "text/html": [
              "<a href=https://haveibeenpwned.com/PwnedWebsites#RedLineStealer>RedLineStealer</a>"
            ]
          },
          "metadata": {}
        },
        {
          "output_type": "stream",
          "name": "stdout",
          "text": [
            "{'RedLine Stealer': (datetime.datetime(2021, 12, 5, 0, 0), '441,657')}\n",
            "\n"
          ]
        },
        {
          "output_type": "display_data",
          "data": {
            "text/plain": [
              "<IPython.core.display.HTML object>"
            ],
            "text/html": [
              "<a href=https://haveibeenpwned.com/PwnedWebsites#BlueSnapRegpack>BlueSnapRegpack</a>"
            ]
          },
          "metadata": {}
        },
        {
          "output_type": "stream",
          "name": "stdout",
          "text": [
            "{'Regpack': (datetime.datetime(2016, 5, 20, 0, 0), '104,977')}\n",
            "\n"
          ]
        },
        {
          "output_type": "display_data",
          "data": {
            "text/plain": [
              "<IPython.core.display.HTML object>"
            ],
            "text/html": [
              "<a href=https://haveibeenpwned.com/PwnedWebsites#Reincubate>Reincubate</a>"
            ]
          },
          "metadata": {}
        },
        {
          "output_type": "stream",
          "name": "stdout",
          "text": [
            "{'Reincubate': (datetime.datetime(2017, 5, 11, 0, 0), '616,146')}\n",
            "\n"
          ]
        },
        {
          "output_type": "display_data",
          "data": {
            "text/plain": [
              "<IPython.core.display.HTML object>"
            ],
            "text/html": [
              "<a href=https://haveibeenpwned.com/PwnedWebsites#RepublicanPartyOfTexas>RepublicanPartyOfTexas</a>"
            ]
          },
          "metadata": {}
        },
        {
          "output_type": "stream",
          "name": "stdout",
          "text": [
            "{'Republican Party of Texas': (datetime.datetime(2021, 9, 11, 0, 0), '72,596')}\n",
            "\n"
          ]
        },
        {
          "output_type": "display_data",
          "data": {
            "text/plain": [
              "<IPython.core.display.HTML object>"
            ],
            "text/html": [
              "<a href=https://haveibeenpwned.com/PwnedWebsites#RetinaX>RetinaX</a>"
            ]
          },
          "metadata": {}
        },
        {
          "output_type": "stream",
          "name": "stdout",
          "text": [
            "{'Retina-X': (datetime.datetime(2017, 2, 23, 0, 0), '71,153')}\n",
            "\n"
          ]
        },
        {
          "output_type": "display_data",
          "data": {
            "text/plain": [
              "<IPython.core.display.HTML object>"
            ],
            "text/html": [
              "<a href=https://haveibeenpwned.com/PwnedWebsites#Reverb-Nation>Reverb-Nation</a>"
            ]
          },
          "metadata": {}
        },
        {
          "output_type": "stream",
          "name": "stdout",
          "text": [
            "{'ReverbNation': (datetime.datetime(2014, 1, 1, 0, 0), '7,040,725')}\n",
            "\n"
          ]
        },
        {
          "output_type": "display_data",
          "data": {
            "text/plain": [
              "<IPython.core.display.HTML object>"
            ],
            "text/html": [
              "<a href=https://haveibeenpwned.com/PwnedWebsites#RiverCityMedia>RiverCityMedia</a>"
            ]
          },
          "metadata": {}
        },
        {
          "output_type": "stream",
          "name": "stdout",
          "text": [
            "{'River City Media Spam List': (datetime.datetime(2017, 1, 1, 0, 0), '393,430,309')}\n",
            "\n"
          ]
        },
        {
          "output_type": "display_data",
          "data": {
            "text/plain": [
              "<IPython.core.display.HTML object>"
            ],
            "text/html": [
              "<a href=https://haveibeenpwned.com/PwnedWebsites#Robinhood>Robinhood</a>"
            ]
          },
          "metadata": {}
        },
        {
          "output_type": "stream",
          "name": "stdout",
          "text": [
            "{'Robinhood': (datetime.datetime(2021, 11, 3, 0, 0), '5,003,937')}\n",
            "\n"
          ]
        },
        {
          "output_type": "display_data",
          "data": {
            "text/plain": [
              "<IPython.core.display.HTML object>"
            ],
            "text/html": [
              "<a href=https://haveibeenpwned.com/PwnedWebsites#Roll20>Roll20</a>"
            ]
          },
          "metadata": {}
        },
        {
          "output_type": "stream",
          "name": "stdout",
          "text": [
            "{'Roll20': (datetime.datetime(2018, 12, 26, 0, 0), '3,994,436')}\n",
            "\n"
          ]
        },
        {
          "output_type": "display_data",
          "data": {
            "text/plain": [
              "<IPython.core.display.HTML object>"
            ],
            "text/html": [
              "<a href=https://haveibeenpwned.com/PwnedWebsites#Romwe>Romwe</a>"
            ]
          },
          "metadata": {}
        },
        {
          "output_type": "stream",
          "name": "stdout",
          "text": [
            "{'Romwe': (datetime.datetime(2018, 6, 1, 0, 0), '19,531,820')}\n",
            "\n"
          ]
        },
        {
          "output_type": "display_data",
          "data": {
            "text/plain": [
              "<IPython.core.display.HTML object>"
            ],
            "text/html": [
              "<a href=https://haveibeenpwned.com/PwnedWebsites#RosebuttBoard>RosebuttBoard</a>"
            ]
          },
          "metadata": {}
        },
        {
          "output_type": "stream",
          "name": "stdout",
          "text": [
            "{'Rosebutt Board': (datetime.datetime(2016, 5, 9, 0, 0), '107,303')}\n",
            "\n"
          ]
        },
        {
          "output_type": "display_data",
          "data": {
            "text/plain": [
              "<IPython.core.display.HTML object>"
            ],
            "text/html": [
              "<a href=https://haveibeenpwned.com/PwnedWebsites#RoyalEnfield>RoyalEnfield</a>"
            ]
          },
          "metadata": {}
        },
        {
          "output_type": "stream",
          "name": "stdout",
          "text": [
            "{'Royal Enfield': (datetime.datetime(2019, 1, 1, 0, 0), '420,873')}\n",
            "\n"
          ]
        },
        {
          "output_type": "display_data",
          "data": {
            "text/plain": [
              "<IPython.core.display.HTML object>"
            ],
            "text/html": [
              "<a href=https://haveibeenpwned.com/PwnedWebsites#RussianAmerica>RussianAmerica</a>"
            ]
          },
          "metadata": {}
        },
        {
          "output_type": "stream",
          "name": "stdout",
          "text": [
            "{'Russian America': (datetime.datetime(2017, 1, 1, 0, 0), '182,717')}\n",
            "\n"
          ]
        },
        {
          "output_type": "display_data",
          "data": {
            "text/plain": [
              "<IPython.core.display.HTML object>"
            ],
            "text/html": [
              "<a href=https://haveibeenpwned.com/PwnedWebsites#SaverSpy>SaverSpy</a>"
            ]
          },
          "metadata": {}
        },
        {
          "output_type": "stream",
          "name": "stdout",
          "text": [
            "{'SaverSpy': (datetime.datetime(2018, 9, 18, 0, 0), '2,457,420')}\n",
            "\n"
          ]
        },
        {
          "output_type": "display_data",
          "data": {
            "text/plain": [
              "<IPython.core.display.HTML object>"
            ],
            "text/html": [
              "<a href=https://haveibeenpwned.com/PwnedWebsites#SCDailyPhoneSpamList>SCDailyPhoneSpamList</a>"
            ]
          },
          "metadata": {}
        },
        {
          "output_type": "stream",
          "name": "stdout",
          "text": [
            "{'SC Daily Phone Spam List': (datetime.datetime(2015, 4, 14, 0, 0), '32,939,105')}\n",
            "\n"
          ]
        },
        {
          "output_type": "display_data",
          "data": {
            "text/plain": [
              "<IPython.core.display.HTML object>"
            ],
            "text/html": [
              "<a href=https://haveibeenpwned.com/PwnedWebsites#Scentbird>Scentbird</a>"
            ]
          },
          "metadata": {}
        },
        {
          "output_type": "stream",
          "name": "stdout",
          "text": [
            "{'Scentbird': (datetime.datetime(2020, 6, 22, 0, 0), '5,814,988')}\n",
            "\n"
          ]
        },
        {
          "output_type": "display_data",
          "data": {
            "text/plain": [
              "<IPython.core.display.HTML object>"
            ],
            "text/html": [
              "<a href=https://haveibeenpwned.com/PwnedWebsites#SchoolDistrict42>SchoolDistrict42</a>"
            ]
          },
          "metadata": {}
        },
        {
          "output_type": "stream",
          "name": "stdout",
          "text": [
            "{'School District 42': (datetime.datetime(2023, 1, 15, 0, 0), '18,850')}\n",
            "\n"
          ]
        },
        {
          "output_type": "display_data",
          "data": {
            "text/plain": [
              "<IPython.core.display.HTML object>"
            ],
            "text/html": [
              "<a href=https://haveibeenpwned.com/PwnedWebsites#Seedpeer>Seedpeer</a>"
            ]
          },
          "metadata": {}
        },
        {
          "output_type": "stream",
          "name": "stdout",
          "text": [
            "{'Seedpeer': (datetime.datetime(2015, 7, 12, 0, 0), '281,924')}\n",
            "\n"
          ]
        },
        {
          "output_type": "display_data",
          "data": {
            "text/plain": [
              "<IPython.core.display.HTML object>"
            ],
            "text/html": [
              "<a href=https://haveibeenpwned.com/PwnedWebsites#Sephora>Sephora</a>"
            ]
          },
          "metadata": {}
        },
        {
          "output_type": "stream",
          "name": "stdout",
          "text": [
            "{'Sephora': (datetime.datetime(2017, 1, 9, 0, 0), '780,073')}\n",
            "\n"
          ]
        },
        {
          "output_type": "display_data",
          "data": {
            "text/plain": [
              "<IPython.core.display.HTML object>"
            ],
            "text/html": [
              "<a href=https://haveibeenpwned.com/PwnedWebsites#ServerPact>ServerPact</a>"
            ]
          },
          "metadata": {}
        },
        {
          "output_type": "stream",
          "name": "stdout",
          "text": [
            "{'ServerPact': (datetime.datetime(2016, 1, 1, 0, 0), '73,587')}\n",
            "\n"
          ]
        },
        {
          "output_type": "display_data",
          "data": {
            "text/plain": [
              "<IPython.core.display.HTML object>"
            ],
            "text/html": [
              "<a href=https://haveibeenpwned.com/PwnedWebsites#Shadi>Shadi</a>"
            ]
          },
          "metadata": {}
        },
        {
          "output_type": "stream",
          "name": "stdout",
          "text": [
            "{'Shadi.com': (datetime.datetime(2016, 7, 9, 0, 0), '2,021,984')}\n",
            "\n"
          ]
        },
        {
          "output_type": "display_data",
          "data": {
            "text/plain": [
              "<IPython.core.display.HTML object>"
            ],
            "text/html": [
              "<a href=https://haveibeenpwned.com/PwnedWebsites#ShareThis>ShareThis</a>"
            ]
          },
          "metadata": {}
        },
        {
          "output_type": "stream",
          "name": "stdout",
          "text": [
            "{'ShareThis': (datetime.datetime(2018, 7, 9, 0, 0), '40,960,499')}\n",
            "\n"
          ]
        },
        {
          "output_type": "display_data",
          "data": {
            "text/plain": [
              "<IPython.core.display.HTML object>"
            ],
            "text/html": [
              "<a href=https://haveibeenpwned.com/PwnedWebsites#SHEIN>SHEIN</a>"
            ]
          },
          "metadata": {}
        },
        {
          "output_type": "stream",
          "name": "stdout",
          "text": [
            "{'SHEIN': (datetime.datetime(2018, 6, 1, 0, 0), '39,086,762')}\n",
            "\n"
          ]
        },
        {
          "output_type": "display_data",
          "data": {
            "text/plain": [
              "<IPython.core.display.HTML object>"
            ],
            "text/html": [
              "<a href=https://haveibeenpwned.com/PwnedWebsites#Shitexpress>Shitexpress</a>"
            ]
          },
          "metadata": {}
        },
        {
          "output_type": "stream",
          "name": "stdout",
          "text": [
            "{'Shitexpress': (datetime.datetime(2022, 8, 8, 0, 0), '23,817')}\n",
            "\n"
          ]
        },
        {
          "output_type": "display_data",
          "data": {
            "text/plain": [
              "<IPython.core.display.HTML object>"
            ],
            "text/html": [
              "<a href=https://haveibeenpwned.com/PwnedWebsites#ShockGore>ShockGore</a>"
            ]
          },
          "metadata": {}
        },
        {
          "output_type": "stream",
          "name": "stdout",
          "text": [
            "{'ShockGore': (datetime.datetime(2020, 8, 11, 0, 0), '73,944')}\n",
            "\n"
          ]
        },
        {
          "output_type": "display_data",
          "data": {
            "text/plain": [
              "<IPython.core.display.HTML object>"
            ],
            "text/html": [
              "<a href=https://haveibeenpwned.com/PwnedWebsites#ShopBack>ShopBack</a>"
            ]
          },
          "metadata": {}
        },
        {
          "output_type": "stream",
          "name": "stdout",
          "text": [
            "{'ShopBack': (datetime.datetime(2020, 9, 17, 0, 0), '20,529,819')}\n",
            "\n"
          ]
        },
        {
          "output_type": "display_data",
          "data": {
            "text/plain": [
              "<IPython.core.display.HTML object>"
            ],
            "text/html": [
              "<a href=https://haveibeenpwned.com/PwnedWebsites#ShopperPlus>ShopperPlus</a>"
            ]
          },
          "metadata": {}
        },
        {
          "output_type": "stream",
          "name": "stdout",
          "text": [
            "{'Shopper+': (datetime.datetime(2020, 9, 14, 0, 0), '878,290')}\n",
            "\n"
          ]
        },
        {
          "output_type": "display_data",
          "data": {
            "text/plain": [
              "<IPython.core.display.HTML object>"
            ],
            "text/html": [
              "<a href=https://haveibeenpwned.com/PwnedWebsites#ShortEdition>ShortEdition</a>"
            ]
          },
          "metadata": {}
        },
        {
          "output_type": "stream",
          "name": "stdout",
          "text": [
            "{'Short Édition': (datetime.datetime(2021, 6, 26, 0, 0), '505,466')}\n",
            "\n"
          ]
        },
        {
          "output_type": "display_data",
          "data": {
            "text/plain": [
              "<IPython.core.display.HTML object>"
            ],
            "text/html": [
              "<a href=https://haveibeenpwned.com/PwnedWebsites#Shotbow>Shotbow</a>"
            ]
          },
          "metadata": {}
        },
        {
          "output_type": "stream",
          "name": "stdout",
          "text": [
            "{'Shotbow': (datetime.datetime(2016, 5, 9, 0, 0), '1,052,753')}\n",
            "\n"
          ]
        },
        {
          "output_type": "display_data",
          "data": {
            "text/plain": [
              "<IPython.core.display.HTML object>"
            ],
            "text/html": [
              "<a href=https://haveibeenpwned.com/PwnedWebsites#SirHurt>SirHurt</a>"
            ]
          },
          "metadata": {}
        },
        {
          "output_type": "stream",
          "name": "stdout",
          "text": [
            "{'SirHurt': (datetime.datetime(2021, 4, 23, 0, 0), '90,655')}\n",
            "\n"
          ]
        },
        {
          "output_type": "display_data",
          "data": {
            "text/plain": [
              "<IPython.core.display.HTML object>"
            ],
            "text/html": [
              "<a href=https://haveibeenpwned.com/PwnedWebsites#SitePoint>SitePoint</a>"
            ]
          },
          "metadata": {}
        },
        {
          "output_type": "stream",
          "name": "stdout",
          "text": [
            "{'SitePoint': (datetime.datetime(2020, 6, 20, 0, 0), '1,021,790')}\n",
            "\n"
          ]
        },
        {
          "output_type": "display_data",
          "data": {
            "text/plain": [
              "<IPython.core.display.HTML object>"
            ],
            "text/html": [
              "<a href=https://haveibeenpwned.com/PwnedWebsites#SkTorrent>SkTorrent</a>"
            ]
          },
          "metadata": {}
        },
        {
          "output_type": "stream",
          "name": "stdout",
          "text": [
            "{'SkTorrent': (datetime.datetime(2016, 2, 19, 0, 0), '117,070')}\n",
            "\n"
          ]
        },
        {
          "output_type": "display_data",
          "data": {
            "text/plain": [
              "<IPython.core.display.HTML object>"
            ],
            "text/html": [
              "<a href=https://haveibeenpwned.com/PwnedWebsites#Slickwraps>Slickwraps</a>"
            ]
          },
          "metadata": {}
        },
        {
          "output_type": "stream",
          "name": "stdout",
          "text": [
            "{'Slickwraps': (datetime.datetime(2020, 2, 16, 0, 0), '857,611')}\n",
            "\n"
          ]
        },
        {
          "output_type": "display_data",
          "data": {
            "text/plain": [
              "<IPython.core.display.HTML object>"
            ],
            "text/html": [
              "<a href=https://haveibeenpwned.com/PwnedWebsites#SlideTeam>SlideTeam</a>"
            ]
          },
          "metadata": {}
        },
        {
          "output_type": "stream",
          "name": "stdout",
          "text": [
            "{'SlideTeam': (datetime.datetime(2021, 4, 6, 0, 0), '1,464,271')}\n",
            "\n"
          ]
        },
        {
          "output_type": "display_data",
          "data": {
            "text/plain": [
              "<IPython.core.display.HTML object>"
            ],
            "text/html": [
              "<a href=https://haveibeenpwned.com/PwnedWebsites#Smogon>Smogon</a>"
            ]
          },
          "metadata": {}
        },
        {
          "output_type": "stream",
          "name": "stdout",
          "text": [
            "{'Smogon': (datetime.datetime(2017, 9, 10, 0, 0), '386,489')}\n",
            "\n"
          ]
        },
        {
          "output_type": "display_data",
          "data": {
            "text/plain": [
              "<IPython.core.display.HTML object>"
            ],
            "text/html": [
              "<a href=https://haveibeenpwned.com/PwnedWebsites#Snail>Snail</a>"
            ]
          },
          "metadata": {}
        },
        {
          "output_type": "stream",
          "name": "stdout",
          "text": [
            "{'Snail': (datetime.datetime(2015, 3, 14, 0, 0), '1,410,899')}\n",
            "\n"
          ]
        },
        {
          "output_type": "display_data",
          "data": {
            "text/plain": [
              "<IPython.core.display.HTML object>"
            ],
            "text/html": [
              "<a href=https://haveibeenpwned.com/PwnedWebsites#Snapchat>Snapchat</a>"
            ]
          },
          "metadata": {}
        },
        {
          "output_type": "stream",
          "name": "stdout",
          "text": [
            "{'Snapchat': (datetime.datetime(2014, 1, 1, 0, 0), '4,609,615')}\n",
            "\n"
          ]
        },
        {
          "output_type": "display_data",
          "data": {
            "text/plain": [
              "<IPython.core.display.HTML object>"
            ],
            "text/html": [
              "<a href=https://haveibeenpwned.com/PwnedWebsites#SocialEngineered>SocialEngineered</a>"
            ]
          },
          "metadata": {}
        },
        {
          "output_type": "stream",
          "name": "stdout",
          "text": [
            "{'Social Engineered': (datetime.datetime(2019, 6, 13, 0, 0), '89,392')}\n",
            "\n"
          ]
        },
        {
          "output_type": "display_data",
          "data": {
            "text/plain": [
              "<IPython.core.display.HTML object>"
            ],
            "text/html": [
              "<a href=https://haveibeenpwned.com/PwnedWebsites#SIAE>SIAE</a>"
            ]
          },
          "metadata": {}
        },
        {
          "output_type": "stream",
          "name": "stdout",
          "text": [
            "{'Società Italiana degli Autori ed Editori': (datetime.datetime(2018, 11, 3, 0, 0), '14,609')}\n",
            "\n"
          ]
        },
        {
          "output_type": "display_data",
          "data": {
            "text/plain": [
              "<IPython.core.display.HTML object>"
            ],
            "text/html": [
              "<a href=https://haveibeenpwned.com/PwnedWebsites#Sonicbids>Sonicbids</a>"
            ]
          },
          "metadata": {}
        },
        {
          "output_type": "stream",
          "name": "stdout",
          "text": [
            "{'Sonicbids': (datetime.datetime(2019, 12, 30, 0, 0), '751,700')}\n",
            "\n"
          ]
        },
        {
          "output_type": "display_data",
          "data": {
            "text/plain": [
              "<IPython.core.display.HTML object>"
            ],
            "text/html": [
              "<a href=https://haveibeenpwned.com/PwnedWebsites#Sony>Sony</a>"
            ]
          },
          "metadata": {}
        },
        {
          "output_type": "stream",
          "name": "stdout",
          "text": [
            "{'Sony': (datetime.datetime(2011, 6, 2, 0, 0), '37,103')}\n",
            "\n"
          ]
        },
        {
          "output_type": "display_data",
          "data": {
            "text/plain": [
              "<IPython.core.display.HTML object>"
            ],
            "text/html": [
              "<a href=https://haveibeenpwned.com/PwnedWebsites#Soundwave>Soundwave</a>"
            ]
          },
          "metadata": {}
        },
        {
          "output_type": "stream",
          "name": "stdout",
          "text": [
            "{'Soundwave': (datetime.datetime(2015, 7, 16, 0, 0), '130,705')}\n",
            "\n"
          ]
        },
        {
          "output_type": "display_data",
          "data": {
            "text/plain": [
              "<IPython.core.display.HTML object>"
            ],
            "text/html": [
              "<a href=https://haveibeenpwned.com/PwnedWebsites#SpecialKSpamList>SpecialKSpamList</a>"
            ]
          },
          "metadata": {}
        },
        {
          "output_type": "stream",
          "name": "stdout",
          "text": [
            "{'Special K Data Feed Spam List': (datetime.datetime(2015, 10, 7, 0, 0), '30,741,620')}\n",
            "\n"
          ]
        },
        {
          "output_type": "display_data",
          "data": {
            "text/plain": [
              "<IPython.core.display.HTML object>"
            ],
            "text/html": [
              "<a href=https://haveibeenpwned.com/PwnedWebsites#Spirol>Spirol</a>"
            ]
          },
          "metadata": {}
        },
        {
          "output_type": "stream",
          "name": "stdout",
          "text": [
            "{'Spirol': (datetime.datetime(2014, 2, 22, 0, 0), '55,622')}\n",
            "\n"
          ]
        },
        {
          "output_type": "display_data",
          "data": {
            "text/plain": [
              "<IPython.core.display.HTML object>"
            ],
            "text/html": [
              "<a href=https://haveibeenpwned.com/PwnedWebsites#SpyFone>SpyFone</a>"
            ]
          },
          "metadata": {}
        },
        {
          "output_type": "stream",
          "name": "stdout",
          "text": [
            "{'SpyFone': (datetime.datetime(2018, 8, 16, 0, 0), '44,109')}\n",
            "\n"
          ]
        },
        {
          "output_type": "display_data",
          "data": {
            "text/plain": [
              "<IPython.core.display.HTML object>"
            ],
            "text/html": [
              "<a href=https://haveibeenpwned.com/PwnedWebsites#Staminus>Staminus</a>"
            ]
          },
          "metadata": {}
        },
        {
          "output_type": "stream",
          "name": "stdout",
          "text": [
            "{'Staminus': (datetime.datetime(2016, 3, 11, 0, 0), '26,815')}\n",
            "\n"
          ]
        },
        {
          "output_type": "display_data",
          "data": {
            "text/plain": [
              "<IPython.core.display.HTML object>"
            ],
            "text/html": [
              "<a href=https://haveibeenpwned.com/PwnedWebsites#StarNet>StarNet</a>"
            ]
          },
          "metadata": {}
        },
        {
          "output_type": "stream",
          "name": "stdout",
          "text": [
            "{'StarNet': (datetime.datetime(2015, 2, 26, 0, 0), '139,395')}\n",
            "\n"
          ]
        },
        {
          "output_type": "display_data",
          "data": {
            "text/plain": [
              "<IPython.core.display.HTML object>"
            ],
            "text/html": [
              "<a href=https://haveibeenpwned.com/PwnedWebsites#Start>Start</a>"
            ]
          },
          "metadata": {}
        },
        {
          "output_type": "stream",
          "name": "stdout",
          "text": [
            "{'START': (datetime.datetime(2021, 6, 1, 0, 0), '7,455,386')}\n",
            "\n"
          ]
        },
        {
          "output_type": "display_data",
          "data": {
            "text/plain": [
              "<IPython.core.display.HTML object>"
            ],
            "text/html": [
              "<a href=https://haveibeenpwned.com/PwnedWebsites#StarTribune>StarTribune</a>"
            ]
          },
          "metadata": {}
        },
        {
          "output_type": "stream",
          "name": "stdout",
          "text": [
            "{'StarTribune': (datetime.datetime(2019, 10, 10, 0, 0), '2,192,857')}\n",
            "\n"
          ]
        },
        {
          "output_type": "display_data",
          "data": {
            "text/plain": [
              "<IPython.core.display.HTML object>"
            ],
            "text/html": [
              "<a href=https://haveibeenpwned.com/PwnedWebsites#SterKinekor>SterKinekor</a>"
            ]
          },
          "metadata": {}
        },
        {
          "output_type": "stream",
          "name": "stdout",
          "text": [
            "{'Ster-Kinekor': (datetime.datetime(2017, 3, 9, 0, 0), '1,619,544')}\n",
            "\n"
          ]
        },
        {
          "output_type": "display_data",
          "data": {
            "text/plain": [
              "<IPython.core.display.HTML object>"
            ],
            "text/html": [
              "<a href=https://haveibeenpwned.com/PwnedWebsites#StockX>StockX</a>"
            ]
          },
          "metadata": {}
        },
        {
          "output_type": "stream",
          "name": "stdout",
          "text": [
            "{'StockX': (datetime.datetime(2019, 7, 26, 0, 0), '6,840,339')}\n",
            "\n"
          ]
        },
        {
          "output_type": "display_data",
          "data": {
            "text/plain": [
              "<IPython.core.display.HTML object>"
            ],
            "text/html": [
              "<a href=https://haveibeenpwned.com/PwnedWebsites#StoryBird>StoryBird</a>"
            ]
          },
          "metadata": {}
        },
        {
          "output_type": "stream",
          "name": "stdout",
          "text": [
            "{'StoryBird': (datetime.datetime(2015, 8, 7, 0, 0), '1,047,200')}\n",
            "\n"
          ]
        },
        {
          "output_type": "display_data",
          "data": {
            "text/plain": [
              "<IPython.core.display.HTML object>"
            ],
            "text/html": [
              "<a href=https://haveibeenpwned.com/PwnedWebsites#Straffic>Straffic</a>"
            ]
          },
          "metadata": {}
        },
        {
          "output_type": "stream",
          "name": "stdout",
          "text": [
            "{'Straffic': (datetime.datetime(2020, 2, 14, 0, 0), '48,580,249')}\n",
            "\n"
          ]
        },
        {
          "output_type": "display_data",
          "data": {
            "text/plain": [
              "<IPython.core.display.HTML object>"
            ],
            "text/html": [
              "<a href=https://haveibeenpwned.com/PwnedWebsites#Stratfor>Stratfor</a>"
            ]
          },
          "metadata": {}
        },
        {
          "output_type": "stream",
          "name": "stdout",
          "text": [
            "{'Stratfor': (datetime.datetime(2011, 12, 24, 0, 0), '859,777')}\n",
            "\n"
          ]
        },
        {
          "output_type": "display_data",
          "data": {
            "text/plain": [
              "<IPython.core.display.HTML object>"
            ],
            "text/html": [
              "<a href=https://haveibeenpwned.com/PwnedWebsites#StreetEasy>StreetEasy</a>"
            ]
          },
          "metadata": {}
        },
        {
          "output_type": "stream",
          "name": "stdout",
          "text": [
            "{'StreetEasy': (datetime.datetime(2016, 6, 28, 0, 0), '988,230')}\n",
            "\n"
          ]
        },
        {
          "output_type": "display_data",
          "data": {
            "text/plain": [
              "<IPython.core.display.HTML object>"
            ],
            "text/html": [
              "<a href=https://haveibeenpwned.com/PwnedWebsites#Stripchat>Stripchat</a>"
            ]
          },
          "metadata": {}
        },
        {
          "output_type": "stream",
          "name": "stdout",
          "text": [
            "{'Stripchat': (datetime.datetime(2021, 11, 5, 0, 0), '10,001,355')}\n",
            "\n"
          ]
        },
        {
          "output_type": "display_data",
          "data": {
            "text/plain": [
              "<IPython.core.display.HTML object>"
            ],
            "text/html": [
              "<a href=https://haveibeenpwned.com/PwnedWebsites#StrongholdKingdoms>StrongholdKingdoms</a>"
            ]
          },
          "metadata": {}
        },
        {
          "output_type": "stream",
          "name": "stdout",
          "text": [
            "{'Stronghold Kingdoms': (datetime.datetime(2018, 7, 4, 0, 0), '5,187,305')}\n",
            "\n"
          ]
        },
        {
          "output_type": "display_data",
          "data": {
            "text/plain": [
              "<IPython.core.display.HTML object>"
            ],
            "text/html": [
              "<a href=https://haveibeenpwned.com/PwnedWebsites#SubaGames>SubaGames</a>"
            ]
          },
          "metadata": {}
        },
        {
          "output_type": "stream",
          "name": "stdout",
          "text": [
            "{'SubaGames': (datetime.datetime(2016, 11, 1, 0, 0), '6,137,666')}\n",
            "\n"
          ]
        },
        {
          "output_type": "display_data",
          "data": {
            "text/plain": [
              "<IPython.core.display.HTML object>"
            ],
            "text/html": [
              "<a href=https://haveibeenpwned.com/PwnedWebsites#SumoTorrent>SumoTorrent</a>"
            ]
          },
          "metadata": {}
        },
        {
          "output_type": "stream",
          "name": "stdout",
          "text": [
            "{'Sumo Torrent': (datetime.datetime(2014, 6, 21, 0, 0), '285,191')}\n",
            "\n"
          ]
        },
        {
          "output_type": "display_data",
          "data": {
            "text/plain": [
              "<IPython.core.display.HTML object>"
            ],
            "text/html": [
              "<a href=https://haveibeenpwned.com/PwnedWebsites#SuperVPNGeckoVPN>SuperVPNGeckoVPN</a>"
            ]
          },
          "metadata": {}
        },
        {
          "output_type": "stream",
          "name": "stdout",
          "text": [
            "{'SuperVPN & GeckoVPN': (datetime.datetime(2021, 2, 25, 0, 0), '20,339,937')}\n",
            "\n"
          ]
        },
        {
          "output_type": "display_data",
          "data": {
            "text/plain": [
              "<IPython.core.display.HTML object>"
            ],
            "text/html": [
              "<a href=https://haveibeenpwned.com/PwnedWebsites#SvenskaMagic>SvenskaMagic</a>"
            ]
          },
          "metadata": {}
        },
        {
          "output_type": "stream",
          "name": "stdout",
          "text": [
            "{'SvenskaMagic': (datetime.datetime(2015, 7, 1, 0, 0), '30,327')}\n",
            "\n"
          ]
        },
        {
          "output_type": "display_data",
          "data": {
            "text/plain": [
              "<IPython.core.display.HTML object>"
            ],
            "text/html": [
              "<a href=https://haveibeenpwned.com/PwnedWebsites#SweClockers>SweClockers</a>"
            ]
          },
          "metadata": {}
        },
        {
          "output_type": "stream",
          "name": "stdout",
          "text": [
            "{'SweClockers.com': (datetime.datetime(2015, 4, 1, 0, 0), '254,867')}\n",
            "\n"
          ]
        },
        {
          "output_type": "display_data",
          "data": {
            "text/plain": [
              "<IPython.core.display.HTML object>"
            ],
            "text/html": [
              "<a href=https://haveibeenpwned.com/PwnedWebsites#Swvl>Swvl</a>"
            ]
          },
          "metadata": {}
        },
        {
          "output_type": "stream",
          "name": "stdout",
          "text": [
            "{'Swvl': (datetime.datetime(2020, 6, 23, 0, 0), '4,195,918')}\n",
            "\n"
          ]
        },
        {
          "output_type": "display_data",
          "data": {
            "text/plain": [
              "<IPython.core.display.HTML object>"
            ],
            "text/html": [
              "<a href=https://haveibeenpwned.com/PwnedWebsites#TaiLieu>TaiLieu</a>"
            ]
          },
          "metadata": {}
        },
        {
          "output_type": "stream",
          "name": "stdout",
          "text": [
            "{'TaiLieu': (datetime.datetime(2019, 11, 24, 0, 0), '7,327,477')}\n",
            "\n"
          ]
        },
        {
          "output_type": "display_data",
          "data": {
            "text/plain": [
              "<IPython.core.display.HTML object>"
            ],
            "text/html": [
              "<a href=https://haveibeenpwned.com/PwnedWebsites#Tamodo>Tamodo</a>"
            ]
          },
          "metadata": {}
        },
        {
          "output_type": "stream",
          "name": "stdout",
          "text": [
            "{'Tamodo': (datetime.datetime(2020, 2, 28, 0, 0), '494,945')}\n",
            "\n"
          ]
        },
        {
          "output_type": "display_data",
          "data": {
            "text/plain": [
              "<IPython.core.display.HTML object>"
            ],
            "text/html": [
              "<a href=https://haveibeenpwned.com/PwnedWebsites#Taobao>Taobao</a>"
            ]
          },
          "metadata": {}
        },
        {
          "output_type": "stream",
          "name": "stdout",
          "text": [
            "{'Taobao': (datetime.datetime(2012, 1, 1, 0, 0), '21,149,008')}\n",
            "\n"
          ]
        },
        {
          "output_type": "display_data",
          "data": {
            "text/plain": [
              "<IPython.core.display.HTML object>"
            ],
            "text/html": [
              "<a href=https://haveibeenpwned.com/PwnedWebsites#TAPAirPortugal>TAPAirPortugal</a>"
            ]
          },
          "metadata": {}
        },
        {
          "output_type": "stream",
          "name": "stdout",
          "text": [
            "{'TAP Air Portugal': (datetime.datetime(2022, 8, 25, 0, 0), '6,083,479')}\n",
            "\n"
          ]
        },
        {
          "output_type": "display_data",
          "data": {
            "text/plain": [
              "<IPython.core.display.HTML object>"
            ],
            "text/html": [
              "<a href=https://haveibeenpwned.com/PwnedWebsites#Taringa>Taringa</a>"
            ]
          },
          "metadata": {}
        },
        {
          "output_type": "stream",
          "name": "stdout",
          "text": [
            "{'Taringa': (datetime.datetime(2017, 8, 1, 0, 0), '27,971,100')}\n",
            "\n"
          ]
        },
        {
          "output_type": "display_data",
          "data": {
            "text/plain": [
              "<IPython.core.display.HTML object>"
            ],
            "text/html": [
              "<a href=https://haveibeenpwned.com/PwnedWebsites#Solomid>Solomid</a>"
            ]
          },
          "metadata": {}
        },
        {
          "output_type": "stream",
          "name": "stdout",
          "text": [
            "{'Team SoloMid': (datetime.datetime(2014, 12, 22, 0, 0), '442,166')}\n",
            "\n"
          ]
        },
        {
          "output_type": "display_data",
          "data": {
            "text/plain": [
              "<IPython.core.display.HTML object>"
            ],
            "text/html": [
              "<a href=https://haveibeenpwned.com/PwnedWebsites#Technic>Technic</a>"
            ]
          },
          "metadata": {}
        },
        {
          "output_type": "stream",
          "name": "stdout",
          "text": [
            "{'Technic': (datetime.datetime(2018, 11, 30, 0, 0), '265,410')}\n",
            "\n"
          ]
        },
        {
          "output_type": "display_data",
          "data": {
            "text/plain": [
              "<IPython.core.display.HTML object>"
            ],
            "text/html": [
              "<a href=https://haveibeenpwned.com/PwnedWebsites#Teespring>Teespring</a>"
            ]
          },
          "metadata": {}
        },
        {
          "output_type": "stream",
          "name": "stdout",
          "text": [
            "{'Teespring': (datetime.datetime(2020, 4, 1, 0, 0), '8,234,193')}\n",
            "\n"
          ]
        },
        {
          "output_type": "display_data",
          "data": {
            "text/plain": [
              "<IPython.core.display.HTML object>"
            ],
            "text/html": [
              "<a href=https://haveibeenpwned.com/PwnedWebsites#TRAI>TRAI</a>"
            ]
          },
          "metadata": {}
        },
        {
          "output_type": "stream",
          "name": "stdout",
          "text": [
            "{'Telecom Regulatory Authority of India': (datetime.datetime(2015, 4, 27, 0, 0), '107,776')}\n",
            "\n"
          ]
        },
        {
          "output_type": "display_data",
          "data": {
            "text/plain": [
              "<IPython.core.display.HTML object>"
            ],
            "text/html": [
              "<a href=https://haveibeenpwned.com/PwnedWebsites#Teracod>Teracod</a>"
            ]
          },
          "metadata": {}
        },
        {
          "output_type": "stream",
          "name": "stdout",
          "text": [
            "{'Teracod': (datetime.datetime(2016, 5, 28, 0, 0), '97,151')}\n",
            "\n"
          ]
        },
        {
          "output_type": "display_data",
          "data": {
            "text/plain": [
              "<IPython.core.display.HTML object>"
            ],
            "text/html": [
              "<a href=https://haveibeenpwned.com/PwnedWebsites#Tesco>Tesco</a>"
            ]
          },
          "metadata": {}
        },
        {
          "output_type": "stream",
          "name": "stdout",
          "text": [
            "{'Tesco': (datetime.datetime(2014, 2, 12, 0, 0), '2,239')}\n",
            "\n"
          ]
        },
        {
          "output_type": "display_data",
          "data": {
            "text/plain": [
              "<IPython.core.display.HTML object>"
            ],
            "text/html": [
              "<a href=https://haveibeenpwned.com/PwnedWebsites#TGBUS>TGBUS</a>"
            ]
          },
          "metadata": {}
        },
        {
          "output_type": "stream",
          "name": "stdout",
          "text": [
            "{'TGBUS': (datetime.datetime(2017, 9, 1, 0, 0), '10,371,766')}\n",
            "\n"
          ]
        },
        {
          "output_type": "display_data",
          "data": {
            "text/plain": [
              "<IPython.core.display.HTML object>"
            ],
            "text/html": [
              "<a href=https://haveibeenpwned.com/PwnedWebsites#TheCandidBoard>TheCandidBoard</a>"
            ]
          },
          "metadata": {}
        },
        {
          "output_type": "stream",
          "name": "stdout",
          "text": [
            "{'The Candid Board': (datetime.datetime(2015, 9, 3, 0, 0), '178,201')}\n",
            "\n"
          ]
        },
        {
          "output_type": "display_data",
          "data": {
            "text/plain": [
              "<IPython.core.display.HTML object>"
            ],
            "text/html": [
              "<a href=https://haveibeenpwned.com/PwnedWebsites#TheFappening>TheFappening</a>"
            ]
          },
          "metadata": {}
        },
        {
          "output_type": "stream",
          "name": "stdout",
          "text": [
            "{'The Fappening': (datetime.datetime(2015, 12, 1, 0, 0), '179,030')}\n",
            "\n"
          ]
        },
        {
          "output_type": "display_data",
          "data": {
            "text/plain": [
              "<IPython.core.display.HTML object>"
            ],
            "text/html": [
              "<a href=https://haveibeenpwned.com/PwnedWebsites#TheFlyOnTheWall>TheFlyOnTheWall</a>"
            ]
          },
          "metadata": {}
        },
        {
          "output_type": "stream",
          "name": "stdout",
          "text": [
            "{'The Fly on the Wall': (datetime.datetime(2017, 12, 31, 0, 0), '84,011')}\n",
            "\n"
          ]
        },
        {
          "output_type": "display_data",
          "data": {
            "text/plain": [
              "<IPython.core.display.HTML object>"
            ],
            "text/html": [
              "<a href=https://haveibeenpwned.com/PwnedWebsites#HalloweenSpot>HalloweenSpot</a>"
            ]
          },
          "metadata": {}
        },
        {
          "output_type": "stream",
          "name": "stdout",
          "text": [
            "{'The Halloween Spot': (datetime.datetime(2019, 9, 27, 0, 0), '10,653')}\n",
            "\n"
          ]
        },
        {
          "output_type": "display_data",
          "data": {
            "text/plain": [
              "<IPython.core.display.HTML object>"
            ],
            "text/html": [
              "<a href=https://haveibeenpwned.com/PwnedWebsites#TheTVDB>TheTVDB</a>"
            ]
          },
          "metadata": {}
        },
        {
          "output_type": "stream",
          "name": "stdout",
          "text": [
            "{'TheTVDB.com': (datetime.datetime(2017, 11, 21, 0, 0), '181,871')}\n",
            "\n"
          ]
        },
        {
          "output_type": "display_data",
          "data": {
            "text/plain": [
              "<IPython.core.display.HTML object>"
            ],
            "text/html": [
              "<a href=https://haveibeenpwned.com/PwnedWebsites#Thingiverse>Thingiverse</a>"
            ]
          },
          "metadata": {}
        },
        {
          "output_type": "stream",
          "name": "stdout",
          "text": [
            "{'Thingiverse': (datetime.datetime(2020, 10, 13, 0, 0), '228,102')}\n",
            "\n"
          ]
        },
        {
          "output_type": "display_data",
          "data": {
            "text/plain": [
              "<IPython.core.display.HTML object>"
            ],
            "text/html": [
              "<a href=https://haveibeenpwned.com/PwnedWebsites#ThisHabboForum>ThisHabboForum</a>"
            ]
          },
          "metadata": {}
        },
        {
          "output_type": "stream",
          "name": "stdout",
          "text": [
            "{'ThisHabbo Forum': (datetime.datetime(2014, 1, 1, 0, 0), '612,414')}\n",
            "\n"
          ]
        },
        {
          "output_type": "display_data",
          "data": {
            "text/plain": [
              "<IPython.core.display.HTML object>"
            ],
            "text/html": [
              "<a href=https://haveibeenpwned.com/PwnedWebsites#Tianya>Tianya</a>"
            ]
          },
          "metadata": {}
        },
        {
          "output_type": "stream",
          "name": "stdout",
          "text": [
            "{'Tianya': (datetime.datetime(2011, 12, 26, 0, 0), '29,020,808')}\n",
            "\n"
          ]
        },
        {
          "output_type": "display_data",
          "data": {
            "text/plain": [
              "<IPython.core.display.HTML object>"
            ],
            "text/html": [
              "<a href=https://haveibeenpwned.com/PwnedWebsites#Ticketcounter>Ticketcounter</a>"
            ]
          },
          "metadata": {}
        },
        {
          "output_type": "stream",
          "name": "stdout",
          "text": [
            "{'Ticketcounter': (datetime.datetime(2021, 2, 22, 0, 0), '1,921,722')}\n",
            "\n"
          ]
        },
        {
          "output_type": "display_data",
          "data": {
            "text/plain": [
              "<IPython.core.display.HTML object>"
            ],
            "text/html": [
              "<a href=https://haveibeenpwned.com/PwnedWebsites#Ticketfly>Ticketfly</a>"
            ]
          },
          "metadata": {}
        },
        {
          "output_type": "stream",
          "name": "stdout",
          "text": [
            "{'Ticketfly': (datetime.datetime(2018, 5, 31, 0, 0), '26,151,608')}\n",
            "\n"
          ]
        },
        {
          "output_type": "display_data",
          "data": {
            "text/plain": [
              "<IPython.core.display.HTML object>"
            ],
            "text/html": [
              "<a href=https://haveibeenpwned.com/PwnedWebsites#Tokopedia>Tokopedia</a>"
            ]
          },
          "metadata": {}
        },
        {
          "output_type": "stream",
          "name": "stdout",
          "text": [
            "{'Tokopedia': (datetime.datetime(2020, 4, 17, 0, 0), '71,443,698')}\n",
            "\n"
          ]
        },
        {
          "output_type": "display_data",
          "data": {
            "text/plain": [
              "<IPython.core.display.HTML object>"
            ],
            "text/html": [
              "<a href=https://haveibeenpwned.com/PwnedWebsites#ToonDoo>ToonDoo</a>"
            ]
          },
          "metadata": {}
        },
        {
          "output_type": "stream",
          "name": "stdout",
          "text": [
            "{'ToonDoo': (datetime.datetime(2019, 8, 21, 0, 0), '6,002,694')}\n",
            "\n"
          ]
        },
        {
          "output_type": "display_data",
          "data": {
            "text/plain": [
              "<IPython.core.display.HTML object>"
            ],
            "text/html": [
              "<a href=https://haveibeenpwned.com/PwnedWebsites#TorrentInvites>TorrentInvites</a>"
            ]
          },
          "metadata": {}
        },
        {
          "output_type": "stream",
          "name": "stdout",
          "text": [
            "{'Torrent Invites': (datetime.datetime(2013, 12, 12, 0, 0), '352,120')}\n",
            "\n"
          ]
        },
        {
          "output_type": "display_data",
          "data": {
            "text/plain": [
              "<IPython.core.display.HTML object>"
            ],
            "text/html": [
              "<a href=https://haveibeenpwned.com/PwnedWebsites#Tout>Tout</a>"
            ]
          },
          "metadata": {}
        },
        {
          "output_type": "stream",
          "name": "stdout",
          "text": [
            "{'Tout': (datetime.datetime(2014, 9, 11, 0, 0), '652,683')}\n",
            "\n"
          ]
        },
        {
          "output_type": "display_data",
          "data": {
            "text/plain": [
              "<IPython.core.display.HTML object>"
            ],
            "text/html": [
              "<a href=https://haveibeenpwned.com/PwnedWebsites#TravelOK>TravelOK</a>"
            ]
          },
          "metadata": {}
        },
        {
          "output_type": "stream",
          "name": "stdout",
          "text": [
            "{'Travel Oklahoma': (datetime.datetime(2020, 12, 17, 0, 0), '637,279')}\n",
            "\n"
          ]
        },
        {
          "output_type": "display_data",
          "data": {
            "text/plain": [
              "<IPython.core.display.HTML object>"
            ],
            "text/html": [
              "<a href=https://haveibeenpwned.com/PwnedWebsites#Travelio>Travelio</a>"
            ]
          },
          "metadata": {}
        },
        {
          "output_type": "stream",
          "name": "stdout",
          "text": [
            "{'Travelio': (datetime.datetime(2021, 11, 23, 0, 0), '471,376')}\n",
            "\n"
          ]
        },
        {
          "output_type": "display_data",
          "data": {
            "text/plain": [
              "<IPython.core.display.HTML object>"
            ],
            "text/html": [
              "<a href=https://haveibeenpwned.com/PwnedWebsites#TrikSpamBotnet>TrikSpamBotnet</a>"
            ]
          },
          "metadata": {}
        },
        {
          "output_type": "stream",
          "name": "stdout",
          "text": [
            "{'Trik Spam Botnet': (datetime.datetime(2018, 6, 12, 0, 0), '43,432,346')}\n",
            "\n"
          ]
        },
        {
          "output_type": "display_data",
          "data": {
            "text/plain": [
              "<IPython.core.display.HTML object>"
            ],
            "text/html": [
              "<a href=https://haveibeenpwned.com/PwnedWebsites#Trillian>Trillian</a>"
            ]
          },
          "metadata": {}
        },
        {
          "output_type": "stream",
          "name": "stdout",
          "text": [
            "{'Trillian': (datetime.datetime(2015, 12, 27, 0, 0), '3,827,238')}\n",
            "\n"
          ]
        },
        {
          "output_type": "display_data",
          "data": {
            "text/plain": [
              "<IPython.core.display.HTML object>"
            ],
            "text/html": [
              "<a href=https://haveibeenpwned.com/PwnedWebsites#TruckersMP>TruckersMP</a>"
            ]
          },
          "metadata": {}
        },
        {
          "output_type": "stream",
          "name": "stdout",
          "text": [
            "{'TruckersMP': (datetime.datetime(2016, 2, 25, 0, 0), '83,957')}\n",
            "\n"
          ]
        },
        {
          "output_type": "display_data",
          "data": {
            "text/plain": [
              "<IPython.core.display.HTML object>"
            ],
            "text/html": [
              "<a href=https://haveibeenpwned.com/PwnedWebsites#TrueFire>TrueFire</a>"
            ]
          },
          "metadata": {}
        },
        {
          "output_type": "stream",
          "name": "stdout",
          "text": [
            "{'TrueFire': (datetime.datetime(2020, 2, 21, 0, 0), '599,667')}\n",
            "\n"
          ]
        },
        {
          "output_type": "display_data",
          "data": {
            "text/plain": [
              "<IPython.core.display.HTML object>"
            ],
            "text/html": [
              "<a href=https://haveibeenpwned.com/PwnedWebsites#TruthFinder>TruthFinder</a>"
            ]
          },
          "metadata": {}
        },
        {
          "output_type": "stream",
          "name": "stdout",
          "text": [
            "{'Truth Finder': (datetime.datetime(2019, 4, 12, 0, 0), '8,159,573')}\n",
            "\n"
          ]
        },
        {
          "output_type": "display_data",
          "data": {
            "text/plain": [
              "<IPython.core.display.HTML object>"
            ],
            "text/html": [
              "<a href=https://haveibeenpwned.com/PwnedWebsites#Tumblr>Tumblr</a>"
            ]
          },
          "metadata": {}
        },
        {
          "output_type": "stream",
          "name": "stdout",
          "text": [
            "{'tumblr': (datetime.datetime(2013, 2, 28, 0, 0), '65,469,298')}\n",
            "\n"
          ]
        },
        {
          "output_type": "display_data",
          "data": {
            "text/plain": [
              "<IPython.core.display.HTML object>"
            ],
            "text/html": [
              "<a href=https://haveibeenpwned.com/PwnedWebsites#TunedGlobal>TunedGlobal</a>"
            ]
          },
          "metadata": {}
        },
        {
          "output_type": "stream",
          "name": "stdout",
          "text": [
            "{'Tuned Global': (datetime.datetime(2016, 3, 16, 0, 0), '985,586')}\n",
            "\n"
          ]
        },
        {
          "output_type": "display_data",
          "data": {
            "text/plain": [
              "<IPython.core.display.HTML object>"
            ],
            "text/html": [
              "<a href=https://haveibeenpwned.com/PwnedWebsites#Twitter>Twitter</a>"
            ]
          },
          "metadata": {}
        },
        {
          "output_type": "stream",
          "name": "stdout",
          "text": [
            "{'Twitter': (datetime.datetime(2022, 1, 1, 0, 0), '6,682,453')}\n",
            "\n"
          ]
        },
        {
          "output_type": "display_data",
          "data": {
            "text/plain": [
              "<IPython.core.display.HTML object>"
            ],
            "text/html": [
              "<a href=https://haveibeenpwned.com/PwnedWebsites#Twitter200M>Twitter200M</a>"
            ]
          },
          "metadata": {}
        },
        {
          "output_type": "stream",
          "name": "stdout",
          "text": [
            "{'Twitter (200M)': (datetime.datetime(2021, 1, 1, 0, 0), '211,524,284')}\n",
            "\n"
          ]
        },
        {
          "output_type": "display_data",
          "data": {
            "text/plain": [
              "<IPython.core.display.HTML object>"
            ],
            "text/html": [
              "<a href=https://haveibeenpwned.com/PwnedWebsites#Uiggy>Uiggy</a>"
            ]
          },
          "metadata": {}
        },
        {
          "output_type": "stream",
          "name": "stdout",
          "text": [
            "{'Uiggy': (datetime.datetime(2016, 6, 1, 0, 0), '2,682,650')}\n",
            "\n"
          ]
        },
        {
          "output_type": "display_data",
          "data": {
            "text/plain": [
              "<IPython.core.display.HTML object>"
            ],
            "text/html": [
              "<a href=https://haveibeenpwned.com/PwnedWebsites#Ulmon>Ulmon</a>"
            ]
          },
          "metadata": {}
        },
        {
          "output_type": "stream",
          "name": "stdout",
          "text": [
            "{'Ulmon': (datetime.datetime(2020, 1, 26, 0, 0), '777,769')}\n",
            "\n"
          ]
        },
        {
          "output_type": "display_data",
          "data": {
            "text/plain": [
              "<IPython.core.display.HTML object>"
            ],
            "text/html": [
              "<a href=https://haveibeenpwned.com/PwnedWebsites#IGF>IGF</a>"
            ]
          },
          "metadata": {}
        },
        {
          "output_type": "stream",
          "name": "stdout",
          "text": [
            "{'UN Internet Governance Forum': (datetime.datetime(2014, 2, 20, 0, 0), '3,200')}\n",
            "\n"
          ]
        },
        {
          "output_type": "display_data",
          "data": {
            "text/plain": [
              "<IPython.core.display.HTML object>"
            ],
            "text/html": [
              "<a href=https://haveibeenpwned.com/PwnedWebsites#UnderworldEmpire>UnderworldEmpire</a>"
            ]
          },
          "metadata": {}
        },
        {
          "output_type": "stream",
          "name": "stdout",
          "text": [
            "{'Underworld Empire': (datetime.datetime(2017, 4, 25, 0, 0), '428,779')}\n",
            "\n"
          ]
        },
        {
          "output_type": "display_data",
          "data": {
            "text/plain": [
              "<IPython.core.display.HTML object>"
            ],
            "text/html": [
              "<a href=https://haveibeenpwned.com/PwnedWebsites#UnicoCampania>UnicoCampania</a>"
            ]
          },
          "metadata": {}
        },
        {
          "output_type": "stream",
          "name": "stdout",
          "text": [
            "{'Unico Campania': (datetime.datetime(2020, 8, 19, 0, 0), '166,031')}\n",
            "\n"
          ]
        },
        {
          "output_type": "display_data",
          "data": {
            "text/plain": [
              "<IPython.core.display.HTML object>"
            ],
            "text/html": [
              "<a href=https://haveibeenpwned.com/PwnedWebsites#Universarium>Universarium</a>"
            ]
          },
          "metadata": {}
        },
        {
          "output_type": "stream",
          "name": "stdout",
          "text": [
            "{'Universarium': (datetime.datetime(2019, 11, 1, 0, 0), '564,962')}\n",
            "\n"
          ]
        },
        {
          "output_type": "display_data",
          "data": {
            "text/plain": [
              "<IPython.core.display.HTML object>"
            ],
            "text/html": [
              "<a href=https://haveibeenpwned.com/PwnedWebsites#UC>UC</a>"
            ]
          },
          "metadata": {}
        },
        {
          "output_type": "stream",
          "name": "stdout",
          "text": [
            "{'University of California': (datetime.datetime(2020, 12, 24, 0, 0), '547,422')}\n",
            "\n"
          ]
        },
        {
          "output_type": "display_data",
          "data": {
            "text/plain": [
              "<IPython.core.display.HTML object>"
            ],
            "text/html": [
              "<a href=https://haveibeenpwned.com/PwnedWebsites#UnrealEngine>UnrealEngine</a>"
            ]
          },
          "metadata": {}
        },
        {
          "output_type": "stream",
          "name": "stdout",
          "text": [
            "{'Unreal Engine': (datetime.datetime(2016, 8, 11, 0, 0), '530,147')}\n",
            "\n"
          ]
        },
        {
          "output_type": "display_data",
          "data": {
            "text/plain": [
              "<IPython.core.display.HTML object>"
            ],
            "text/html": [
              "<a href=https://haveibeenpwned.com/PwnedWebsites#Astoria>Astoria</a>"
            ]
          },
          "metadata": {}
        },
        {
          "output_type": "stream",
          "name": "stdout",
          "text": [
            "{'Unverified Data Source': (datetime.datetime(2021, 1, 26, 0, 0), '11,498,146')}\n",
            "\n"
          ]
        },
        {
          "output_type": "display_data",
          "data": {
            "text/plain": [
              "<IPython.core.display.HTML object>"
            ],
            "text/html": [
              "<a href=https://haveibeenpwned.com/PwnedWebsites#Upstox>Upstox</a>"
            ]
          },
          "metadata": {}
        },
        {
          "output_type": "stream",
          "name": "stdout",
          "text": [
            "{'Upstox': (datetime.datetime(2021, 4, 8, 0, 0), '111,002')}\n",
            "\n"
          ]
        },
        {
          "output_type": "display_data",
          "data": {
            "text/plain": [
              "<IPython.core.display.HTML object>"
            ],
            "text/html": [
              "<a href=https://haveibeenpwned.com/PwnedWebsites#UtahGunExchange>UtahGunExchange</a>"
            ]
          },
          "metadata": {}
        },
        {
          "output_type": "stream",
          "name": "stdout",
          "text": [
            "{'Utah Gun Exchange': (datetime.datetime(2020, 7, 17, 0, 0), '235,233')}\n",
            "\n"
          ]
        },
        {
          "output_type": "display_data",
          "data": {
            "text/plain": [
              "<IPython.core.display.HTML object>"
            ],
            "text/html": [
              "<a href=https://haveibeenpwned.com/PwnedWebsites#uTorrent>uTorrent</a>"
            ]
          },
          "metadata": {}
        },
        {
          "output_type": "stream",
          "name": "stdout",
          "text": [
            "{'uTorrent': (datetime.datetime(2016, 1, 14, 0, 0), '395,044')}\n",
            "\n"
          ]
        },
        {
          "output_type": "display_data",
          "data": {
            "text/plain": [
              "<IPython.core.display.HTML object>"
            ],
            "text/html": [
              "<a href=https://haveibeenpwned.com/PwnedWebsites#uuu9>uuu9</a>"
            ]
          },
          "metadata": {}
        },
        {
          "output_type": "stream",
          "name": "stdout",
          "text": [
            "{'uuu9': (datetime.datetime(2016, 9, 6, 0, 0), '7,485,802')}\n",
            "\n"
          ]
        },
        {
          "output_type": "display_data",
          "data": {
            "text/plain": [
              "<IPython.core.display.HTML object>"
            ],
            "text/html": [
              "<a href=https://haveibeenpwned.com/PwnedWebsites#Vakinha>Vakinha</a>"
            ]
          },
          "metadata": {}
        },
        {
          "output_type": "stream",
          "name": "stdout",
          "text": [
            "{'Vakinha': (datetime.datetime(2020, 6, 22, 0, 0), '4,775,203')}\n",
            "\n"
          ]
        },
        {
          "output_type": "display_data",
          "data": {
            "text/plain": [
              "<IPython.core.display.HTML object>"
            ],
            "text/html": [
              "<a href=https://haveibeenpwned.com/PwnedWebsites#Vastaamo>Vastaamo</a>"
            ]
          },
          "metadata": {}
        },
        {
          "output_type": "stream",
          "name": "stdout",
          "text": [
            "{'Vastaamo': (datetime.datetime(2019, 3, 31, 0, 0), '30,433')}\n",
            "\n"
          ]
        },
        {
          "output_type": "display_data",
          "data": {
            "text/plain": [
              "<IPython.core.display.HTML object>"
            ],
            "text/html": [
              "<a href=https://haveibeenpwned.com/PwnedWebsites#VBulletin>VBulletin</a>"
            ]
          },
          "metadata": {}
        },
        {
          "output_type": "stream",
          "name": "stdout",
          "text": [
            "{'vBulletin': (datetime.datetime(2015, 11, 3, 0, 0), '518,966')}\n",
            "\n"
          ]
        },
        {
          "output_type": "display_data",
          "data": {
            "text/plain": [
              "<IPython.core.display.HTML object>"
            ],
            "text/html": [
              "<a href=https://haveibeenpwned.com/PwnedWebsites#Vedantu>Vedantu</a>"
            ]
          },
          "metadata": {}
        },
        {
          "output_type": "stream",
          "name": "stdout",
          "text": [
            "{'Vedantu': (datetime.datetime(2019, 7, 8, 0, 0), '686,899')}\n",
            "\n"
          ]
        },
        {
          "output_type": "display_data",
          "data": {
            "text/plain": [
              "<IPython.core.display.HTML object>"
            ],
            "text/html": [
              "<a href=https://haveibeenpwned.com/PwnedWebsites#VerificationsIO>VerificationsIO</a>"
            ]
          },
          "metadata": {}
        },
        {
          "output_type": "stream",
          "name": "stdout",
          "text": [
            "{'Verifications.io': (datetime.datetime(2019, 2, 25, 0, 0), '763,117,241')}\n",
            "\n"
          ]
        },
        {
          "output_type": "display_data",
          "data": {
            "text/plain": [
              "<IPython.core.display.HTML object>"
            ],
            "text/html": [
              "<a href=https://haveibeenpwned.com/PwnedWebsites#Verified>Verified</a>"
            ]
          },
          "metadata": {}
        },
        {
          "output_type": "stream",
          "name": "stdout",
          "text": [
            "{'Verified': (datetime.datetime(2014, 1, 10, 0, 0), '16,919')}\n",
            "\n"
          ]
        },
        {
          "output_type": "display_data",
          "data": {
            "text/plain": [
              "<IPython.core.display.HTML object>"
            ],
            "text/html": [
              "<a href=https://haveibeenpwned.com/PwnedWebsites#Vianet>Vianet</a>"
            ]
          },
          "metadata": {}
        },
        {
          "output_type": "stream",
          "name": "stdout",
          "text": [
            "{'Vianet': (datetime.datetime(2020, 4, 8, 0, 0), '94,353')}\n",
            "\n"
          ]
        },
        {
          "output_type": "display_data",
          "data": {
            "text/plain": [
              "<IPython.core.display.HTML object>"
            ],
            "text/html": [
              "<a href=https://haveibeenpwned.com/PwnedWebsites#VictoryPhones>VictoryPhones</a>"
            ]
          },
          "metadata": {}
        },
        {
          "output_type": "stream",
          "name": "stdout",
          "text": [
            "{'Victory Phones': (datetime.datetime(2017, 1, 1, 0, 0), '166,046')}\n",
            "\n"
          ]
        },
        {
          "output_type": "display_data",
          "data": {
            "text/plain": [
              "<IPython.core.display.HTML object>"
            ],
            "text/html": [
              "<a href=https://haveibeenpwned.com/PwnedWebsites#ViewFines>ViewFines</a>"
            ]
          },
          "metadata": {}
        },
        {
          "output_type": "stream",
          "name": "stdout",
          "text": [
            "{'ViewFines': (datetime.datetime(2018, 5, 7, 0, 0), '777,649')}\n",
            "\n"
          ]
        },
        {
          "output_type": "display_data",
          "data": {
            "text/plain": [
              "<IPython.core.display.HTML object>"
            ],
            "text/html": [
              "<a href=https://haveibeenpwned.com/PwnedWebsites#VK>VK</a>"
            ]
          },
          "metadata": {}
        },
        {
          "output_type": "stream",
          "name": "stdout",
          "text": [
            "{'VK': (datetime.datetime(2012, 1, 1, 0, 0), '93,338,602')}\n",
            "\n"
          ]
        },
        {
          "output_type": "display_data",
          "data": {
            "text/plain": [
              "<IPython.core.display.HTML object>"
            ],
            "text/html": [
              "<a href=https://haveibeenpwned.com/PwnedWebsites#VNG>VNG</a>"
            ]
          },
          "metadata": {}
        },
        {
          "output_type": "stream",
          "name": "stdout",
          "text": [
            "{'VNG': (datetime.datetime(2015, 5, 19, 0, 0), '24,853,850')}\n",
            "\n"
          ]
        },
        {
          "output_type": "display_data",
          "data": {
            "text/plain": [
              "<IPython.core.display.HTML object>"
            ],
            "text/html": [
              "<a href=https://haveibeenpwned.com/PwnedWebsites#Vodafone>Vodafone</a>"
            ]
          },
          "metadata": {}
        },
        {
          "output_type": "stream",
          "name": "stdout",
          "text": [
            "{'Vodafone': (datetime.datetime(2013, 11, 30, 0, 0), '56,021')}\n",
            "\n"
          ]
        },
        {
          "output_type": "display_data",
          "data": {
            "text/plain": [
              "<IPython.core.display.HTML object>"
            ],
            "text/html": [
              "<a href=https://haveibeenpwned.com/PwnedWebsites#VoidTO>VoidTO</a>"
            ]
          },
          "metadata": {}
        },
        {
          "output_type": "stream",
          "name": "stdout",
          "text": [
            "{'Void.to': (datetime.datetime(2019, 6, 13, 0, 0), '95,431')}\n",
            "\n"
          ]
        },
        {
          "output_type": "display_data",
          "data": {
            "text/plain": [
              "<IPython.core.display.HTML object>"
            ],
            "text/html": [
              "<a href=https://haveibeenpwned.com/PwnedWebsites#VTech>VTech</a>"
            ]
          },
          "metadata": {}
        },
        {
          "output_type": "stream",
          "name": "stdout",
          "text": [
            "{'VTech': (datetime.datetime(2015, 11, 13, 0, 0), '4,833,678')}\n",
            "\n"
          ]
        },
        {
          "output_type": "display_data",
          "data": {
            "text/plain": [
              "<IPython.core.display.HTML object>"
            ],
            "text/html": [
              "<a href=https://haveibeenpwned.com/PwnedWebsites#VTightGel>VTightGel</a>"
            ]
          },
          "metadata": {}
        },
        {
          "output_type": "stream",
          "name": "stdout",
          "text": [
            "{'V-Tight Gel': (datetime.datetime(2016, 2, 13, 0, 0), '2,013,164')}\n",
            "\n"
          ]
        },
        {
          "output_type": "display_data",
          "data": {
            "text/plain": [
              "<IPython.core.display.HTML object>"
            ],
            "text/html": [
              "<a href=https://haveibeenpwned.com/PwnedWebsites#Wakanim>Wakanim</a>"
            ]
          },
          "metadata": {}
        },
        {
          "output_type": "stream",
          "name": "stdout",
          "text": [
            "{'Wakanim': (datetime.datetime(2022, 8, 28, 0, 0), '6,706,951')}\n",
            "\n"
          ]
        },
        {
          "output_type": "display_data",
          "data": {
            "text/plain": [
              "<IPython.core.display.HTML object>"
            ],
            "text/html": [
              "<a href=https://haveibeenpwned.com/PwnedWebsites#Wanelo>Wanelo</a>"
            ]
          },
          "metadata": {}
        },
        {
          "output_type": "stream",
          "name": "stdout",
          "text": [
            "{'Wanelo': (datetime.datetime(2018, 12, 13, 0, 0), '23,165,793')}\n",
            "\n"
          ]
        },
        {
          "output_type": "display_data",
          "data": {
            "text/plain": [
              "<IPython.core.display.HTML object>"
            ],
            "text/html": [
              "<a href=https://haveibeenpwned.com/PwnedWebsites#WarInc>WarInc</a>"
            ]
          },
          "metadata": {}
        },
        {
          "output_type": "stream",
          "name": "stdout",
          "text": [
            "{'War Inc.': (datetime.datetime(2012, 7, 4, 0, 0), '1,020,136')}\n",
            "\n"
          ]
        },
        {
          "output_type": "display_data",
          "data": {
            "text/plain": [
              "<IPython.core.display.HTML object>"
            ],
            "text/html": [
              "<a href=https://haveibeenpwned.com/PwnedWebsites#Warframe>Warframe</a>"
            ]
          },
          "metadata": {}
        },
        {
          "output_type": "stream",
          "name": "stdout",
          "text": [
            "{'Warframe': (datetime.datetime(2014, 11, 24, 0, 0), '819,478')}\n",
            "\n"
          ]
        },
        {
          "output_type": "display_data",
          "data": {
            "text/plain": [
              "<IPython.core.display.HTML object>"
            ],
            "text/html": [
              "<a href=https://haveibeenpwned.com/PwnedWebsites#Warmane>Warmane</a>"
            ]
          },
          "metadata": {}
        },
        {
          "output_type": "stream",
          "name": "stdout",
          "text": [
            "{'Warmane': (datetime.datetime(2016, 12, 1, 0, 0), '1,116,256')}\n",
            "\n"
          ]
        },
        {
          "output_type": "display_data",
          "data": {
            "text/plain": [
              "<IPython.core.display.HTML object>"
            ],
            "text/html": [
              "<a href=https://haveibeenpwned.com/PwnedWebsites#Wattpad>Wattpad</a>"
            ]
          },
          "metadata": {}
        },
        {
          "output_type": "stream",
          "name": "stdout",
          "text": [
            "{'Wattpad': (datetime.datetime(2020, 6, 29, 0, 0), '268,765,495')}\n",
            "\n"
          ]
        },
        {
          "output_type": "display_data",
          "data": {
            "text/plain": [
              "<IPython.core.display.HTML object>"
            ],
            "text/html": [
              "<a href=https://haveibeenpwned.com/PwnedWebsites#WeHeartIt>WeHeartIt</a>"
            ]
          },
          "metadata": {}
        },
        {
          "output_type": "stream",
          "name": "stdout",
          "text": [
            "{'We Heart It': (datetime.datetime(2013, 11, 3, 0, 0), '8,600,635')}\n",
            "\n"
          ]
        },
        {
          "output_type": "display_data",
          "data": {
            "text/plain": [
              "<IPython.core.display.HTML object>"
            ],
            "text/html": [
              "<a href=https://haveibeenpwned.com/PwnedWebsites#WedMeGood>WedMeGood</a>"
            ]
          },
          "metadata": {}
        },
        {
          "output_type": "stream",
          "name": "stdout",
          "text": [
            "{'WedMeGood': (datetime.datetime(2021, 1, 6, 0, 0), '1,306,723')}\n",
            "\n"
          ]
        },
        {
          "output_type": "display_data",
          "data": {
            "text/plain": [
              "<IPython.core.display.HTML object>"
            ],
            "text/html": [
              "<a href=https://haveibeenpwned.com/PwnedWebsites#Weee>Weee</a>"
            ]
          },
          "metadata": {}
        },
        {
          "output_type": "stream",
          "name": "stdout",
          "text": [
            "{'Weee': (datetime.datetime(2022, 7, 11, 0, 0), '1,117,405')}\n",
            "\n"
          ]
        },
        {
          "output_type": "display_data",
          "data": {
            "text/plain": [
              "<IPython.core.display.HTML object>"
            ],
            "text/html": [
              "<a href=https://haveibeenpwned.com/PwnedWebsites#WeLeakInfo>WeLeakInfo</a>"
            ]
          },
          "metadata": {}
        },
        {
          "output_type": "stream",
          "name": "stdout",
          "text": [
            "{'WeLeakInfo': (datetime.datetime(2021, 3, 8, 0, 0), '11,788')}\n",
            "\n"
          ]
        },
        {
          "output_type": "display_data",
          "data": {
            "text/plain": [
              "<IPython.core.display.HTML object>"
            ],
            "text/html": [
              "<a href=https://haveibeenpwned.com/PwnedWebsites#Wendys>Wendys</a>"
            ]
          },
          "metadata": {}
        },
        {
          "output_type": "stream",
          "name": "stdout",
          "text": [
            "{\"Wendy's\": (datetime.datetime(2018, 3, 31, 0, 0), '52,485')}\n",
            "\n"
          ]
        },
        {
          "output_type": "display_data",
          "data": {
            "text/plain": [
              "<IPython.core.display.HTML object>"
            ],
            "text/html": [
              "<a href=https://haveibeenpwned.com/PwnedWebsites#Whitepages>Whitepages</a>"
            ]
          },
          "metadata": {}
        },
        {
          "output_type": "stream",
          "name": "stdout",
          "text": [
            "{'Whitepages': (datetime.datetime(2016, 6, 27, 0, 0), '11,657,763')}\n",
            "\n"
          ]
        },
        {
          "output_type": "display_data",
          "data": {
            "text/plain": [
              "<IPython.core.display.HTML object>"
            ],
            "text/html": [
              "<a href=https://haveibeenpwned.com/PwnedWebsites#WHMCS>WHMCS</a>"
            ]
          },
          "metadata": {}
        },
        {
          "output_type": "stream",
          "name": "stdout",
          "text": [
            "{'WHMCS': (datetime.datetime(2012, 5, 21, 0, 0), '134,047')}\n",
            "\n"
          ]
        },
        {
          "output_type": "display_data",
          "data": {
            "text/plain": [
              "<IPython.core.display.HTML object>"
            ],
            "text/html": [
              "<a href=https://haveibeenpwned.com/PwnedWebsites#WienerBuchereien>WienerBuchereien</a>"
            ]
          },
          "metadata": {}
        },
        {
          "output_type": "stream",
          "name": "stdout",
          "text": [
            "{'Wiener Büchereien': (datetime.datetime(2019, 6, 10, 0, 0), '224,119')}\n",
            "\n"
          ]
        },
        {
          "output_type": "display_data",
          "data": {
            "text/plain": [
              "<IPython.core.display.HTML object>"
            ],
            "text/html": [
              "<a href=https://haveibeenpwned.com/PwnedWebsites#WifeLovers>WifeLovers</a>"
            ]
          },
          "metadata": {}
        },
        {
          "output_type": "stream",
          "name": "stdout",
          "text": [
            "{'Wife Lovers': (datetime.datetime(2018, 10, 7, 0, 0), '1,274,051')}\n",
            "\n"
          ]
        },
        {
          "output_type": "display_data",
          "data": {
            "text/plain": [
              "<IPython.core.display.HTML object>"
            ],
            "text/html": [
              "<a href=https://haveibeenpwned.com/PwnedWebsites#WIIUISO>WIIUISO</a>"
            ]
          },
          "metadata": {}
        },
        {
          "output_type": "stream",
          "name": "stdout",
          "text": [
            "{'WIIU ISO': (datetime.datetime(2015, 9, 25, 0, 0), '458,155')}\n",
            "\n"
          ]
        },
        {
          "output_type": "display_data",
          "data": {
            "text/plain": [
              "<IPython.core.display.HTML object>"
            ],
            "text/html": [
              "<a href=https://haveibeenpwned.com/PwnedWebsites#WildStar>WildStar</a>"
            ]
          },
          "metadata": {}
        },
        {
          "output_type": "stream",
          "name": "stdout",
          "text": [
            "{'WildStar': (datetime.datetime(2015, 7, 11, 0, 0), '738,556')}\n",
            "\n"
          ]
        },
        {
          "output_type": "display_data",
          "data": {
            "text/plain": [
              "<IPython.core.display.HTML object>"
            ],
            "text/html": [
              "<a href=https://haveibeenpwned.com/PwnedWebsites#Win7Vista>Win7Vista</a>"
            ]
          },
          "metadata": {}
        },
        {
          "output_type": "stream",
          "name": "stdout",
          "text": [
            "{'Win7Vista Forum': (datetime.datetime(2013, 9, 3, 0, 0), '202,683')}\n",
            "\n"
          ]
        },
        {
          "output_type": "display_data",
          "data": {
            "text/plain": [
              "<IPython.core.display.HTML object>"
            ],
            "text/html": [
              "<a href=https://haveibeenpwned.com/PwnedWebsites#Wishbone>Wishbone</a>"
            ]
          },
          "metadata": {}
        },
        {
          "output_type": "stream",
          "name": "stdout",
          "text": [
            "{'Wishbone (2016)': (datetime.datetime(2016, 8, 7, 0, 0), '2,247,314')}\n",
            "\n"
          ]
        },
        {
          "output_type": "display_data",
          "data": {
            "text/plain": [
              "<IPython.core.display.HTML object>"
            ],
            "text/html": [
              "<a href=https://haveibeenpwned.com/PwnedWebsites#Wishbone2020>Wishbone2020</a>"
            ]
          },
          "metadata": {}
        },
        {
          "output_type": "stream",
          "name": "stdout",
          "text": [
            "{'Wishbone (2020)': (datetime.datetime(2020, 1, 27, 0, 0), '9,705,172')}\n",
            "\n"
          ]
        },
        {
          "output_type": "display_data",
          "data": {
            "text/plain": [
              "<IPython.core.display.HTML object>"
            ],
            "text/html": [
              "<a href=https://haveibeenpwned.com/PwnedWebsites#WiziShop>WiziShop</a>"
            ]
          },
          "metadata": {}
        },
        {
          "output_type": "stream",
          "name": "stdout",
          "text": [
            "{'WiziShop': (datetime.datetime(2020, 7, 14, 0, 0), '2,856,769')}\n",
            "\n"
          ]
        },
        {
          "output_type": "display_data",
          "data": {
            "text/plain": [
              "<IPython.core.display.HTML object>"
            ],
            "text/html": [
              "<a href=https://haveibeenpwned.com/PwnedWebsites#Wongnai>Wongnai</a>"
            ]
          },
          "metadata": {}
        },
        {
          "output_type": "stream",
          "name": "stdout",
          "text": [
            "{'Wongnai': (datetime.datetime(2020, 10, 28, 0, 0), '3,924,454')}\n",
            "\n"
          ]
        },
        {
          "output_type": "display_data",
          "data": {
            "text/plain": [
              "<IPython.core.display.HTML object>"
            ],
            "text/html": [
              "<a href=https://haveibeenpwned.com/PwnedWebsites#WPSandbox>WPSandbox</a>"
            ]
          },
          "metadata": {}
        },
        {
          "output_type": "stream",
          "name": "stdout",
          "text": [
            "{'WPSandbox': (datetime.datetime(2018, 11, 4, 0, 0), '858')}\n",
            "\n"
          ]
        },
        {
          "output_type": "display_data",
          "data": {
            "text/plain": [
              "<IPython.core.display.HTML object>"
            ],
            "text/html": [
              "<a href=https://haveibeenpwned.com/PwnedWebsites#WPT>WPT</a>"
            ]
          },
          "metadata": {}
        },
        {
          "output_type": "stream",
          "name": "stdout",
          "text": [
            "{'WPT Amateur Poker League': (datetime.datetime(2014, 1, 4, 0, 0), '148,366')}\n",
            "\n"
          ]
        },
        {
          "output_type": "display_data",
          "data": {
            "text/plain": [
              "<IPython.core.display.HTML object>"
            ],
            "text/html": [
              "<a href=https://haveibeenpwned.com/PwnedWebsites#xat>xat</a>"
            ]
          },
          "metadata": {}
        },
        {
          "output_type": "stream",
          "name": "stdout",
          "text": [
            "{'xat': (datetime.datetime(2015, 11, 4, 0, 0), '5,968,783')}\n",
            "\n"
          ]
        },
        {
          "output_type": "display_data",
          "data": {
            "text/plain": [
              "<IPython.core.display.HTML object>"
            ],
            "text/html": [
              "<a href=https://haveibeenpwned.com/PwnedWebsites#Xbox360ISO>Xbox360ISO</a>"
            ]
          },
          "metadata": {}
        },
        {
          "output_type": "stream",
          "name": "stdout",
          "text": [
            "{'Xbox 360 ISO': (datetime.datetime(2015, 9, 25, 0, 0), '1,296,959')}\n",
            "\n"
          ]
        },
        {
          "output_type": "display_data",
          "data": {
            "text/plain": [
              "<IPython.core.display.HTML object>"
            ],
            "text/html": [
              "<a href=https://haveibeenpwned.com/PwnedWebsites#Xbox-Scene>Xbox-Scene</a>"
            ]
          },
          "metadata": {}
        },
        {
          "output_type": "stream",
          "name": "stdout",
          "text": [
            "{'Xbox-Scene': (datetime.datetime(2015, 2, 1, 0, 0), '432,552')}\n",
            "\n"
          ]
        },
        {
          "output_type": "display_data",
          "data": {
            "text/plain": [
              "<IPython.core.display.HTML object>"
            ],
            "text/html": [
              "<a href=https://haveibeenpwned.com/PwnedWebsites#xHamster>xHamster</a>"
            ]
          },
          "metadata": {}
        },
        {
          "output_type": "stream",
          "name": "stdout",
          "text": [
            "{'xHamster': (datetime.datetime(2016, 11, 28, 0, 0), '377,377')}\n",
            "\n"
          ]
        },
        {
          "output_type": "display_data",
          "data": {
            "text/plain": [
              "<IPython.core.display.HTML object>"
            ],
            "text/html": [
              "<a href=https://haveibeenpwned.com/PwnedWebsites#Xiaomi>Xiaomi</a>"
            ]
          },
          "metadata": {}
        },
        {
          "output_type": "stream",
          "name": "stdout",
          "text": [
            "{'Xiaomi': (datetime.datetime(2012, 8, 1, 0, 0), '7,088,010')}\n",
            "\n"
          ]
        },
        {
          "output_type": "display_data",
          "data": {
            "text/plain": [
              "<IPython.core.display.HTML object>"
            ],
            "text/html": [
              "<a href=https://haveibeenpwned.com/PwnedWebsites#XKCD>XKCD</a>"
            ]
          },
          "metadata": {}
        },
        {
          "output_type": "stream",
          "name": "stdout",
          "text": [
            "{'XKCD': (datetime.datetime(2019, 7, 1, 0, 0), '561,991')}\n",
            "\n"
          ]
        },
        {
          "output_type": "display_data",
          "data": {
            "text/plain": [
              "<IPython.core.display.HTML object>"
            ],
            "text/html": [
              "<a href=https://haveibeenpwned.com/PwnedWebsites#XPGameSaves>XPGameSaves</a>"
            ]
          },
          "metadata": {}
        },
        {
          "output_type": "stream",
          "name": "stdout",
          "text": [
            "{'XPG': (datetime.datetime(2016, 1, 1, 0, 0), '890,341')}\n",
            "\n"
          ]
        },
        {
          "output_type": "display_data",
          "data": {
            "text/plain": [
              "<IPython.core.display.HTML object>"
            ],
            "text/html": [
              "<a href=https://haveibeenpwned.com/PwnedWebsites#XSplit>XSplit</a>"
            ]
          },
          "metadata": {}
        },
        {
          "output_type": "stream",
          "name": "stdout",
          "text": [
            "{'XSplit': (datetime.datetime(2013, 11, 7, 0, 0), '2,983,472')}\n",
            "\n"
          ]
        },
        {
          "output_type": "display_data",
          "data": {
            "text/plain": [
              "<IPython.core.display.HTML object>"
            ],
            "text/html": [
              "<a href=https://haveibeenpwned.com/PwnedWebsites#Yahoo>Yahoo</a>"
            ]
          },
          "metadata": {}
        },
        {
          "output_type": "stream",
          "name": "stdout",
          "text": [
            "{'Yahoo': (datetime.datetime(2012, 7, 11, 0, 0), '453,427')}\n",
            "\n"
          ]
        },
        {
          "output_type": "display_data",
          "data": {
            "text/plain": [
              "<IPython.core.display.HTML object>"
            ],
            "text/html": [
              "<a href=https://haveibeenpwned.com/PwnedWebsites#Yam>Yam</a>"
            ]
          },
          "metadata": {}
        },
        {
          "output_type": "stream",
          "name": "stdout",
          "text": [
            "{'Yam': (datetime.datetime(2013, 6, 2, 0, 0), '13,258,797')}\n",
            "\n"
          ]
        },
        {
          "output_type": "display_data",
          "data": {
            "text/plain": [
              "<IPython.core.display.HTML object>"
            ],
            "text/html": [
              "<a href=https://haveibeenpwned.com/PwnedWebsites#Yandex>Yandex</a>"
            ]
          },
          "metadata": {}
        },
        {
          "output_type": "stream",
          "name": "stdout",
          "text": [
            "{'Yandex Dump': (datetime.datetime(2014, 9, 7, 0, 0), '1,186,564')}\n",
            "\n"
          ]
        },
        {
          "output_type": "display_data",
          "data": {
            "text/plain": [
              "<IPython.core.display.HTML object>"
            ],
            "text/html": [
              "<a href=https://haveibeenpwned.com/PwnedWebsites#Yatra>Yatra</a>"
            ]
          },
          "metadata": {}
        },
        {
          "output_type": "stream",
          "name": "stdout",
          "text": [
            "{'Yatra': (datetime.datetime(2013, 9, 1, 0, 0), '5,033,997')}\n",
            "\n"
          ]
        },
        {
          "output_type": "display_data",
          "data": {
            "text/plain": [
              "<IPython.core.display.HTML object>"
            ],
            "text/html": [
              "<a href=https://haveibeenpwned.com/PwnedWebsites#YoteprestoCom>YoteprestoCom</a>"
            ]
          },
          "metadata": {}
        },
        {
          "output_type": "stream",
          "name": "stdout",
          "text": [
            "{'yotepresto.com': (datetime.datetime(2020, 6, 22, 0, 0), '1,444,629')}\n",
            "\n"
          ]
        },
        {
          "output_type": "display_data",
          "data": {
            "text/plain": [
              "<IPython.core.display.HTML object>"
            ],
            "text/html": [
              "<a href=https://haveibeenpwned.com/PwnedWebsites#Youku>Youku</a>"
            ]
          },
          "metadata": {}
        },
        {
          "output_type": "stream",
          "name": "stdout",
          "text": [
            "{'Youku': (datetime.datetime(2016, 12, 1, 0, 0), '91,890,110')}\n",
            "\n"
          ]
        },
        {
          "output_type": "display_data",
          "data": {
            "text/plain": [
              "<IPython.core.display.HTML object>"
            ],
            "text/html": [
              "<a href=https://haveibeenpwned.com/PwnedWebsites#YouNow>YouNow</a>"
            ]
          },
          "metadata": {}
        },
        {
          "output_type": "stream",
          "name": "stdout",
          "text": [
            "{'YouNow': (datetime.datetime(2019, 2, 15, 0, 0), '18,241,518')}\n",
            "\n"
          ]
        },
        {
          "output_type": "display_data",
          "data": {
            "text/plain": [
              "<IPython.core.display.HTML object>"
            ],
            "text/html": [
              "<a href=https://haveibeenpwned.com/PwnedWebsites#YouPorn>YouPorn</a>"
            ]
          },
          "metadata": {}
        },
        {
          "output_type": "stream",
          "name": "stdout",
          "text": [
            "{'YouPorn': (datetime.datetime(2012, 2, 21, 0, 0), '1,327,567')}\n",
            "\n"
          ]
        },
        {
          "output_type": "display_data",
          "data": {
            "text/plain": [
              "<IPython.core.display.HTML object>"
            ],
            "text/html": [
              "<a href=https://haveibeenpwned.com/PwnedWebsites#YouveBeenScraped>YouveBeenScraped</a>"
            ]
          },
          "metadata": {}
        },
        {
          "output_type": "stream",
          "name": "stdout",
          "text": [
            "{\"You've Been Scraped\": (datetime.datetime(2018, 10, 5, 0, 0), '66,147,869')}\n",
            "\n"
          ]
        },
        {
          "output_type": "display_data",
          "data": {
            "text/plain": [
              "<IPython.core.display.HTML object>"
            ],
            "text/html": [
              "<a href=https://haveibeenpwned.com/PwnedWebsites#ZAPHosting>ZAPHosting</a>"
            ]
          },
          "metadata": {}
        },
        {
          "output_type": "stream",
          "name": "stdout",
          "text": [
            "{'ZAP-Hosting': (datetime.datetime(2021, 11, 22, 0, 0), '746,682')}\n",
            "\n"
          ]
        },
        {
          "output_type": "display_data",
          "data": {
            "text/plain": [
              "<IPython.core.display.HTML object>"
            ],
            "text/html": [
              "<a href=https://haveibeenpwned.com/PwnedWebsites#Zhenai>Zhenai</a>"
            ]
          },
          "metadata": {}
        },
        {
          "output_type": "stream",
          "name": "stdout",
          "text": [
            "{'Zhenai.com': (datetime.datetime(2011, 12, 21, 0, 0), '5,024,908')}\n",
            "\n"
          ]
        },
        {
          "output_type": "display_data",
          "data": {
            "text/plain": [
              "<IPython.core.display.HTML object>"
            ],
            "text/html": [
              "<a href=https://haveibeenpwned.com/PwnedWebsites#Zomato>Zomato</a>"
            ]
          },
          "metadata": {}
        },
        {
          "output_type": "stream",
          "name": "stdout",
          "text": [
            "{'Zomato': (datetime.datetime(2017, 5, 17, 0, 0), '16,472,873')}\n",
            "\n"
          ]
        },
        {
          "output_type": "display_data",
          "data": {
            "text/plain": [
              "<IPython.core.display.HTML object>"
            ],
            "text/html": [
              "<a href=https://haveibeenpwned.com/PwnedWebsites#Zoomcar>Zoomcar</a>"
            ]
          },
          "metadata": {}
        },
        {
          "output_type": "stream",
          "name": "stdout",
          "text": [
            "{'Zoomcar': (datetime.datetime(2018, 7, 1, 0, 0), '3,589,795')}\n",
            "\n"
          ]
        },
        {
          "output_type": "display_data",
          "data": {
            "text/plain": [
              "<IPython.core.display.HTML object>"
            ],
            "text/html": [
              "<a href=https://haveibeenpwned.com/PwnedWebsites#Zoosk>Zoosk</a>"
            ]
          },
          "metadata": {}
        },
        {
          "output_type": "stream",
          "name": "stdout",
          "text": [
            "{'Zoosk (2011)': (datetime.datetime(2011, 1, 1, 0, 0), '52,578,183')}\n",
            "\n"
          ]
        },
        {
          "output_type": "display_data",
          "data": {
            "text/plain": [
              "<IPython.core.display.HTML object>"
            ],
            "text/html": [
              "<a href=https://haveibeenpwned.com/PwnedWebsites#Zoosk2020>Zoosk2020</a>"
            ]
          },
          "metadata": {}
        },
        {
          "output_type": "stream",
          "name": "stdout",
          "text": [
            "{'Zoosk (2020)': (datetime.datetime(2020, 1, 12, 0, 0), '23,927,853')}\n",
            "\n"
          ]
        },
        {
          "output_type": "display_data",
          "data": {
            "text/plain": [
              "<IPython.core.display.HTML object>"
            ],
            "text/html": [
              "<a href=https://haveibeenpwned.com/PwnedWebsites#Zooville>Zooville</a>"
            ]
          },
          "metadata": {}
        },
        {
          "output_type": "stream",
          "name": "stdout",
          "text": [
            "{'Zooville': (datetime.datetime(2019, 9, 27, 0, 0), '71,407')}\n",
            "\n"
          ]
        },
        {
          "output_type": "display_data",
          "data": {
            "text/plain": [
              "<IPython.core.display.HTML object>"
            ],
            "text/html": [
              "<a href=https://haveibeenpwned.com/PwnedWebsites#Zurich>Zurich</a>"
            ]
          },
          "metadata": {}
        },
        {
          "output_type": "stream",
          "name": "stdout",
          "text": [
            "{'Zurich': (datetime.datetime(2023, 1, 8, 0, 0), '756,737')}\n",
            "\n"
          ]
        },
        {
          "output_type": "display_data",
          "data": {
            "text/plain": [
              "<IPython.core.display.HTML object>"
            ],
            "text/html": [
              "<a href=https://haveibeenpwned.com/PwnedWebsites#Zynga>Zynga</a>"
            ]
          },
          "metadata": {}
        },
        {
          "output_type": "stream",
          "name": "stdout",
          "text": [
            "{'Zynga': (datetime.datetime(2019, 9, 1, 0, 0), '172,869,660')}\n",
            "\n"
          ]
        },
        {
          "output_type": "display_data",
          "data": {
            "text/plain": [
              "<IPython.core.display.HTML object>"
            ],
            "text/html": [
              "<a href=https://haveibeenpwned.com/PwnedWebsites#Parapa>Parapa</a>"
            ]
          },
          "metadata": {}
        },
        {
          "output_type": "stream",
          "name": "stdout",
          "text": [
            "{'Пара Па': (datetime.datetime(2016, 8, 8, 0, 0), '4,946,850')}\n",
            "\n"
          ]
        },
        {
          "output_type": "display_data",
          "data": {
            "text/plain": [
              "<IPython.core.display.HTML object>"
            ],
            "text/html": [
              "<a href=https://haveibeenpwned.com/PwnedWebsites#SprashivaiRu>SprashivaiRu</a>"
            ]
          },
          "metadata": {}
        },
        {
          "output_type": "stream",
          "name": "stdout",
          "text": [
            "{'Спрашивай.ру': (datetime.datetime(2015, 5, 11, 0, 0), '3,474,763')}\n",
            "\n"
          ]
        },
        {
          "output_type": "display_data",
          "data": {
            "text/plain": [
              "<IPython.core.display.HTML object>"
            ],
            "text/html": [
              "<a href=https://haveibeenpwned.com/PwnedWebsites#DecoratingTheHouse>DecoratingTheHouse</a>"
            ]
          },
          "metadata": {}
        },
        {
          "output_type": "stream",
          "name": "stdout",
          "text": [
            "{'집꾸미기': (datetime.datetime(2020, 3, 27, 0, 0), '1,298,651')}\n",
            "\n"
          ]
        }
      ]
    },
    {
      "cell_type": "code",
      "source": [
        "earliest_hacked = {k: v for k, v in sorted( dictails.items(), key=lambda item: item[1][0] )}\n",
        "most_hacked     = {k: v for k, v in sorted( dictails.items(), key=lambda item: item[1][1] )}\n",
        "sort_by_keys    = {k: v for k, v in sorted( dictails.items(), key=lambda item: item[0]    )}"
      ],
      "metadata": {
        "id": "9vl-PEuiggUJ"
      },
      "execution_count": 76,
      "outputs": []
    },
    {
      "cell_type": "code",
      "source": [
        "import pandas as pd\n",
        "df_most_hacked = pd.DataFrame.from_dict(most_hacked, orient='index')\n",
        "df_most_hacked"
      ],
      "metadata": {
        "colab": {
          "base_uri": "https://localhost:8080/",
          "height": 328
        },
        "id": "k38vJvwWhg-Y",
        "outputId": "26f28495-48d5-44cd-8bb6-24ab97fa86a0"
      },
      "execution_count": 81,
      "outputs": [
        {
          "output_type": "execute_result",
          "data": {
            "text/plain": [
              "                                0          1\n",
              "War Inc.               2012-07-04  1,020,136\n",
              "SitePoint              2020-06-20  1,021,790\n",
              "R2 (2017 forum breach) 2017-01-01  1,023,466\n",
              "StoryBird              2015-08-07  1,047,200\n",
              "Shotbow                2016-05-09  1,052,753\n",
              "...                           ...        ...\n",
              "StreetEasy             2016-06-28    988,230\n",
              "PetFlow                2017-12-09    990,919\n",
              "Bolt                   2017-03-01    995,274\n",
              "Little Monsters        2017-01-01    995,698\n",
              "HongFire               2015-03-01    999,991\n",
              "\n",
              "[663 rows x 2 columns]"
            ],
            "text/html": [
              "\n",
              "  <div id=\"df-b0c74109-2832-4581-95da-ed72a18ab3b1\">\n",
              "    <div class=\"colab-df-container\">\n",
              "      <div>\n",
              "<style scoped>\n",
              "    .dataframe tbody tr th:only-of-type {\n",
              "        vertical-align: middle;\n",
              "    }\n",
              "\n",
              "    .dataframe tbody tr th {\n",
              "        vertical-align: top;\n",
              "    }\n",
              "\n",
              "    .dataframe thead th {\n",
              "        text-align: right;\n",
              "    }\n",
              "</style>\n",
              "<table border=\"1\" class=\"dataframe\">\n",
              "  <thead>\n",
              "    <tr style=\"text-align: right;\">\n",
              "      <th></th>\n",
              "      <th>0</th>\n",
              "      <th>1</th>\n",
              "    </tr>\n",
              "  </thead>\n",
              "  <tbody>\n",
              "    <tr>\n",
              "      <th>War Inc.</th>\n",
              "      <td>2012-07-04</td>\n",
              "      <td>1,020,136</td>\n",
              "    </tr>\n",
              "    <tr>\n",
              "      <th>SitePoint</th>\n",
              "      <td>2020-06-20</td>\n",
              "      <td>1,021,790</td>\n",
              "    </tr>\n",
              "    <tr>\n",
              "      <th>R2 (2017 forum breach)</th>\n",
              "      <td>2017-01-01</td>\n",
              "      <td>1,023,466</td>\n",
              "    </tr>\n",
              "    <tr>\n",
              "      <th>StoryBird</th>\n",
              "      <td>2015-08-07</td>\n",
              "      <td>1,047,200</td>\n",
              "    </tr>\n",
              "    <tr>\n",
              "      <th>Shotbow</th>\n",
              "      <td>2016-05-09</td>\n",
              "      <td>1,052,753</td>\n",
              "    </tr>\n",
              "    <tr>\n",
              "      <th>...</th>\n",
              "      <td>...</td>\n",
              "      <td>...</td>\n",
              "    </tr>\n",
              "    <tr>\n",
              "      <th>StreetEasy</th>\n",
              "      <td>2016-06-28</td>\n",
              "      <td>988,230</td>\n",
              "    </tr>\n",
              "    <tr>\n",
              "      <th>PetFlow</th>\n",
              "      <td>2017-12-09</td>\n",
              "      <td>990,919</td>\n",
              "    </tr>\n",
              "    <tr>\n",
              "      <th>Bolt</th>\n",
              "      <td>2017-03-01</td>\n",
              "      <td>995,274</td>\n",
              "    </tr>\n",
              "    <tr>\n",
              "      <th>Little Monsters</th>\n",
              "      <td>2017-01-01</td>\n",
              "      <td>995,698</td>\n",
              "    </tr>\n",
              "    <tr>\n",
              "      <th>HongFire</th>\n",
              "      <td>2015-03-01</td>\n",
              "      <td>999,991</td>\n",
              "    </tr>\n",
              "  </tbody>\n",
              "</table>\n",
              "<p>663 rows × 2 columns</p>\n",
              "</div>\n",
              "      <button class=\"colab-df-convert\" onclick=\"convertToInteractive('df-b0c74109-2832-4581-95da-ed72a18ab3b1')\"\n",
              "              title=\"Convert this dataframe to an interactive table.\"\n",
              "              style=\"display:none;\">\n",
              "        \n",
              "  <svg xmlns=\"http://www.w3.org/2000/svg\" height=\"24px\"viewBox=\"0 0 24 24\"\n",
              "       width=\"24px\">\n",
              "    <path d=\"M0 0h24v24H0V0z\" fill=\"none\"/>\n",
              "    <path d=\"M18.56 5.44l.94 2.06.94-2.06 2.06-.94-2.06-.94-.94-2.06-.94 2.06-2.06.94zm-11 1L8.5 8.5l.94-2.06 2.06-.94-2.06-.94L8.5 2.5l-.94 2.06-2.06.94zm10 10l.94 2.06.94-2.06 2.06-.94-2.06-.94-.94-2.06-.94 2.06-2.06.94z\"/><path d=\"M17.41 7.96l-1.37-1.37c-.4-.4-.92-.59-1.43-.59-.52 0-1.04.2-1.43.59L10.3 9.45l-7.72 7.72c-.78.78-.78 2.05 0 2.83L4 21.41c.39.39.9.59 1.41.59.51 0 1.02-.2 1.41-.59l7.78-7.78 2.81-2.81c.8-.78.8-2.07 0-2.86zM5.41 20L4 18.59l7.72-7.72 1.47 1.35L5.41 20z\"/>\n",
              "  </svg>\n",
              "      </button>\n",
              "      \n",
              "  <style>\n",
              "    .colab-df-container {\n",
              "      display:flex;\n",
              "      flex-wrap:wrap;\n",
              "      gap: 12px;\n",
              "    }\n",
              "\n",
              "    .colab-df-convert {\n",
              "      background-color: #E8F0FE;\n",
              "      border: none;\n",
              "      border-radius: 50%;\n",
              "      cursor: pointer;\n",
              "      display: none;\n",
              "      fill: #1967D2;\n",
              "      height: 32px;\n",
              "      padding: 0 0 0 0;\n",
              "      width: 32px;\n",
              "    }\n",
              "\n",
              "    .colab-df-convert:hover {\n",
              "      background-color: #E2EBFA;\n",
              "      box-shadow: 0px 1px 2px rgba(60, 64, 67, 0.3), 0px 1px 3px 1px rgba(60, 64, 67, 0.15);\n",
              "      fill: #174EA6;\n",
              "    }\n",
              "\n",
              "    [theme=dark] .colab-df-convert {\n",
              "      background-color: #3B4455;\n",
              "      fill: #D2E3FC;\n",
              "    }\n",
              "\n",
              "    [theme=dark] .colab-df-convert:hover {\n",
              "      background-color: #434B5C;\n",
              "      box-shadow: 0px 1px 3px 1px rgba(0, 0, 0, 0.15);\n",
              "      filter: drop-shadow(0px 1px 2px rgba(0, 0, 0, 0.3));\n",
              "      fill: #FFFFFF;\n",
              "    }\n",
              "  </style>\n",
              "\n",
              "      <script>\n",
              "        const buttonEl =\n",
              "          document.querySelector('#df-b0c74109-2832-4581-95da-ed72a18ab3b1 button.colab-df-convert');\n",
              "        buttonEl.style.display =\n",
              "          google.colab.kernel.accessAllowed ? 'block' : 'none';\n",
              "\n",
              "        async function convertToInteractive(key) {\n",
              "          const element = document.querySelector('#df-b0c74109-2832-4581-95da-ed72a18ab3b1');\n",
              "          const dataTable =\n",
              "            await google.colab.kernel.invokeFunction('convertToInteractive',\n",
              "                                                     [key], {});\n",
              "          if (!dataTable) return;\n",
              "\n",
              "          const docLinkHtml = 'Like what you see? Visit the ' +\n",
              "            '<a target=\"_blank\" href=https://colab.research.google.com/notebooks/data_table.ipynb>data table notebook</a>'\n",
              "            + ' to learn more about interactive tables.';\n",
              "          element.innerHTML = '';\n",
              "          dataTable['output_type'] = 'display_data';\n",
              "          await google.colab.output.renderOutput(dataTable, element);\n",
              "          const docLink = document.createElement('div');\n",
              "          docLink.innerHTML = docLinkHtml;\n",
              "          element.appendChild(docLink);\n",
              "        }\n",
              "      </script>\n",
              "    </div>\n",
              "  </div>\n",
              "  "
            ]
          },
          "metadata": {},
          "execution_count": 81
        }
      ]
    },
    {
      "cell_type": "code",
      "source": [
        "df_most_hacked.to_csv('most_hacked.csv')"
      ],
      "metadata": {
        "id": "3PR-ROnmky3a"
      },
      "execution_count": 87,
      "outputs": []
    },
    {
      "cell_type": "code",
      "source": [
        "df_earliest_hacked = pd.DataFrame.from_dict(earliest_hacked, orient='index')\n",
        "df_earliest_hacked.to_csv('earliest_hacked.csv')"
      ],
      "metadata": {
        "id": "cI-__zL1oQWf"
      },
      "execution_count": 85,
      "outputs": []
    },
    {
      "cell_type": "code",
      "source": [
        "alphabetical_hacked = pd.DataFrame.from_dict(sort_by_keys, orient='index')\n",
        "alphabetical_hacked.to_csv('alphabetical_hacked.csv')"
      ],
      "metadata": {
        "id": "PsKaWeRBpaz1"
      },
      "execution_count": 86,
      "outputs": []
    },
    {
      "cell_type": "code",
      "source": [],
      "metadata": {
        "id": "AXH0qzhGpu2D"
      },
      "execution_count": null,
      "outputs": []
    }
  ]
}