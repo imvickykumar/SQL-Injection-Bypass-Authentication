{
  "cells": [
    {
      "cell_type": "markdown",
      "metadata": {
        "id": "uJ6gZ9cKLCfx"
      },
      "source": [
        "# [SQL using Python](https://www.geeksforgeeks.org/sql-using-python)"
      ]
    },
    {
      "cell_type": "code",
      "execution_count": 5,
      "metadata": {
        "id": "xtpN4QPzK2Tg"
      },
      "outputs": [],
      "source": [
        "# ! pip install mysql-connector-python"
      ]
    },
    {
      "cell_type": "code",
      "execution_count": 1,
      "metadata": {
        "id": "rdybIaySLMwN"
      },
      "outputs": [],
      "source": [
        "import sqlite3"
      ]
    },
    {
      "cell_type": "code",
      "execution_count": 2,
      "metadata": {
        "colab": {
          "base_uri": "https://localhost:8080/"
        },
        "id": "PEtzpDBox4VV",
        "outputId": "25b3751d-ef29-43f7-c421-b6ed97aa58a8"
      },
      "outputs": [
        {
          "data": {
            "text/plain": [
              "<sqlite3.Connection at 0x20f0fe23e40>"
            ]
          },
          "execution_count": 2,
          "metadata": {},
          "output_type": "execute_result"
        }
      ],
      "source": [
        "sqliteConnection = sqlite3.connect('gfg.db')\n",
        "sqliteConnection"
      ]
    },
    {
      "cell_type": "code",
      "execution_count": 3,
      "metadata": {
        "colab": {
          "base_uri": "https://localhost:8080/"
        },
        "id": "sYr0bX-Tyk1B",
        "outputId": "ec5a59e9-7ee9-4426-c688-4b8d89b90436"
      },
      "outputs": [
        {
          "data": {
            "text/plain": [
              "<sqlite3.Cursor at 0x20f100243b0>"
            ]
          },
          "execution_count": 3,
          "metadata": {},
          "output_type": "execute_result"
        }
      ],
      "source": [
        "cursor = sqliteConnection.cursor()\n",
        "cursor"
      ]
    },
    {
      "cell_type": "code",
      "execution_count": 4,
      "metadata": {
        "colab": {
          "base_uri": "https://localhost:8080/"
        },
        "id": "oSxdPslOy9PP",
        "outputId": "537458a1-87b0-4483-e684-fd5af45c9bd8"
      },
      "outputs": [
        {
          "name": "stdout",
          "output_type": "stream",
          "text": [
            "Connected to the database\n"
          ]
        }
      ],
      "source": [
        "import sqlite3\n",
        " \n",
        "# connecting to the database\n",
        "connection = sqlite3.connect(\"gfg.db\")\n",
        " \n",
        "# cursor\n",
        "crsr = connection.cursor()\n",
        " \n",
        "# print statement will execute if there\n",
        "# are no errors\n",
        "print(\"Connected to the database\")\n",
        " \n",
        "# close the connection\n",
        "connection.close()"
      ]
    },
    {
      "cell_type": "code",
      "execution_count": 5,
      "metadata": {
        "id": "R2TUGvLwzrei"
      },
      "outputs": [],
      "source": [
        "import sqlite3\n",
        " \n",
        "# connecting to the database\n",
        "connection = sqlite3.connect(\"gfg.db\")\n",
        " \n",
        "# cursor\n",
        "crsr = connection.cursor()\n",
        " \n",
        "# SQL command to create a table in the database\n",
        "sql_command = \"\"\"\n",
        "CREATE TABLE emp (\n",
        "staff_number INTEGER PRIMARY KEY,\n",
        "fname VARCHAR(20),\n",
        "lname VARCHAR(30),\n",
        "gender CHAR(1),\n",
        "joining DATE);\n",
        "\"\"\"\n",
        " \n",
        "# execute the statement\n",
        "crsr.execute(sql_command)\n",
        " \n",
        "# close the connection\n",
        "connection.close()"
      ]
    },
    {
      "cell_type": "code",
      "execution_count": 6,
      "metadata": {
        "id": "aGyNlqyp1YJz"
      },
      "outputs": [],
      "source": [
        "# Python code to demonstrate table creation and\n",
        "# insertions with SQL\n",
        " \n",
        "# importing module\n",
        "import sqlite3\n",
        " \n",
        "# connecting to the database\n",
        "connection = sqlite3.connect(\"gfg.db\")\n",
        " \n",
        "# cursor\n",
        "crsr = connection.cursor()\n",
        " \n",
        "# SQL command to insert the data in the table\n",
        "sql_command = \"\"\"\n",
        "INSERT INTO emp VALUES (23, \"Rishabh\", \"Bansal\", \"M\", \"2014-03-28\");\n",
        "\"\"\"\n",
        "crsr.execute(sql_command)\n",
        " \n",
        "# another SQL command to insert the data in the table\n",
        "sql_command = \"\"\"\n",
        "INSERT INTO emp VALUES (1, \"Bill\", \"Gates\", \"M\", \"1980-10-28\");\n",
        "\"\"\"\n",
        "crsr.execute(sql_command)\n",
        " \n",
        "# To save the changes in the files. Never skip this.\n",
        "# If we skip this, nothing will be saved in the database.\n",
        "connection.commit()\n",
        " \n",
        "# close the connection\n",
        "connection.close()"
      ]
    },
    {
      "cell_type": "code",
      "execution_count": 7,
      "metadata": {
        "id": "Oe4e446T1x1R"
      },
      "outputs": [],
      "source": [
        "# importing module\n",
        "import sqlite3\n",
        " \n",
        "# connecting to the database\n",
        "connection = sqlite3.connect(\"gfg.db\")\n",
        " \n",
        "# cursor\n",
        "crsr = connection.cursor()\n",
        " \n",
        "# primary key\n",
        "pk = [2, 3, 4, 5, 6]\n",
        " \n",
        "# Enter 5 students first names\n",
        "f_name = ['Nikhil', 'Nisha', 'Abhinav', 'Raju', 'Anshul']\n",
        " \n",
        "# Enter 5 students last names\n",
        "l_name = ['Aggarwal', 'Rawat', 'Tomar', 'Kumar', 'Aggarwal']\n",
        " \n",
        "# Enter their gender respectively\n",
        "gender = ['M', 'F', 'M', 'M', 'F']\n",
        " \n",
        "# Enter their joining data respectively\n",
        "date = ['2019-08-24', '2020-01-01', '2018-05-14', '2015-02-02', '2018-05-14']\n",
        " \n",
        "for i in range(5):\n",
        "    # This is the q-mark style:\n",
        "    crsr.execute(f'INSERT INTO emp VALUES ({pk[i]}, \"{f_name[i]}\", \"{l_name[i]}\", \"{gender[i]}\", \"{date[i]}\")')\n",
        " \n",
        "# To save the changes in the files. Never skip this.\n",
        "# If we skip this, nothing will be saved in the database.\n",
        "connection.commit()\n",
        " \n",
        "# close the connection\n",
        "connection.close()"
      ]
    },
    {
      "cell_type": "code",
      "execution_count": 8,
      "metadata": {
        "colab": {
          "base_uri": "https://localhost:8080/"
        },
        "id": "v9BVXNxD2aTv",
        "outputId": "5a897489-9cb1-4ceb-f506-d6225b1d1466"
      },
      "outputs": [
        {
          "name": "stdout",
          "output_type": "stream",
          "text": [
            "(1, 'Bill', 'Gates', 'M', '1980-10-28')\n",
            "(2, 'Nikhil', 'Aggarwal', 'M', '2019-08-24')\n",
            "(3, 'Nisha', 'Rawat', 'F', '2020-01-01')\n",
            "(4, 'Abhinav', 'Tomar', 'M', '2018-05-14')\n",
            "(5, 'Raju', 'Kumar', 'M', '2015-02-02')\n",
            "(6, 'Anshul', 'Aggarwal', 'F', '2018-05-14')\n",
            "(23, 'Rishabh', 'Bansal', 'M', '2014-03-28')\n"
          ]
        }
      ],
      "source": [
        "# importing the module\n",
        "import sqlite3\n",
        " \n",
        "# connect with the myTable database\n",
        "connection = sqlite3.connect(\"gfg.db\")\n",
        " \n",
        "# cursor object\n",
        "crsr = connection.cursor()\n",
        " \n",
        "# execute the command to fetch all the data from the table emp\n",
        "crsr.execute(\"SELECT * FROM emp\")\n",
        " \n",
        "# store all the fetched data in the ans variable\n",
        "ans = crsr.fetchall()\n",
        " \n",
        "# Since we have already selected all the data entries\n",
        "# using the \"SELECT *\" SQL command and stored them in\n",
        "# the ans variable, all we need to do now is to print\n",
        "# out the ans variable\n",
        "for i in ans:\n",
        "    print(i)"
      ]
    },
    {
      "cell_type": "code",
      "execution_count": 9,
      "metadata": {
        "colab": {
          "base_uri": "https://localhost:8080/"
        },
        "id": "OwWCCkSZ2wTc",
        "outputId": "a38d1d28-7ae1-4850-da00-9843c4929a68"
      },
      "outputs": [
        {
          "data": {
            "text/plain": [
              "tuple"
            ]
          },
          "execution_count": 9,
          "metadata": {},
          "output_type": "execute_result"
        }
      ],
      "source": [
        "type(ans[0])"
      ]
    },
    {
      "cell_type": "code",
      "execution_count": 10,
      "metadata": {
        "id": "Rg1B7zJC24JR"
      },
      "outputs": [],
      "source": [
        "# Import module\n",
        "import sqlite3\n",
        " \n",
        "# Connecting to sqlite\n",
        "conn = sqlite3.connect('gfg.db')\n",
        " \n",
        "# Creating a cursor object using\n",
        "# the cursor() method\n",
        "cursor = conn.cursor()\n",
        " \n",
        "# Updating\n",
        "cursor.execute('''\n",
        "UPDATE emp SET lname = \"Jyoti\" WHERE fname=\"Rishabh\";\n",
        "''')\n",
        " \n",
        "# Commit your changes in the database\n",
        "conn.commit()\n",
        " \n",
        "# Closing the connection\n",
        "conn.close()"
      ]
    },
    {
      "cell_type": "code",
      "execution_count": 11,
      "metadata": {
        "colab": {
          "base_uri": "https://localhost:8080/"
        },
        "id": "1gpLYjOW3ZA-",
        "outputId": "60ae7398-50ef-427d-d097-bca96ae9c932"
      },
      "outputs": [
        {
          "data": {
            "text/plain": [
              "[(1, 'Bill', 'Gates', 'M', '1980-10-28'),\n",
              " (2, 'Nikhil', 'Aggarwal', 'M', '2019-08-24'),\n",
              " (3, 'Nisha', 'Rawat', 'F', '2020-01-01'),\n",
              " (4, 'Abhinav', 'Tomar', 'M', '2018-05-14'),\n",
              " (5, 'Raju', 'Kumar', 'M', '2015-02-02'),\n",
              " (6, 'Anshul', 'Aggarwal', 'F', '2018-05-14'),\n",
              " (23, 'Rishabh', 'Jyoti', 'M', '2014-03-28')]"
            ]
          },
          "execution_count": 11,
          "metadata": {},
          "output_type": "execute_result"
        }
      ],
      "source": [
        "crsr.execute(\"SELECT * FROM emp\")\n",
        "ans = crsr.fetchall()\n",
        "ans"
      ]
    },
    {
      "cell_type": "code",
      "execution_count": 12,
      "metadata": {
        "id": "OWcjKIVc3gmS"
      },
      "outputs": [],
      "source": [
        "# Import module\n",
        "import sqlite3\n",
        " \n",
        "# Connecting to sqlite\n",
        "conn = sqlite3.connect('gfg.db')\n",
        " \n",
        "# Creating a cursor object using\n",
        "# the cursor() method\n",
        "cursor = conn.cursor()\n",
        " \n",
        "# Updating\n",
        "cursor.execute('''\n",
        "DELETE FROM emp WHERE fname=\"Rishabh\";\n",
        "''')\n",
        " \n",
        "# Commit your changes in the database\n",
        "conn.commit()\n",
        " \n",
        "# Closing the connection\n",
        "conn.close()"
      ]
    },
    {
      "cell_type": "code",
      "execution_count": 13,
      "metadata": {
        "colab": {
          "base_uri": "https://localhost:8080/"
        },
        "id": "3ANEgzAK3zAT",
        "outputId": "b2198661-a1b3-4862-edc4-5119535261b2"
      },
      "outputs": [
        {
          "data": {
            "text/plain": [
              "[(1, 'Bill', 'Gates', 'M', '1980-10-28'),\n",
              " (2, 'Nikhil', 'Aggarwal', 'M', '2019-08-24'),\n",
              " (3, 'Nisha', 'Rawat', 'F', '2020-01-01'),\n",
              " (4, 'Abhinav', 'Tomar', 'M', '2018-05-14'),\n",
              " (5, 'Raju', 'Kumar', 'M', '2015-02-02'),\n",
              " (6, 'Anshul', 'Aggarwal', 'F', '2018-05-14')]"
            ]
          },
          "execution_count": 13,
          "metadata": {},
          "output_type": "execute_result"
        }
      ],
      "source": [
        "crsr.execute(\"SELECT * FROM emp\")\n",
        "ans = crsr.fetchall()\n",
        "ans"
      ]
    },
    {
      "cell_type": "code",
      "execution_count": 14,
      "metadata": {
        "id": "udaC846H4iui"
      },
      "outputs": [],
      "source": [
        "import sqlite3\n",
        " \n",
        "# connecting to the database\n",
        "connection = sqlite3.connect(\"gfg.db\")\n",
        " \n",
        "# cursor\n",
        "crsr = connection.cursor()\n",
        " \n",
        "# SQL command to create a table in the database\n",
        "sql_command = \"\"\"\n",
        "CREATE TABLE Student (\n",
        "staff_number INTEGER PRIMARY KEY,\n",
        "fname VARCHAR(20),\n",
        "lname VARCHAR(30),\n",
        "gender CHAR(1),\n",
        "joining DATE);\n",
        "\"\"\"\n",
        " \n",
        "# execute the statement\n",
        "crsr.execute(sql_command)\n",
        " \n",
        "# close the connection\n",
        "connection.close()"
      ]
    },
    {
      "cell_type": "code",
      "execution_count": 15,
      "metadata": {
        "id": "muGS4ikm32Gt"
      },
      "outputs": [],
      "source": [
        "# Import module\n",
        "import sqlite3\n",
        " \n",
        "# Connecting to sqlite\n",
        "conn = sqlite3.connect('gfg.db')\n",
        " \n",
        "# Creating a cursor object using\n",
        "# the cursor() method\n",
        "cursor = conn.cursor()\n",
        " \n",
        "# Updating\n",
        "cursor.execute('''\n",
        "DROP TABLE Student;\n",
        "''')\n",
        " \n",
        "# Commit your changes in the database\n",
        "conn.commit()\n",
        " \n",
        "# Closing the connection\n",
        "conn.close()"
      ]
    },
    {
      "cell_type": "code",
      "execution_count": 16,
      "metadata": {
        "colab": {
          "base_uri": "https://localhost:8080/"
        },
        "id": "2J05x8554C06",
        "outputId": "b2b54871-86c6-4d35-e6f8-d76cc0f848f0"
      },
      "outputs": [
        {
          "name": "stdout",
          "output_type": "stream",
          "text": [
            "no such table: Student\n"
          ]
        }
      ],
      "source": [
        "try:\n",
        "  conn = sqlite3.connect('gfg.db')\n",
        "  crsr = conn.cursor()\n",
        "  crsr.execute(\"SELECT * FROM Student\")\n",
        "  ans = crsr.fetchall()\n",
        "  \n",
        "except Exception as ans:\n",
        "  print(ans)"
      ]
    },
    {
      "cell_type": "code",
      "execution_count": null,
      "metadata": {
        "id": "mWYTJw484pP7"
      },
      "outputs": [],
      "source": []
    }
  ],
  "metadata": {
    "colab": {
      "provenance": []
    },
    "kernelspec": {
      "display_name": "Python 3",
      "name": "python3"
    },
    "language_info": {
      "codemirror_mode": {
        "name": "ipython",
        "version": 3
      },
      "file_extension": ".py",
      "mimetype": "text/x-python",
      "name": "python",
      "nbconvert_exporter": "python",
      "pygments_lexer": "ipython3",
      "version": "3.9.5"
    }
  },
  "nbformat": 4,
  "nbformat_minor": 0
}
